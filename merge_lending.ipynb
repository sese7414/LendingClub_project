{
 "cells": [
  {
   "cell_type": "markdown",
   "id": "f4d3dc31",
   "metadata": {},
   "source": [
    "# 데이터 살펴보기"
   ]
  },
  {
   "cell_type": "code",
   "execution_count": null,
   "id": "f31d843b",
   "metadata": {},
   "outputs": [
    {
     "ename": "FileNotFoundError",
     "evalue": "[Errno 2] No such file or directory: 'accepted_2007_to_2018Q4.csv'",
     "output_type": "error",
     "traceback": [
      "\u001b[31m---------------------------------------------------------------------------\u001b[39m",
      "\u001b[31mFileNotFoundError\u001b[39m                         Traceback (most recent call last)",
      "\u001b[36mCell\u001b[39m\u001b[36m \u001b[39m\u001b[32mIn[6]\u001b[39m\u001b[32m, line 17\u001b[39m\n\u001b[32m     15\u001b[39m sumin_file = \u001b[33m'\u001b[39m\u001b[33maccepted_2007_to_2018Q4 2.csv\u001b[39m\u001b[33m'\u001b[39m\n\u001b[32m     16\u001b[39m cleaned_file = \u001b[33m'\u001b[39m\u001b[33macc_cleaned.csv\u001b[39m\u001b[33m'\u001b[39m\n\u001b[32m---> \u001b[39m\u001b[32m17\u001b[39m acc = \u001b[43mpd\u001b[49m\u001b[43m.\u001b[49m\u001b[43mread_csv\u001b[49m\u001b[43m(\u001b[49m\u001b[43msehee_file\u001b[49m\u001b[43m)\u001b[49m\n\u001b[32m     19\u001b[39m \u001b[38;5;28mprint\u001b[39m(acc.shape)\n\u001b[32m     20\u001b[39m acc.head()\n",
      "\u001b[36mFile \u001b[39m\u001b[32m/Library/Frameworks/Python.framework/Versions/3.13/lib/python3.13/site-packages/pandas/io/parsers/readers.py:1026\u001b[39m, in \u001b[36mread_csv\u001b[39m\u001b[34m(filepath_or_buffer, sep, delimiter, header, names, index_col, usecols, dtype, engine, converters, true_values, false_values, skipinitialspace, skiprows, skipfooter, nrows, na_values, keep_default_na, na_filter, verbose, skip_blank_lines, parse_dates, infer_datetime_format, keep_date_col, date_parser, date_format, dayfirst, cache_dates, iterator, chunksize, compression, thousands, decimal, lineterminator, quotechar, quoting, doublequote, escapechar, comment, encoding, encoding_errors, dialect, on_bad_lines, delim_whitespace, low_memory, memory_map, float_precision, storage_options, dtype_backend)\u001b[39m\n\u001b[32m   1013\u001b[39m kwds_defaults = _refine_defaults_read(\n\u001b[32m   1014\u001b[39m     dialect,\n\u001b[32m   1015\u001b[39m     delimiter,\n\u001b[32m   (...)\u001b[39m\u001b[32m   1022\u001b[39m     dtype_backend=dtype_backend,\n\u001b[32m   1023\u001b[39m )\n\u001b[32m   1024\u001b[39m kwds.update(kwds_defaults)\n\u001b[32m-> \u001b[39m\u001b[32m1026\u001b[39m \u001b[38;5;28;01mreturn\u001b[39;00m \u001b[43m_read\u001b[49m\u001b[43m(\u001b[49m\u001b[43mfilepath_or_buffer\u001b[49m\u001b[43m,\u001b[49m\u001b[43m \u001b[49m\u001b[43mkwds\u001b[49m\u001b[43m)\u001b[49m\n",
      "\u001b[36mFile \u001b[39m\u001b[32m/Library/Frameworks/Python.framework/Versions/3.13/lib/python3.13/site-packages/pandas/io/parsers/readers.py:620\u001b[39m, in \u001b[36m_read\u001b[39m\u001b[34m(filepath_or_buffer, kwds)\u001b[39m\n\u001b[32m    617\u001b[39m _validate_names(kwds.get(\u001b[33m\"\u001b[39m\u001b[33mnames\u001b[39m\u001b[33m\"\u001b[39m, \u001b[38;5;28;01mNone\u001b[39;00m))\n\u001b[32m    619\u001b[39m \u001b[38;5;66;03m# Create the parser.\u001b[39;00m\n\u001b[32m--> \u001b[39m\u001b[32m620\u001b[39m parser = \u001b[43mTextFileReader\u001b[49m\u001b[43m(\u001b[49m\u001b[43mfilepath_or_buffer\u001b[49m\u001b[43m,\u001b[49m\u001b[43m \u001b[49m\u001b[43m*\u001b[49m\u001b[43m*\u001b[49m\u001b[43mkwds\u001b[49m\u001b[43m)\u001b[49m\n\u001b[32m    622\u001b[39m \u001b[38;5;28;01mif\u001b[39;00m chunksize \u001b[38;5;129;01mor\u001b[39;00m iterator:\n\u001b[32m    623\u001b[39m     \u001b[38;5;28;01mreturn\u001b[39;00m parser\n",
      "\u001b[36mFile \u001b[39m\u001b[32m/Library/Frameworks/Python.framework/Versions/3.13/lib/python3.13/site-packages/pandas/io/parsers/readers.py:1620\u001b[39m, in \u001b[36mTextFileReader.__init__\u001b[39m\u001b[34m(self, f, engine, **kwds)\u001b[39m\n\u001b[32m   1617\u001b[39m     \u001b[38;5;28mself\u001b[39m.options[\u001b[33m\"\u001b[39m\u001b[33mhas_index_names\u001b[39m\u001b[33m\"\u001b[39m] = kwds[\u001b[33m\"\u001b[39m\u001b[33mhas_index_names\u001b[39m\u001b[33m\"\u001b[39m]\n\u001b[32m   1619\u001b[39m \u001b[38;5;28mself\u001b[39m.handles: IOHandles | \u001b[38;5;28;01mNone\u001b[39;00m = \u001b[38;5;28;01mNone\u001b[39;00m\n\u001b[32m-> \u001b[39m\u001b[32m1620\u001b[39m \u001b[38;5;28mself\u001b[39m._engine = \u001b[38;5;28;43mself\u001b[39;49m\u001b[43m.\u001b[49m\u001b[43m_make_engine\u001b[49m\u001b[43m(\u001b[49m\u001b[43mf\u001b[49m\u001b[43m,\u001b[49m\u001b[43m \u001b[49m\u001b[38;5;28;43mself\u001b[39;49m\u001b[43m.\u001b[49m\u001b[43mengine\u001b[49m\u001b[43m)\u001b[49m\n",
      "\u001b[36mFile \u001b[39m\u001b[32m/Library/Frameworks/Python.framework/Versions/3.13/lib/python3.13/site-packages/pandas/io/parsers/readers.py:1880\u001b[39m, in \u001b[36mTextFileReader._make_engine\u001b[39m\u001b[34m(self, f, engine)\u001b[39m\n\u001b[32m   1878\u001b[39m     \u001b[38;5;28;01mif\u001b[39;00m \u001b[33m\"\u001b[39m\u001b[33mb\u001b[39m\u001b[33m\"\u001b[39m \u001b[38;5;129;01mnot\u001b[39;00m \u001b[38;5;129;01min\u001b[39;00m mode:\n\u001b[32m   1879\u001b[39m         mode += \u001b[33m\"\u001b[39m\u001b[33mb\u001b[39m\u001b[33m\"\u001b[39m\n\u001b[32m-> \u001b[39m\u001b[32m1880\u001b[39m \u001b[38;5;28mself\u001b[39m.handles = \u001b[43mget_handle\u001b[49m\u001b[43m(\u001b[49m\n\u001b[32m   1881\u001b[39m \u001b[43m    \u001b[49m\u001b[43mf\u001b[49m\u001b[43m,\u001b[49m\n\u001b[32m   1882\u001b[39m \u001b[43m    \u001b[49m\u001b[43mmode\u001b[49m\u001b[43m,\u001b[49m\n\u001b[32m   1883\u001b[39m \u001b[43m    \u001b[49m\u001b[43mencoding\u001b[49m\u001b[43m=\u001b[49m\u001b[38;5;28;43mself\u001b[39;49m\u001b[43m.\u001b[49m\u001b[43moptions\u001b[49m\u001b[43m.\u001b[49m\u001b[43mget\u001b[49m\u001b[43m(\u001b[49m\u001b[33;43m\"\u001b[39;49m\u001b[33;43mencoding\u001b[39;49m\u001b[33;43m\"\u001b[39;49m\u001b[43m,\u001b[49m\u001b[43m \u001b[49m\u001b[38;5;28;43;01mNone\u001b[39;49;00m\u001b[43m)\u001b[49m\u001b[43m,\u001b[49m\n\u001b[32m   1884\u001b[39m \u001b[43m    \u001b[49m\u001b[43mcompression\u001b[49m\u001b[43m=\u001b[49m\u001b[38;5;28;43mself\u001b[39;49m\u001b[43m.\u001b[49m\u001b[43moptions\u001b[49m\u001b[43m.\u001b[49m\u001b[43mget\u001b[49m\u001b[43m(\u001b[49m\u001b[33;43m\"\u001b[39;49m\u001b[33;43mcompression\u001b[39;49m\u001b[33;43m\"\u001b[39;49m\u001b[43m,\u001b[49m\u001b[43m \u001b[49m\u001b[38;5;28;43;01mNone\u001b[39;49;00m\u001b[43m)\u001b[49m\u001b[43m,\u001b[49m\n\u001b[32m   1885\u001b[39m \u001b[43m    \u001b[49m\u001b[43mmemory_map\u001b[49m\u001b[43m=\u001b[49m\u001b[38;5;28;43mself\u001b[39;49m\u001b[43m.\u001b[49m\u001b[43moptions\u001b[49m\u001b[43m.\u001b[49m\u001b[43mget\u001b[49m\u001b[43m(\u001b[49m\u001b[33;43m\"\u001b[39;49m\u001b[33;43mmemory_map\u001b[39;49m\u001b[33;43m\"\u001b[39;49m\u001b[43m,\u001b[49m\u001b[43m \u001b[49m\u001b[38;5;28;43;01mFalse\u001b[39;49;00m\u001b[43m)\u001b[49m\u001b[43m,\u001b[49m\n\u001b[32m   1886\u001b[39m \u001b[43m    \u001b[49m\u001b[43mis_text\u001b[49m\u001b[43m=\u001b[49m\u001b[43mis_text\u001b[49m\u001b[43m,\u001b[49m\n\u001b[32m   1887\u001b[39m \u001b[43m    \u001b[49m\u001b[43merrors\u001b[49m\u001b[43m=\u001b[49m\u001b[38;5;28;43mself\u001b[39;49m\u001b[43m.\u001b[49m\u001b[43moptions\u001b[49m\u001b[43m.\u001b[49m\u001b[43mget\u001b[49m\u001b[43m(\u001b[49m\u001b[33;43m\"\u001b[39;49m\u001b[33;43mencoding_errors\u001b[39;49m\u001b[33;43m\"\u001b[39;49m\u001b[43m,\u001b[49m\u001b[43m \u001b[49m\u001b[33;43m\"\u001b[39;49m\u001b[33;43mstrict\u001b[39;49m\u001b[33;43m\"\u001b[39;49m\u001b[43m)\u001b[49m\u001b[43m,\u001b[49m\n\u001b[32m   1888\u001b[39m \u001b[43m    \u001b[49m\u001b[43mstorage_options\u001b[49m\u001b[43m=\u001b[49m\u001b[38;5;28;43mself\u001b[39;49m\u001b[43m.\u001b[49m\u001b[43moptions\u001b[49m\u001b[43m.\u001b[49m\u001b[43mget\u001b[49m\u001b[43m(\u001b[49m\u001b[33;43m\"\u001b[39;49m\u001b[33;43mstorage_options\u001b[39;49m\u001b[33;43m\"\u001b[39;49m\u001b[43m,\u001b[49m\u001b[43m \u001b[49m\u001b[38;5;28;43;01mNone\u001b[39;49;00m\u001b[43m)\u001b[49m\u001b[43m,\u001b[49m\n\u001b[32m   1889\u001b[39m \u001b[43m\u001b[49m\u001b[43m)\u001b[49m\n\u001b[32m   1890\u001b[39m \u001b[38;5;28;01massert\u001b[39;00m \u001b[38;5;28mself\u001b[39m.handles \u001b[38;5;129;01mis\u001b[39;00m \u001b[38;5;129;01mnot\u001b[39;00m \u001b[38;5;28;01mNone\u001b[39;00m\n\u001b[32m   1891\u001b[39m f = \u001b[38;5;28mself\u001b[39m.handles.handle\n",
      "\u001b[36mFile \u001b[39m\u001b[32m/Library/Frameworks/Python.framework/Versions/3.13/lib/python3.13/site-packages/pandas/io/common.py:873\u001b[39m, in \u001b[36mget_handle\u001b[39m\u001b[34m(path_or_buf, mode, encoding, compression, memory_map, is_text, errors, storage_options)\u001b[39m\n\u001b[32m    868\u001b[39m \u001b[38;5;28;01melif\u001b[39;00m \u001b[38;5;28misinstance\u001b[39m(handle, \u001b[38;5;28mstr\u001b[39m):\n\u001b[32m    869\u001b[39m     \u001b[38;5;66;03m# Check whether the filename is to be opened in binary mode.\u001b[39;00m\n\u001b[32m    870\u001b[39m     \u001b[38;5;66;03m# Binary mode does not support 'encoding' and 'newline'.\u001b[39;00m\n\u001b[32m    871\u001b[39m     \u001b[38;5;28;01mif\u001b[39;00m ioargs.encoding \u001b[38;5;129;01mand\u001b[39;00m \u001b[33m\"\u001b[39m\u001b[33mb\u001b[39m\u001b[33m\"\u001b[39m \u001b[38;5;129;01mnot\u001b[39;00m \u001b[38;5;129;01min\u001b[39;00m ioargs.mode:\n\u001b[32m    872\u001b[39m         \u001b[38;5;66;03m# Encoding\u001b[39;00m\n\u001b[32m--> \u001b[39m\u001b[32m873\u001b[39m         handle = \u001b[38;5;28;43mopen\u001b[39;49m\u001b[43m(\u001b[49m\n\u001b[32m    874\u001b[39m \u001b[43m            \u001b[49m\u001b[43mhandle\u001b[49m\u001b[43m,\u001b[49m\n\u001b[32m    875\u001b[39m \u001b[43m            \u001b[49m\u001b[43mioargs\u001b[49m\u001b[43m.\u001b[49m\u001b[43mmode\u001b[49m\u001b[43m,\u001b[49m\n\u001b[32m    876\u001b[39m \u001b[43m            \u001b[49m\u001b[43mencoding\u001b[49m\u001b[43m=\u001b[49m\u001b[43mioargs\u001b[49m\u001b[43m.\u001b[49m\u001b[43mencoding\u001b[49m\u001b[43m,\u001b[49m\n\u001b[32m    877\u001b[39m \u001b[43m            \u001b[49m\u001b[43merrors\u001b[49m\u001b[43m=\u001b[49m\u001b[43merrors\u001b[49m\u001b[43m,\u001b[49m\n\u001b[32m    878\u001b[39m \u001b[43m            \u001b[49m\u001b[43mnewline\u001b[49m\u001b[43m=\u001b[49m\u001b[33;43m\"\u001b[39;49m\u001b[33;43m\"\u001b[39;49m\u001b[43m,\u001b[49m\n\u001b[32m    879\u001b[39m \u001b[43m        \u001b[49m\u001b[43m)\u001b[49m\n\u001b[32m    880\u001b[39m     \u001b[38;5;28;01melse\u001b[39;00m:\n\u001b[32m    881\u001b[39m         \u001b[38;5;66;03m# Binary mode\u001b[39;00m\n\u001b[32m    882\u001b[39m         handle = \u001b[38;5;28mopen\u001b[39m(handle, ioargs.mode)\n",
      "\u001b[31mFileNotFoundError\u001b[39m: [Errno 2] No such file or directory: 'accepted_2007_to_2018Q4.csv'"
     ]
    }
   ],
   "source": [
    "# 필요한 라이브러리\n",
    "import numpy as np\n",
    "import pandas as pd\n",
    "from scipy import stats\n",
    "import seaborn as sns\n",
    "import matplotlib.pyplot as plt\n",
    "from imblearn.over_sampling import SMOTE\n",
    "from imblearn.under_sampling import RandomUnderSampler\n",
    "from sklearn.model_selection import train_test_split\n",
    "from sklearn.ensemble import RandomForestClassifier\n",
    "from sklearn.metrics import classification_report\n",
    "from scipy.stats import shapiro\n",
    "\n",
    "# 데이터 불러오기\n",
    "sehee_file = 'accepted_2007_to_2018Q4.csv'\n",
    "sumin_file = 'accepted_2007_to_2018Q4 2.csv'\n",
    "cleaned_file = 'acc_cleaned.csv'\n",
    "acc = pd.read_csv(sehee_file)\n",
    "\n",
    "print(acc.shape)\n",
    "acc.head()"
   ]
  },
  {
   "cell_type": "code",
   "execution_count": 36,
   "id": "940b4cbb",
   "metadata": {},
   "outputs": [],
   "source": [
    "# 대출상환 항목 3개만 남기기\n",
    "## acc = 대출상환목록 3개로 정리\n",
    "acc= acc[acc['loan_status'].isin(['Fully Paid', 'Charged Off', 'Default'])].copy()"
   ]
  },
  {
   "cell_type": "code",
   "execution_count": 37,
   "id": "40f5324f",
   "metadata": {},
   "outputs": [],
   "source": [
    "# 대출상환 항목 0,1로 인코딩\n",
    "status_map = {\n",
    "    'Fully Paid': 0,\n",
    "    'Charged Off': 1,\n",
    "    'Default': 1\n",
    "}\n",
    "acc['loan_status'] = acc['loan_status'].map(status_map)"
   ]
  },
  {
   "cell_type": "code",
   "execution_count": 38,
   "id": "b82f1ec1",
   "metadata": {},
   "outputs": [],
   "source": [
    "# null 값이 80% 이상인 컬럼 삭제\n",
    "## acc = 대출상환목록 3개로 정리, Null 값이 80% 이상인 컬럼 삭제\n",
    "\n",
    "threshold = acc.shape[0] * 0.8               # 기준 만들고\n",
    "cols_to_drop = acc.columns[acc.isnull().sum() > threshold]  # 조건에 맞는 컬럼 추출\n",
    "acc = acc.drop(columns=cols_to_drop)          # 해당 컬럼 삭제"
   ]
  },
  {
   "cell_type": "code",
   "execution_count": 39,
   "id": "7ed954b8",
   "metadata": {},
   "outputs": [],
   "source": [
    "# 논문 참고하여 칼럼 셀렉\n",
    "## acc = 대출상환목록 3개로 정리, \n",
    "#        Null 값이 80% 이상인 컬럼 삭제,\n",
    "#        중요 칼럼만 남김,\n",
    "\n",
    "columns_to_keep = [\n",
    "    'loan_amnt', 'term', 'int_rate', 'installment', 'grade',\n",
    "    'emp_title', 'emp_length', 'home_ownership', 'annual_inc',\n",
    "    'verification_status', 'purpose', 'dti', 'open_acc', 'revol_bal',\n",
    "    'revol_util', 'total_acc', 'loan_status', 'pub_rec',\n",
    "    'pub_rec_bankruptcies', 'mort_acc', 'inq_last_6mths',\n",
    "    'inq_last_12m', 'num_bc_tl', 'num_actv_bc_tl'\n",
    "]\n",
    "\n",
    "acc = acc[columns_to_keep]"
   ]
  },
  {
   "cell_type": "code",
   "execution_count": 40,
   "id": "aada1106",
   "metadata": {},
   "outputs": [
    {
     "data": {
      "text/plain": [
       "Index(['term', 'grade', 'emp_title', 'emp_length', 'home_ownership',\n",
       "       'verification_status', 'purpose'],\n",
       "      dtype='object')"
      ]
     },
     "execution_count": 40,
     "metadata": {},
     "output_type": "execute_result"
    }
   ],
   "source": [
    "# 숫자형\n",
    "acc.select_dtypes(include='number').columns\n",
    "\n",
    "# 범주형\n",
    "acc.select_dtypes(exclude='number').columns"
   ]
  },
  {
   "cell_type": "markdown",
   "id": "9071fdb7",
   "metadata": {},
   "source": [
    "## 데이터 분포 살펴보기"
   ]
  },
  {
   "cell_type": "code",
   "execution_count": 41,
   "id": "5fdd7075",
   "metadata": {},
   "outputs": [],
   "source": [
    "# na 제외한 문자열 소문자 변환 + 앞뒤 공백제거\n",
    "acc['emp_title'] = acc['emp_title'].apply(\n",
    "    lambda x: x.lower().strip() if pd.notnull(x) else x\n",
    ")"
   ]
  },
  {
   "cell_type": "code",
   "execution_count": 42,
   "id": "c6f07cf0",
   "metadata": {},
   "outputs": [
    {
     "name": "stdout",
     "output_type": "stream",
     "text": [
      "loan_amnt skewness: 0.7824983744130591\n",
      "int_rate skewness: 0.7134897274225662\n",
      "installment skewness: 1.006541533525739\n"
     ]
    },
    {
     "data": {
      "image/png": "[encoded data removed]",
      "text/plain": [
       "<Figure size 1600x1200 with 3 Axes>"
      ]
     },
     "metadata": {},
     "output_type": "display_data"
    }
   ],
   "source": [
    "# 변수 분류\n",
    "categorical_vars = acc.iloc[:, :6].select_dtypes(include='object').columns.to_list()\n",
    "continuous_vars = acc.iloc[:, :6].select_dtypes(exclude='object').columns.to_list()\n",
    "\n",
    "# 시각화 스타일\n",
    "sns.set_theme(style=\"whitegrid\") # set -> set_theme\n",
    "plt.figure(figsize=(16, 12))\n",
    "\n",
    "for i, var in enumerate(continuous_vars):\n",
    "    plt.subplot(4, 2, i + 1)\n",
    "    # 데이터 분포 히스토그램\n",
    "    sns.histplot(acc.iloc[:, :6][var], kde=True, color='lightcoral', bins=50)\n",
    "\n",
    "    # 왜도 출력\n",
    "    print(f'{var} skewness:', stats.skew(acc.iloc[:, :6][var]))\n",
    "\n",
    "    # 정규분포 곡선 추가 (히스토그램 기준에 맞게 스케일링)\n",
    "    xmin, xmax = plt.xlim()\n",
    "    x = np.linspace(xmin, xmax, 50)\n",
    "    mean = acc.iloc[:, :6][var].mean()\n",
    "    std = acc.iloc[:, :6][var].std()\n",
    "    pdf = stats.norm.pdf(x, mean, std)\n",
    "    \n",
    "    bin_width = (xmax - xmin) / 50\n",
    "    pdf_scaled = pdf * len(acc.iloc[:, :6][var]) * bin_width  # 스케일 조정\n",
    "\n",
    "    plt.plot(x, pdf_scaled, 'k', linewidth=1.5)\n",
    "    plt.title(f'Continuous Variable: {var}')\n",
    "    plt.xlabel(var)\n",
    "    plt.ylabel('Frequency')\n",
    "\n",
    "plt.tight_layout()\n",
    "plt.savefig('image/histogram_0~5_cn.png', dpi=150)\n",
    "plt.show()"
   ]
  },
  {
   "cell_type": "code",
   "execution_count": null,
   "id": "042f5acf",
   "metadata": {},
   "outputs": [],
   "source": [
    "# \n",
    "for var in continuous_vars:\n",
    "    stat, pvalue = stats.shapiro(sehee_check[var])\n",
    "    t = '기각' if pvalue < 0.05 else '귀무가설 채택'\n",
    "    print(f'{var} shapiro: stats - {stat} pvalue - {pvalue} 기각여부 - {t}')"
   ]
  },
  {
   "cell_type": "markdown",
   "id": "73d19026",
   "metadata": {},
   "source": [
    "## 여기서부터 은서님 하시면 됩니다!!"
   ]
  },
  {
   "cell_type": "code",
   "execution_count": null,
   "id": "e77efe22",
   "metadata": {},
   "outputs": [],
   "source": [
    "\n",
    "# [1] 수치형 변수 결측치 확인 및 로그 변환 + 정규성 검정 (dti, annual_inc)\n",
    "num_cols = ['dti', 'annual_inc']\n",
    "\n",
    "for col in num_cols:\n",
    "    print(f\"\\n===== 수치형 변수: {col} =====\")\n",
    "    \n",
    "    # 결측치 확인\n",
    "    missing_count = acc[col].isnull().sum()\n",
    "    total_count = acc.shape[0]\n",
    "    missing_ratio = missing_count / total_count * 100\n",
    "    print(f\"결측치 수: {missing_count}개, 전체: {total_count}개, 결측치 비율: {missing_ratio:.4f}%\")\n",
    "    \n",
    "    # 로그 변환: log(1+x)로 0 처리\n",
    "    acc[f'{col}_log'] = np.log1p(acc[col])\n",
    "\n",
    "    # 히스토그램 + KDE (로그 변환된 데이터)\n",
    "    plt.figure(figsize=(7, 4))\n",
    "    sns.histplot(acc[f'{col}_log'].dropna(), bins=50, kde=True)\n",
    "    plt.title(f'{col}_log 히스토그램 + KDE')\n",
    "    plt.xlabel(f'log({col} + 1)')\n",
    "    plt.ylabel('Count')\n",
    "    plt.tight_layout()\n",
    "    plt.show()\n",
    "    \n",
    "\n",
    "    # Q-Q plot (원본 데이터 사용)\n",
    "    stats.probplot(acc[col].dropna(), dist=\"norm\", plot=plt)\n",
    "    plt.title(f\"Q-Q plot of {col}\")\n",
    "    plt.tight_layout()\n",
    "    plt.show()\n",
    "\n",
    "    # Shapiro-Wilk 정규성 검정 (최대 5000 샘플링)\n",
    "    sample = acc[col].dropna()\n",
    "    if len(sample) > 5000:\n",
    "        sample = sample.sample(5000, random_state=42)\n",
    "    stat, p = shapiro(sample)\n",
    "    print(f\"Shapiro-Wilk 검정 p-value: {p:.4f}\")\n",
    "    if p < 0.05:\n",
    "        print(\"→ 정규성을 따르지 않음\")\n",
    "    else:\n",
    "        print(\"→ 정규성을 만족함\")"
   ]
  },
  {
   "cell_type": "markdown",
   "id": "1f8ef01e",
   "metadata": {},
   "source": [
    "## 여기서부터 수지님 하시면 됩니다!!"
   ]
  },
  {
   "cell_type": "code",
   "execution_count": null,
   "id": "241b4779",
   "metadata": {},
   "outputs": [],
   "source": [
    "# 폰트 설정 (OS별로 다름)\n",
    "plt.rc('font', family='Malgun Gothic') \n",
    "\n",
    "# 마이너스 기호 깨짐 방지\n",
    "plt.rcParams['axes.unicode_minus'] = False"
   ]
  },
  {
   "cell_type": "code",
   "execution_count": null,
   "id": "c893c34d",
   "metadata": {},
   "outputs": [],
   "source": [
    "# 1. open_acc 개설된 신용 계좌수 p-value\n",
    "\n",
    "stat, p = shapiro(acc['open_acc'].dropna())\n",
    "\n",
    "print(f\"Shapiro-Wilk 검정 p-value: {p:.4f}\")\n",
    "\n",
    "if p > 0.05:\n",
    "    print(\"p-값이 0.05보다 크므로, 데이터는 정규분포를 따른다고 볼 수 있습니다.\")\n",
    "else:\n",
    "    print(\"p-값이 0.05 이하이므로, 데이터는 정규분포를 따르지 않습니다.\")"
   ]
  },
  {
   "cell_type": "code",
   "execution_count": null,
   "id": "54b3e489",
   "metadata": {},
   "outputs": [],
   "source": [
    "acc_log = acc[['open_acc']].dropna()\n",
    "\n",
    "# 로그 변환 적용\n",
    "acc_log['open_acc_log'] = np.log1p(acc_log['open_acc'])\n",
    "\n",
    "# ----------------- 시각화 코드 -----------------\n",
    "\n",
    "plt.figure(figsize=(10, 5))\n",
    "\n",
    "# 변환 전 원본 데이터 분포\n",
    "plt.subplot(1, 2, 1)\n",
    "sns.histplot(acc_log['open_acc'], kde=True)\n",
    "plt.title('변환 전 (Original) 분포')\n",
    "plt.xlabel('개설된 신용계좌 수 (원본)')\n",
    "\n",
    "# 변환 후 데이터 분포\n",
    "plt.subplot(1, 2, 2)\n",
    "sns.histplot(acc_log['open_acc_log'], kde=True)\n",
    "plt.title('로그 변환 후 개설된 신용계좌 수 분포')\n",
    "plt.xlabel('개설된 신용계좌 수 (로그 변환 후)')\n",
    "\n",
    "plt.tight_layout()\n",
    "plt.show()"
   ]
  },
  {
   "cell_type": "code",
   "execution_count": null,
   "id": "7ca6a181",
   "metadata": {},
   "outputs": [],
   "source": [
    "# 2. revol_bal 리볼빙 대출 잔액 p-value\n",
    "stat, p = shapiro(acc['revol_bal'].dropna())\n",
    "\n",
    "print(f\"Shapiro-Wilk 검정 p-value: {p:.4f}\")\n",
    "\n",
    "if p > 0.05:\n",
    "    print(\"p-값이 0.05보다 크므로, 데이터는 정규분포를 따른다고 볼 수 있습니다.\")\n",
    "else:\n",
    "    print(\"p-값이 0.05 이하이므로, 데이터는 정규분포를 따르지 않습니다.\")"
   ]
  },
  {
   "cell_type": "code",
   "execution_count": null,
   "id": "bb803df1",
   "metadata": {},
   "outputs": [],
   "source": [
    "acc_log = acc[['revol_bal']].dropna()\n",
    "\n",
    "# 로그 변환 적용\n",
    "acc_log['revol_bal_log'] = np.log1p(acc_log['revol_bal'])\n",
    "\n",
    "# ----------------- 시각화 코드 -----------------\n",
    "\n",
    "plt.figure(figsize=(10, 5))\n",
    "\n",
    "# 변환 전 원본 데이터 분포\n",
    "plt.subplot(1, 2, 1)\n",
    "sns.histplot(acc_log['revol_bal'], kde=True)\n",
    "plt.title('변환 전 (Original) 분포')\n",
    "plt.xlabel('리볼빙 대출 잔액 (원본)')\n",
    "\n",
    "# 변환 후 데이터 분포\n",
    "plt.subplot(1, 2, 2)\n",
    "sns.histplot(acc_log['revol_bal_log'], kde=True)\n",
    "plt.title('로그 변환 후 리볼빙 대출 잔액 분포')\n",
    "plt.xlabel('리볼빙 대출 잔액 (로그 변환 후)')\n",
    "\n",
    "plt.tight_layout()\n",
    "plt.show()"
   ]
  },
  {
   "cell_type": "code",
   "execution_count": null,
   "id": "a5023487",
   "metadata": {},
   "outputs": [],
   "source": [
    "# 3. revol_util 리볼빙 대출 사용률 p-value\n",
    "\n",
    "stat, p = shapiro(acc['revol_util'].dropna())\n",
    "\n",
    "print(f\"Shapiro-Wilk 검정 p-value: {p:.4f}\")\n",
    "\n",
    "if p > 0.05:\n",
    "    print(\"p-값이 0.05보다 크므로, 데이터는 정규분포를 따른다고 볼 수 있습니다.\")\n",
    "else:\n",
    "    print(\"p-값이 0.05 이하이므로, 데이터는 정규분포를 따르지 않습니다.\")"
   ]
  },
  {
   "cell_type": "code",
   "execution_count": null,
   "id": "fcb7f52a",
   "metadata": {},
   "outputs": [],
   "source": [
    "acc_log = df[['revol_util']].dropna()\n",
    "\n",
    "# 로그 변환 적용\n",
    "acc_log['revol_util_log'] = np.log1p(acc_log['revol_util'])\n",
    "\n",
    "# ----------------- 시각화 코드 -----------------\n",
    "\n",
    "plt.figure(figsize=(10, 5))\n",
    "\n",
    "# 변환 전 원본 데이터 분포\n",
    "plt.subplot(1, 2, 1)\n",
    "sns.histplot(acc_log['revol_util'], kde=True)\n",
    "plt.title('변환 전 (Original) 분포')\n",
    "plt.xlabel(' 리볼빙 대출 사용률 (원본)')\n",
    "\n",
    "# 변환 후 데이터 분포\n",
    "plt.subplot(1, 2, 2)\n",
    "sns.histplot(acc_log['revol_util_log'], kde=True)\n",
    "plt.title('로그 변환 후 리볼빙 대출 사용률 분포')\n",
    "plt.xlabel(' 리볼빙 대출 사용률 (로그 변환 후)')\n",
    "\n",
    "plt.tight_layout()\n",
    "plt.show()"
   ]
  },
  {
   "cell_type": "code",
   "execution_count": null,
   "id": "c0ff7a51",
   "metadata": {},
   "outputs": [],
   "source": [
    "# 4. total_acc 전체 신용계좌 수 p-value\n",
    "\n",
    "stat, p = shapiro(acc['total_acc'].dropna())\n",
    "\n",
    "print(f\"Shapiro-Wilk 검정 p-value: {p:.4f}\")\n",
    "\n",
    "if p > 0.05:\n",
    "    print(\"p-값이 0.05보다 크므로, 데이터는 정규분포를 따른다고 볼 수 있습니다.\")\n",
    "else:\n",
    "    print(\"p-값이 0.05 이하이므로, 데이터는 정규분포를 따르지 않습니다.\")"
   ]
  },
  {
   "cell_type": "code",
   "execution_count": null,
   "id": "1d67adaf",
   "metadata": {},
   "outputs": [],
   "source": [
    "acc_log = acc[['total_acc']].dropna()\n",
    "\n",
    "# 로그 변환 적용\n",
    "acc_log['total_acc_log'] = np.log1p(acc_log['total_acc'])\n",
    "\n",
    "# ----------------- 시각화 코드 -----------------\n",
    "\n",
    "plt.figure(figsize=(10, 5))\n",
    "\n",
    "# 변환 전 원본 데이터 분포\n",
    "plt.subplot(1, 2, 1)\n",
    "sns.histplot(acc_log['total_acc'], kde=True)\n",
    "plt.title('변환 전 (Original) 분포')\n",
    "plt.xlabel(' 전체 신용계좌 수 (원본)')\n",
    "\n",
    "# 변환 후 데이터 분포\n",
    "plt.subplot(1, 2, 2)\n",
    "sns.histplot(acc_log['total_acc_log'], kde=True)\n",
    "plt.title('로그 변환 후 전체 신용계좌 수 분포')\n",
    "plt.xlabel(' 전체 신용계좌 수 (로그 변환 후)')\n",
    "\n",
    "plt.tight_layout()\n",
    "plt.show()"
   ]
  },
  {
   "cell_type": "code",
   "execution_count": null,
   "id": "d61b2f56",
   "metadata": {},
   "outputs": [],
   "source": [
    "# 5. loan_status 대출 상태 p-value\n",
    "stat, p = shapiro(acc['loan_status'].dropna())\n",
    "\n",
    "print(f\"Shapiro-Wilk 검정 p-value: {p:.4f}\")\n",
    "\n",
    "if p > 0.05:\n",
    "    print(\"p-값이 0.05보다 크므로, 데이터는 정규분포를 따른다고 볼 수 있습니다.\")\n",
    "else:\n",
    "    print(\"p-값이 0.05 이하이므로, 데이터는 정규분포를 따르지 않습니다.\")"
   ]
  },
  {
   "cell_type": "code",
   "execution_count": null,
   "id": "156fcd86",
   "metadata": {},
   "outputs": [],
   "source": [
    "# loan_status 대출 상태\n",
    "plt.figure(figsize=(10, 6))\n",
    "sns.histplot(acc['loan_status'], kde=True)\n",
    "plt.title('대출 상태 분포')\n",
    "plt.xlabel('대출 상태')\n",
    "plt.ylabel('빈도')\n",
    "plt.show()"
   ]
  },
  {
   "cell_type": "code",
   "execution_count": null,
   "id": "d7ec391b",
   "metadata": {},
   "outputs": [],
   "source": [
    "# 6. pub_rec 공공기록(파산) p-value\n",
    "stat, p = shapiro(acc['pub_rec'].dropna())\n",
    "\n",
    "print(f\"Shapiro-Wilk 검정 p-value: {p:.4f}\")\n",
    "\n",
    "if p > 0.05:\n",
    "    print(\"p-값이 0.05보다 크므로, 데이터는 정규분포를 따른다고 볼 수 있습니다.\")\n",
    "else:\n",
    "    print(\"p-값이 0.05 이하이므로, 데이터는 정규분포를 따르지 않습니다.\")"
   ]
  },
  {
   "cell_type": "code",
   "execution_count": null,
   "id": "9587b175",
   "metadata": {},
   "outputs": [],
   "source": [
    "acc_log = acc[['pub_rec']].dropna()\n",
    "\n",
    "# 로그 변환 적용\n",
    "acc_log['pub_rec_log'] = np.log1p(acc_log['pub_rec'])\n",
    "\n",
    "# ----------------- 시각화 코드 -----------------\n",
    "\n",
    "plt.figure(figsize=(10, 5))\n",
    "\n",
    "# 변환 전 원본 데이터 분포\n",
    "plt.subplot(1, 2, 1)\n",
    "sns.histplot(acc_log['pub_rec'], kde=True)\n",
    "plt.title('변환 전 (Original) 분포')\n",
    "plt.xlabel(' 공공기록(파산) (원본)')\n",
    "\n",
    "# 변환 후 데이터 분포\n",
    "plt.subplot(1, 2, 2)\n",
    "sns.histplot(acc_log['pub_rec_log'], kde=True)\n",
    "plt.title('공공기록(파산) 분포')\n",
    "plt.xlabel(' 공공기록(파산) (로그 변환 후)')\n",
    "\n",
    "plt.tight_layout()\n",
    "plt.show()"
   ]
  },
  {
   "cell_type": "markdown",
   "id": "4063d49f",
   "metadata": {},
   "source": [
    "## 여기서부터 수민님 하시면 됩니다!!"
   ]
  },
  {
   "cell_type": "markdown",
   "id": "a403cd5f",
   "metadata": {},
   "source": [
    "## 숫자형 변수들 이상치 살펴보기"
   ]
  },
  {
   "cell_type": "code",
   "execution_count": 292,
   "id": "fd3b204e",
   "metadata": {},
   "outputs": [
    {
     "name": "stdout",
     "output_type": "stream",
     "text": [
      "이상치 개수:  5473\n",
      "해당 칼럼 전체 개수:  1345350\n",
      "이상치 비율:  0.41 %\n"
     ]
    }
   ],
   "source": [
    "# dti 의 이상치 개수 5473 _ IQR 사용 \n",
    "# 이상치 제거 예정\n",
    "\n",
    "Q1 = acc['dti'].quantile(0.25)\n",
    "Q3 = acc['dti'].quantile(0.75)\n",
    "IQR = Q3 - Q1\n",
    "\n",
    "lower_bound = Q1 - 1.5 * IQR\n",
    "upper_bound = Q3 + 1.5 * IQR\n",
    "\n",
    "# 이상치만 추출\n",
    "outliers_dti = acc[(acc['dti'] < lower_bound) | (acc['dti'] > upper_bound)]\n",
    "\n",
    "print('이상치 개수: ' , len(outliers_dti))\n",
    "print('해당 칼럼 전체 개수: ', len(acc.dti))\n",
    "print('이상치 비율: ', round(len(outliers_dti) / len(acc.dti) * 100 , 2), '%' )\n"
   ]
  },
  {
   "cell_type": "code",
   "execution_count": 293,
   "id": "ef061b7d",
   "metadata": {},
   "outputs": [
    {
     "name": "stdout",
     "output_type": "stream",
     "text": [
      "이상치 개수:  72\n",
      "해당 칼럼 전체 개수:  1345350\n",
      "이상치 비율:  0.01 %\n"
     ]
    }
   ],
   "source": [
    "# revol_util 이상치\n",
    "# 이상치 제거 예정\n",
    "\n",
    "Q1 = acc['revol_util'].quantile(0.25)\n",
    "Q3 = acc['revol_util'].quantile(0.75)\n",
    "IQR = Q3 - Q1\n",
    "\n",
    "lower_bound = Q1 - 1.5 * IQR\n",
    "upper_bound = Q3 + 1.5 * IQR\n",
    "\n",
    "# 이상치만 추출\n",
    "outliers_revol_util = acc[(acc['revol_util'] < lower_bound) | (acc['revol_util'] > upper_bound)]\n",
    "\n",
    "print('이상치 개수: ' , len(outliers_revol_util))\n",
    "print('해당 칼럼 전체 개수: ', len(acc.revol_util))\n",
    "print('이상치 비율: ', round(len(outliers_revol_util) / len(acc.revol_util) * 100 , 2), '%' )\n"
   ]
  },
  {
   "cell_type": "code",
   "execution_count": 294,
   "id": "29653afa",
   "metadata": {},
   "outputs": [
    {
     "name": "stdout",
     "output_type": "stream",
     "text": [
      "이상치 개수:  167666\n",
      "해당 칼럼 전체 개수:  1345350\n",
      "이상치 비율:  12.46 %\n"
     ]
    }
   ],
   "source": [
    "# pub_rec_bankruptcies(파산 기록수) 이상치\n",
    "# 이상치 편집 예정\n",
    "\n",
    "Q1 = acc['pub_rec_bankruptcies'].quantile(0.25)\n",
    "Q3 = acc['pub_rec_bankruptcies'].quantile(0.75)\n",
    "IQR = Q3 - Q1\n",
    "\n",
    "lower_bound = Q1 - 1.5 * IQR\n",
    "upper_bound = Q3 + 1.5 * IQR\n",
    "\n",
    "# 이상치만 추출\n",
    "outliers_rec_bnkrcys = acc[(acc['pub_rec_bankruptcies'] < lower_bound) | (acc['pub_rec_bankruptcies'] > upper_bound)]\n",
    "\n",
    "print('이상치 개수: ' , len(outliers_rec_bnkrcys))\n",
    "print('해당 칼럼 전체 개수: ', len(acc.pub_rec_bankruptcies))\n",
    "print('이상치 비율: ', round(len(outliers_rec_bnkrcys) / len(acc.pub_rec_bankruptcies) * 100 , 2), '%' )"
   ]
  },
  {
   "cell_type": "code",
   "execution_count": 295,
   "id": "f3c9d140",
   "metadata": {},
   "outputs": [
    {
     "name": "stdout",
     "output_type": "stream",
     "text": [
      "이상치 개수:  17794\n",
      "해당 칼럼 전체 개수:  1345350\n",
      "이상치 비율:  1.32 %\n"
     ]
    }
   ],
   "source": [
    "# mort_acc 이상치\n",
    "# 이상치 제거 예정\n",
    "\n",
    "Q1 = acc['mort_acc'].quantile(0.25)\n",
    "Q3 = acc['mort_acc'].quantile(0.75)\n",
    "IQR = Q3 - Q1\n",
    "\n",
    "lower_bound = Q1 - 1.5 * IQR\n",
    "upper_bound = Q3 + 1.5 * IQR\n",
    "\n",
    "# 이상치만 추출\n",
    "outliers_mort_acc = acc[(acc['mort_acc'] < lower_bound) | (acc['mort_acc'] > upper_bound)]\n",
    "\n",
    "print('이상치 개수: ' , len(outliers_mort_acc))\n",
    "print('해당 칼럼 전체 개수: ', len(acc.mort_acc))\n",
    "print('이상치 비율: ', round(len(outliers_mort_acc) / len(acc.mort_acc) * 100 , 2), '%' )"
   ]
  },
  {
   "cell_type": "code",
   "execution_count": 296,
   "id": "2639f890",
   "metadata": {},
   "outputs": [
    {
     "name": "stdout",
     "output_type": "stream",
     "text": [
      "이상치 개수:  34344\n",
      "해당 칼럼 전체 개수:  1345350\n",
      "이상치 비율:  2.55 %\n"
     ]
    }
   ],
   "source": [
    "# inq_last_12m 이상치\n",
    "# 이상치 제거 예정\n",
    "\n",
    "Q1 = acc['inq_last_12m'].quantile(0.25)\n",
    "Q3 = acc['inq_last_12m'].quantile(0.75)\n",
    "IQR = Q3 - Q1\n",
    "\n",
    "lower_bound = Q1 - 1.5 * IQR\n",
    "upper_bound = Q3 + 1.5 * IQR\n",
    "\n",
    "# 이상치만 추출\n",
    "outliers_inq_last_12m = acc[(acc['inq_last_12m'] < lower_bound) | (acc['inq_last_12m'] > upper_bound)]\n",
    "\n",
    "print('이상치 개수: ' , len(outliers_inq_last_12m))\n",
    "print('해당 칼럼 전체 개수: ', len(acc.inq_last_12m))\n",
    "print('이상치 비율: ', round(len(outliers_inq_last_12m) / len(acc.inq_last_12m) * 100 , 2), '%' )"
   ]
  },
  {
   "cell_type": "code",
   "execution_count": 297,
   "id": "5e147449",
   "metadata": {},
   "outputs": [
    {
     "name": "stdout",
     "output_type": "stream",
     "text": [
      "이상치 개수:  27144\n",
      "해당 칼럼 전체 개수:  1345350\n",
      "이상치 비율:  2.02 %\n"
     ]
    }
   ],
   "source": [
    "# num_bc_tl 이상치\n",
    "# 이상치 제거 예정\n",
    "\n",
    "Q1 = acc['num_bc_tl'].quantile(0.25)\n",
    "Q3 = acc['num_bc_tl'].quantile(0.75)\n",
    "IQR = Q3 - Q1\n",
    "\n",
    "lower_bound = Q1 - 1.5 * IQR\n",
    "upper_bound = Q3 + 1.5 * IQR\n",
    "\n",
    "# 이상치만 추출\n",
    "outliers_num_bc_tl = acc[(acc['num_bc_tl'] < lower_bound) | (acc['num_bc_tl'] > upper_bound)]\n",
    "\n",
    "print('이상치 개수: ' , len(outliers_num_bc_tl))\n",
    "print('해당 칼럼 전체 개수: ', len(acc.num_bc_tl))\n",
    "print('이상치 비율: ', round(len(outliers_num_bc_tl) / len(acc.num_bc_tl) * 100 , 2), '%' )"
   ]
  },
  {
   "cell_type": "code",
   "execution_count": 298,
   "id": "253b4782",
   "metadata": {},
   "outputs": [
    {
     "name": "stdout",
     "output_type": "stream",
     "text": [
      "이상치 개수:  26648\n",
      "해당 칼럼 전체 개수:  1345350\n",
      "이상치 비율:  1.98 %\n"
     ]
    }
   ],
   "source": [
    "# num_actv_bc_tl 이상치\n",
    "# 이상치 제거 예정\n",
    "\n",
    "Q1 = acc['num_actv_bc_tl'].quantile(0.25)\n",
    "Q3 = acc['num_actv_bc_tl'].quantile(0.75)\n",
    "IQR = Q3 - Q1\n",
    "\n",
    "lower_bound = Q1 - 1.5 * IQR\n",
    "upper_bound = Q3 + 1.5 * IQR\n",
    "\n",
    "# 이상치만 추출\n",
    "outliers_num_actv_bc_tl = acc[(acc['num_actv_bc_tl'] < lower_bound) | (acc['num_actv_bc_tl'] > upper_bound)]\n",
    "\n",
    "print('이상치 개수: ' , len(outliers_num_actv_bc_tl))\n",
    "print('해당 칼럼 전체 개수: ', len(acc.num_actv_bc_tl))\n",
    "print('이상치 비율: ', round(len(outliers_num_actv_bc_tl) / len(acc.num_actv_bc_tl) * 100 , 2), '%' )"
   ]
  },
  {
   "cell_type": "code",
   "execution_count": 299,
   "id": "af5a43e7",
   "metadata": {},
   "outputs": [],
   "source": [
    "# 이상치 지울 데이터 따로 만들기\n",
    "## acc_ver2 = 대출상환목록 3개로 정리, \n",
    "#             Null 값이 80% 이상인 컬럼 삭제,\n",
    "#             중요 칼럼만 남김,\n",
    "acc_ver2 = acc.copy()"
   ]
  },
  {
   "cell_type": "code",
   "execution_count": 300,
   "id": "b5c16759",
   "metadata": {},
   "outputs": [
    {
     "data": {
      "text/plain": [
       "loan_amnt                    0\n",
       "int_rate                     0\n",
       "installment                  0\n",
       "annual_inc                   0\n",
       "dti                        374\n",
       "open_acc                     0\n",
       "revol_bal                    0\n",
       "revol_util                 857\n",
       "total_acc                    0\n",
       "loan_status                  0\n",
       "pub_rec                      0\n",
       "pub_rec_bankruptcies       697\n",
       "mort_acc                 47281\n",
       "inq_last_6mths               1\n",
       "inq_last_12m            807715\n",
       "num_bc_tl                67527\n",
       "num_actv_bc_tl           67527\n",
       "dtype: int64"
      ]
     },
     "execution_count": 300,
     "metadata": {},
     "output_type": "execute_result"
    }
   ],
   "source": [
    "### ver2 데이터에서 이상치 모두 제거하기\n",
    "\n",
    "## acc_ver2 = 대출상환목록 3개로 정리, \n",
    "#             Null 값이 80% 이상인 컬럼 삭제,\n",
    "#             중요 칼럼만 남김,\n",
    "\n",
    "## acc_cleaned = 대출상환목록 3개로 정리, \n",
    "#                Null 값이 80% 이상인 컬럼 삭제,\n",
    "#                중요 칼럼만 남김,\n",
    "#                미미한 이상치들 제거\n",
    "\n",
    "\n",
    "# 이상치 하나로 모으기                                                                                                                                                                                                                                                                                                                                                                                                                                                                                                    \n",
    "outliers_all = [outliers_dti,\n",
    "    outliers_revol_util,\n",
    "    outliers_mort_acc,\n",
    "    outliers_inq_last_12m,\n",
    "    outliers_num_bc_tl,\n",
    "    outliers_num_actv_bc_tl\n",
    "]\n",
    "\n",
    "# 이상치 데이터 하나로 합치기\n",
    "outliers_all = pd.concat(outliers_all)\n",
    "\n",
    "# 중복된 인덱스 제거 (선택사항이지만 코드 정돈을 위해)\n",
    "outliers_all = outliers_all[~outliers_all.index.duplicated(keep='first')]\n",
    "\n",
    "# 기존 데이터(acc_ver2)에서 이상치 제거한 새 데이터 만들기\n",
    "acc_cleaned = acc_ver2.drop(index=outliers_all.index).reset_index(drop=True)\n",
    "\n",
    "# 이상치 제거 후 null 값 개수 확인\n",
    "acc.select_dtypes(include='number').isnull().sum()\n",
    "\n"
   ]
  },
  {
   "cell_type": "markdown",
   "id": "717ea75c",
   "metadata": {},
   "source": [
    "## Null 값 하나씩 뜯어보기"
   ]
  },
  {
   "cell_type": "code",
   "execution_count": 301,
   "id": "d24ff5ba",
   "metadata": {},
   "outputs": [
    {
     "name": "stdout",
     "output_type": "stream",
     "text": [
      "dti null 값 비율:  0.02834\n",
      "revol_util null 값 비율:  0.06584\n",
      "pub_rec_bankruptcies null 값 비율:  0.05596\n",
      "mort_acc null 값 비율:  3.79627\n",
      "inq_last_12m null 값 비율:  61.66024\n",
      "num_bc_tl null 값 비율:  5.3887\n",
      "num_actv_bc_tl null 값 비율:  5.3887\n"
     ]
    }
   ],
   "source": [
    "dti_rate = round(acc_cleaned.dti.isnull().sum() / acc_cleaned.dti.shape[0] * 100 ,5)\n",
    "print('dti null 값 비율: ' , dti_rate)\n",
    "revol_util_rate = round(acc_cleaned.revol_util.isnull().sum() / acc_cleaned.revol_util.shape[0] * 100 ,5)\n",
    "print('revol_util null 값 비율: ' , revol_util_rate)\n",
    "pub_rec_bankruptcies_rate = round(acc_cleaned.pub_rec_bankruptcies.isnull().sum() / acc_cleaned.pub_rec_bankruptcies.shape[0] * 100 ,5)\n",
    "print('pub_rec_bankruptcies null 값 비율: ' , pub_rec_bankruptcies_rate)\n",
    "mort_acc_rate = round(acc_cleaned.mort_acc.isnull().sum() / acc_cleaned.mort_acc.shape[0] * 100 ,5)\n",
    "print('mort_acc null 값 비율: ' , mort_acc_rate)\n",
    "inq_last_12m_rate = round(acc_cleaned.inq_last_12m.isnull().sum() / acc_cleaned.inq_last_12m.shape[0] * 100 ,5)\n",
    "print('inq_last_12m null 값 비율: ' , inq_last_12m_rate)\n",
    "num_bc_tl_rate = round(acc_cleaned.num_bc_tl.isnull().sum() / acc_cleaned.num_bc_tl.shape[0] * 100 ,5)\n",
    "print('num_bc_tl null 값 비율: ' , num_bc_tl_rate)\n",
    "num_actv_bc_tl_rate = round(acc_cleaned.num_actv_bc_tl.isnull().sum() / acc_cleaned.num_actv_bc_tl.shape[0] * 100 ,5)\n",
    "print('num_actv_bc_tl null 값 비율: ' , num_actv_bc_tl_rate)"
   ]
  },
  {
   "cell_type": "code",
   "execution_count": 302,
   "id": "62950a95",
   "metadata": {},
   "outputs": [
    {
     "name": "stdout",
     "output_type": "stream",
     "text": [
      "342\n",
      "[nan]\n",
      "319\n"
     ]
    },
    {
     "data": {
      "text/html": [
       "<div>\n",
       "<style scoped>\n",
       "    .dataframe tbody tr th:only-of-type {\n",
       "        vertical-align: middle;\n",
       "    }\n",
       "\n",
       "    .dataframe tbody tr th {\n",
       "        vertical-align: top;\n",
       "    }\n",
       "\n",
       "    .dataframe thead th {\n",
       "        text-align: right;\n",
       "    }\n",
       "</style>\n",
       "<table border=\"1\" class=\"dataframe\">\n",
       "  <thead>\n",
       "    <tr style=\"text-align: right;\">\n",
       "      <th></th>\n",
       "      <th>loan_amnt</th>\n",
       "      <th>term</th>\n",
       "      <th>int_rate</th>\n",
       "      <th>installment</th>\n",
       "      <th>grade</th>\n",
       "      <th>emp_title</th>\n",
       "      <th>emp_length</th>\n",
       "      <th>home_ownership</th>\n",
       "      <th>annual_inc</th>\n",
       "      <th>verification_status</th>\n",
       "      <th>...</th>\n",
       "      <th>revol_util</th>\n",
       "      <th>total_acc</th>\n",
       "      <th>loan_status</th>\n",
       "      <th>pub_rec</th>\n",
       "      <th>pub_rec_bankruptcies</th>\n",
       "      <th>mort_acc</th>\n",
       "      <th>inq_last_6mths</th>\n",
       "      <th>inq_last_12m</th>\n",
       "      <th>num_bc_tl</th>\n",
       "      <th>num_actv_bc_tl</th>\n",
       "    </tr>\n",
       "  </thead>\n",
       "  <tbody>\n",
       "    <tr>\n",
       "      <th>371239</th>\n",
       "      <td>6000.0</td>\n",
       "      <td>36 months</td>\n",
       "      <td>10.42</td>\n",
       "      <td>194.79</td>\n",
       "      <td>B</td>\n",
       "      <td>NaN</td>\n",
       "      <td>NaN</td>\n",
       "      <td>MORTGAGE</td>\n",
       "      <td>1.0</td>\n",
       "      <td>Not Verified</td>\n",
       "      <td>...</td>\n",
       "      <td>20.4</td>\n",
       "      <td>17.0</td>\n",
       "      <td>0</td>\n",
       "      <td>0.0</td>\n",
       "      <td>0.0</td>\n",
       "      <td>2.0</td>\n",
       "      <td>0.0</td>\n",
       "      <td>2.0</td>\n",
       "      <td>4.0</td>\n",
       "      <td>3.0</td>\n",
       "    </tr>\n",
       "    <tr>\n",
       "      <th>374169</th>\n",
       "      <td>40000.0</td>\n",
       "      <td>60 months</td>\n",
       "      <td>12.62</td>\n",
       "      <td>902.37</td>\n",
       "      <td>C</td>\n",
       "      <td>NaN</td>\n",
       "      <td>NaN</td>\n",
       "      <td>MORTGAGE</td>\n",
       "      <td>1.0</td>\n",
       "      <td>Not Verified</td>\n",
       "      <td>...</td>\n",
       "      <td>72.7</td>\n",
       "      <td>24.0</td>\n",
       "      <td>0</td>\n",
       "      <td>0.0</td>\n",
       "      <td>0.0</td>\n",
       "      <td>4.0</td>\n",
       "      <td>0.0</td>\n",
       "      <td>0.0</td>\n",
       "      <td>6.0</td>\n",
       "      <td>4.0</td>\n",
       "    </tr>\n",
       "    <tr>\n",
       "      <th>377231</th>\n",
       "      <td>11000.0</td>\n",
       "      <td>36 months</td>\n",
       "      <td>10.91</td>\n",
       "      <td>359.66</td>\n",
       "      <td>B</td>\n",
       "      <td>NaN</td>\n",
       "      <td>NaN</td>\n",
       "      <td>MORTGAGE</td>\n",
       "      <td>1.0</td>\n",
       "      <td>Not Verified</td>\n",
       "      <td>...</td>\n",
       "      <td>34.3</td>\n",
       "      <td>15.0</td>\n",
       "      <td>0</td>\n",
       "      <td>0.0</td>\n",
       "      <td>0.0</td>\n",
       "      <td>0.0</td>\n",
       "      <td>0.0</td>\n",
       "      <td>1.0</td>\n",
       "      <td>4.0</td>\n",
       "      <td>3.0</td>\n",
       "    </tr>\n",
       "    <tr>\n",
       "      <th>449882</th>\n",
       "      <td>2400.0</td>\n",
       "      <td>36 months</td>\n",
       "      <td>11.47</td>\n",
       "      <td>79.11</td>\n",
       "      <td>B</td>\n",
       "      <td>NaN</td>\n",
       "      <td>NaN</td>\n",
       "      <td>RENT</td>\n",
       "      <td>1.0</td>\n",
       "      <td>Not Verified</td>\n",
       "      <td>...</td>\n",
       "      <td>53.8</td>\n",
       "      <td>21.0</td>\n",
       "      <td>1</td>\n",
       "      <td>0.0</td>\n",
       "      <td>0.0</td>\n",
       "      <td>0.0</td>\n",
       "      <td>1.0</td>\n",
       "      <td>1.0</td>\n",
       "      <td>7.0</td>\n",
       "      <td>3.0</td>\n",
       "    </tr>\n",
       "    <tr>\n",
       "      <th>536730</th>\n",
       "      <td>24000.0</td>\n",
       "      <td>36 months</td>\n",
       "      <td>8.39</td>\n",
       "      <td>756.40</td>\n",
       "      <td>B</td>\n",
       "      <td>NaN</td>\n",
       "      <td>NaN</td>\n",
       "      <td>MORTGAGE</td>\n",
       "      <td>1.0</td>\n",
       "      <td>Not Verified</td>\n",
       "      <td>...</td>\n",
       "      <td>54.8</td>\n",
       "      <td>11.0</td>\n",
       "      <td>0</td>\n",
       "      <td>0.0</td>\n",
       "      <td>0.0</td>\n",
       "      <td>1.0</td>\n",
       "      <td>0.0</td>\n",
       "      <td>1.0</td>\n",
       "      <td>7.0</td>\n",
       "      <td>3.0</td>\n",
       "    </tr>\n",
       "    <tr>\n",
       "      <th>565842</th>\n",
       "      <td>18000.0</td>\n",
       "      <td>60 months</td>\n",
       "      <td>16.29</td>\n",
       "      <td>440.51</td>\n",
       "      <td>D</td>\n",
       "      <td>NaN</td>\n",
       "      <td>NaN</td>\n",
       "      <td>MORTGAGE</td>\n",
       "      <td>1.0</td>\n",
       "      <td>Not Verified</td>\n",
       "      <td>...</td>\n",
       "      <td>31.9</td>\n",
       "      <td>23.0</td>\n",
       "      <td>1</td>\n",
       "      <td>1.0</td>\n",
       "      <td>1.0</td>\n",
       "      <td>1.0</td>\n",
       "      <td>0.0</td>\n",
       "      <td>2.0</td>\n",
       "      <td>8.0</td>\n",
       "      <td>2.0</td>\n",
       "    </tr>\n",
       "    <tr>\n",
       "      <th>836963</th>\n",
       "      <td>8000.0</td>\n",
       "      <td>36 months</td>\n",
       "      <td>25.81</td>\n",
       "      <td>321.52</td>\n",
       "      <td>E</td>\n",
       "      <td>NaN</td>\n",
       "      <td>NaN</td>\n",
       "      <td>MORTGAGE</td>\n",
       "      <td>1.0</td>\n",
       "      <td>Not Verified</td>\n",
       "      <td>...</td>\n",
       "      <td>73.5</td>\n",
       "      <td>28.0</td>\n",
       "      <td>1</td>\n",
       "      <td>0.0</td>\n",
       "      <td>0.0</td>\n",
       "      <td>1.0</td>\n",
       "      <td>0.0</td>\n",
       "      <td>1.0</td>\n",
       "      <td>8.0</td>\n",
       "      <td>2.0</td>\n",
       "    </tr>\n",
       "    <tr>\n",
       "      <th>1175584</th>\n",
       "      <td>15000.0</td>\n",
       "      <td>36 months</td>\n",
       "      <td>10.91</td>\n",
       "      <td>490.45</td>\n",
       "      <td>B</td>\n",
       "      <td>RN</td>\n",
       "      <td>10+ years</td>\n",
       "      <td>RENT</td>\n",
       "      <td>2.0</td>\n",
       "      <td>Not Verified</td>\n",
       "      <td>...</td>\n",
       "      <td>67.6</td>\n",
       "      <td>24.0</td>\n",
       "      <td>0</td>\n",
       "      <td>0.0</td>\n",
       "      <td>0.0</td>\n",
       "      <td>3.0</td>\n",
       "      <td>1.0</td>\n",
       "      <td>1.0</td>\n",
       "      <td>7.0</td>\n",
       "      <td>1.0</td>\n",
       "    </tr>\n",
       "    <tr>\n",
       "      <th>1190155</th>\n",
       "      <td>3600.0</td>\n",
       "      <td>36 months</td>\n",
       "      <td>14.08</td>\n",
       "      <td>123.18</td>\n",
       "      <td>C</td>\n",
       "      <td>NaN</td>\n",
       "      <td>NaN</td>\n",
       "      <td>RENT</td>\n",
       "      <td>1.0</td>\n",
       "      <td>Verified</td>\n",
       "      <td>...</td>\n",
       "      <td>19.2</td>\n",
       "      <td>16.0</td>\n",
       "      <td>0</td>\n",
       "      <td>0.0</td>\n",
       "      <td>0.0</td>\n",
       "      <td>0.0</td>\n",
       "      <td>1.0</td>\n",
       "      <td>1.0</td>\n",
       "      <td>6.0</td>\n",
       "      <td>3.0</td>\n",
       "    </tr>\n",
       "    <tr>\n",
       "      <th>1193187</th>\n",
       "      <td>40000.0</td>\n",
       "      <td>60 months</td>\n",
       "      <td>9.93</td>\n",
       "      <td>848.51</td>\n",
       "      <td>B</td>\n",
       "      <td>Admin</td>\n",
       "      <td>&lt; 1 year</td>\n",
       "      <td>MORTGAGE</td>\n",
       "      <td>1.0</td>\n",
       "      <td>Not Verified</td>\n",
       "      <td>...</td>\n",
       "      <td>24.3</td>\n",
       "      <td>11.0</td>\n",
       "      <td>0</td>\n",
       "      <td>0.0</td>\n",
       "      <td>0.0</td>\n",
       "      <td>0.0</td>\n",
       "      <td>1.0</td>\n",
       "      <td>1.0</td>\n",
       "      <td>7.0</td>\n",
       "      <td>4.0</td>\n",
       "    </tr>\n",
       "    <tr>\n",
       "      <th>1230318</th>\n",
       "      <td>15000.0</td>\n",
       "      <td>36 months</td>\n",
       "      <td>11.39</td>\n",
       "      <td>493.86</td>\n",
       "      <td>B</td>\n",
       "      <td>NaN</td>\n",
       "      <td>NaN</td>\n",
       "      <td>MORTGAGE</td>\n",
       "      <td>1.0</td>\n",
       "      <td>Not Verified</td>\n",
       "      <td>...</td>\n",
       "      <td>39.0</td>\n",
       "      <td>34.0</td>\n",
       "      <td>0</td>\n",
       "      <td>0.0</td>\n",
       "      <td>0.0</td>\n",
       "      <td>2.0</td>\n",
       "      <td>1.0</td>\n",
       "      <td>3.0</td>\n",
       "      <td>7.0</td>\n",
       "      <td>3.0</td>\n",
       "    </tr>\n",
       "  </tbody>\n",
       "</table>\n",
       "<p>11 rows × 24 columns</p>\n",
       "</div>"
      ],
      "text/plain": [
       "         loan_amnt        term  int_rate  installment grade emp_title  \\\n",
       "371239      6000.0   36 months     10.42       194.79     B       NaN   \n",
       "374169     40000.0   60 months     12.62       902.37     C       NaN   \n",
       "377231     11000.0   36 months     10.91       359.66     B       NaN   \n",
       "449882      2400.0   36 months     11.47        79.11     B       NaN   \n",
       "536730     24000.0   36 months      8.39       756.40     B       NaN   \n",
       "565842     18000.0   60 months     16.29       440.51     D       NaN   \n",
       "836963      8000.0   36 months     25.81       321.52     E       NaN   \n",
       "1175584    15000.0   36 months     10.91       490.45     B        RN   \n",
       "1190155     3600.0   36 months     14.08       123.18     C       NaN   \n",
       "1193187    40000.0   60 months      9.93       848.51     B     Admin   \n",
       "1230318    15000.0   36 months     11.39       493.86     B       NaN   \n",
       "\n",
       "        emp_length home_ownership  annual_inc verification_status  ...  \\\n",
       "371239         NaN       MORTGAGE         1.0        Not Verified  ...   \n",
       "374169         NaN       MORTGAGE         1.0        Not Verified  ...   \n",
       "377231         NaN       MORTGAGE         1.0        Not Verified  ...   \n",
       "449882         NaN           RENT         1.0        Not Verified  ...   \n",
       "536730         NaN       MORTGAGE         1.0        Not Verified  ...   \n",
       "565842         NaN       MORTGAGE         1.0        Not Verified  ...   \n",
       "836963         NaN       MORTGAGE         1.0        Not Verified  ...   \n",
       "1175584  10+ years           RENT         2.0        Not Verified  ...   \n",
       "1190155        NaN           RENT         1.0            Verified  ...   \n",
       "1193187   < 1 year       MORTGAGE         1.0        Not Verified  ...   \n",
       "1230318        NaN       MORTGAGE         1.0        Not Verified  ...   \n",
       "\n",
       "        revol_util  total_acc  loan_status  pub_rec  pub_rec_bankruptcies  \\\n",
       "371239        20.4       17.0            0      0.0                   0.0   \n",
       "374169        72.7       24.0            0      0.0                   0.0   \n",
       "377231        34.3       15.0            0      0.0                   0.0   \n",
       "449882        53.8       21.0            1      0.0                   0.0   \n",
       "536730        54.8       11.0            0      0.0                   0.0   \n",
       "565842        31.9       23.0            1      1.0                   1.0   \n",
       "836963        73.5       28.0            1      0.0                   0.0   \n",
       "1175584       67.6       24.0            0      0.0                   0.0   \n",
       "1190155       19.2       16.0            0      0.0                   0.0   \n",
       "1193187       24.3       11.0            0      0.0                   0.0   \n",
       "1230318       39.0       34.0            0      0.0                   0.0   \n",
       "\n",
       "         mort_acc  inq_last_6mths  inq_last_12m  num_bc_tl  num_actv_bc_tl  \n",
       "371239        2.0             0.0           2.0        4.0             3.0  \n",
       "374169        4.0             0.0           0.0        6.0             4.0  \n",
       "377231        0.0             0.0           1.0        4.0             3.0  \n",
       "449882        0.0             1.0           1.0        7.0             3.0  \n",
       "536730        1.0             0.0           1.0        7.0             3.0  \n",
       "565842        1.0             0.0           2.0        8.0             2.0  \n",
       "836963        1.0             0.0           1.0        8.0             2.0  \n",
       "1175584       3.0             1.0           1.0        7.0             1.0  \n",
       "1190155       0.0             1.0           1.0        6.0             3.0  \n",
       "1193187       0.0             1.0           1.0        7.0             4.0  \n",
       "1230318       2.0             1.0           3.0        7.0             3.0  \n",
       "\n",
       "[11 rows x 24 columns]"
      ]
     },
     "execution_count": 302,
     "metadata": {},
     "output_type": "execute_result"
    }
   ],
   "source": [
    "# dti NA들이 연간 소득 0인 거랑 연관있는지 확인\n",
    "print(acc_cleaned[acc_cleaned['annual_inc']==0].shape[0])\n",
    "print(acc_cleaned.loc[acc_cleaned['annual_inc']==0, 'dti'].unique())\n",
    "print(acc_cleaned[(acc_cleaned['annual_inc'] == 0) & (acc_cleaned['verification_status'] == 'Not Verified')].shape[0])\n",
    "# 관련 존재! 연간 소득 0이면 dti NA임\n",
    "acc_cleaned[(acc_cleaned['annual_inc']!=0) & (acc_cleaned['dti'].isnull())] # 연간 소득이 1 or 2\n",
    "# 351"
   ]
  },
  {
   "cell_type": "code",
   "execution_count": 303,
   "id": "de7eeb62",
   "metadata": {},
   "outputs": [],
   "source": [
    "# # 리볼빙 신용 총 한도 - total_rev_hi_lim 칼럼 있어야 확인 가능\n",
    "# print(acc_cleaned[(acc_cleaned['total_rev_hi_lim'] == 0) | (acc_cleaned['total_rev_hi_lim'].isnull())].shape[0])\n",
    "# print('리볼빙 신용 총 한도가 0인 데이터 수', acc_cleaned[(acc_cleaned['total_rev_hi_lim'] == 0)].shape[0], '\\n 총 한도가 na인 데이터 수' , acc_cleaned[acc_cleaned['total_rev_hi_lim'].isnull()].shape[0])\n",
    "# # 리볼빙 신용 총 한도 == 0 이면서 revol_util NA\n",
    "# print(acc_cleaned[(acc_cleaned['total_rev_hi_lim'] == 0) & (acc_cleaned['revol_util'].isnull())].shape[0])\n",
    "# print(acc_cleaned[(acc_cleaned['total_rev_hi_lim'].isnull()) & (acc_cleaned['revol_util'].isnull())].shape[0])\n",
    "# acc_cleaned.loc[((acc_cleaned['total_rev_hi_lim'] != 0 ) & (acc_cleaned['total_rev_hi_lim'].notna())) & (acc_cleaned['revol_util'].isnull()), 'revol_util':'total_rev_hi_lim']"
   ]
  },
  {
   "cell_type": "code",
   "execution_count": 304,
   "id": "3423a476",
   "metadata": {},
   "outputs": [
    {
     "name": "stdout",
     "output_type": "stream",
     "text": [
      "1244762\n",
      "        pub_rec  pub_rec_bankruptcies verification_status\n",
      "884238      0.0                   NaN        Not Verified\n",
      "884290      0.0                   NaN        Not Verified\n",
      "884594      0.0                   NaN        Not Verified\n",
      "887675      0.0                   NaN            Verified\n",
      "887949      0.0                   NaN        Not Verified\n",
      "...         ...                   ...                 ...\n",
      "888944      0.0                   NaN        Not Verified\n",
      "888945      0.0                   NaN        Not Verified\n",
      "888946      0.0                   NaN        Not Verified\n",
      "888947      0.0                   NaN        Not Verified\n",
      "888948      0.0                   NaN        Not Verified\n",
      "\n",
      "[697 rows x 3 columns]\n",
      "677\n",
      "verification_status\n",
      "Not Verified    676\n",
      "Verified          1\n",
      "Name: count, dtype: int64\n",
      "        loan_amnt        term  int_rate  installment grade  \\\n",
      "888247     7000.0   36 months     11.34       230.30     C   \n",
      "888261    10000.0   36 months     13.24       338.10     D   \n",
      "888286    20000.0   36 months     12.29       667.06     C   \n",
      "888322    11000.0   36 months     11.34       361.90     C   \n",
      "888340     8000.0   36 months     10.08       258.44     B   \n",
      "888351    10000.0   36 months     11.34       329.00     C   \n",
      "888446    18000.0   36 months     13.24       608.58     D   \n",
      "888465     5000.0   36 months     12.61       167.54     D   \n",
      "888510    10150.0   36 months     11.97       336.98     C   \n",
      "888536    10000.0   36 months     14.88       346.07     E   \n",
      "888567    12000.0   36 months      9.20       382.72     B   \n",
      "888629      500.0   36 months     11.41        16.47     C   \n",
      "888640    10000.0   36 months     11.41       329.34     C   \n",
      "888676     2750.0   36 months      9.33        87.88     B   \n",
      "888677     9000.0   36 months      9.64       288.89     B   \n",
      "888741    10000.0   36 months     12.80       335.98     D   \n",
      "888747     9600.0   36 months     12.17       319.64     D   \n",
      "888792     3600.0   36 months     10.28       116.64     C   \n",
      "888833    12000.0   36 months     10.91       163.49     C   \n",
      "888941     5000.0   36 months     11.22       164.23     C   \n",
      "\n",
      "                                                emp_title emp_length  \\\n",
      "888247                                      Self Employed    2 years   \n",
      "888261                               General Motors Corp.    5 years   \n",
      "888286                                        Family Club  10+ years   \n",
      "888322                               The Bank of New York    2 years   \n",
      "888340                              Hurt & Proffitt, Inc.    2 years   \n",
      "888351                               MaryManningWalshHome    3 years   \n",
      "888446                                    MARSHAL PRODUCE  10+ years   \n",
      "888465                              united parcel service  10+ years   \n",
      "888510                                      Compass Group   < 1 year   \n",
      "888536                                  Kaiser Permanente    3 years   \n",
      "888567                       Abbott Terrace Health Center  10+ years   \n",
      "888629  Global Travel International -and- Global Domai...   < 1 year   \n",
      "888640                                   XYPRO Technology    2 years   \n",
      "888676                                         Fannie Mae    4 years   \n",
      "888677                                         Fannie Mae    4 years   \n",
      "888741                                 stoughton trucking    2 years   \n",
      "888747                                   The Ritz-Carlton    4 years   \n",
      "888792                               South Shore Millwork     1 year   \n",
      "888833                                            Staples     1 year   \n",
      "888941                                     Self-Employeed   < 1 year   \n",
      "\n",
      "       home_ownership  annual_inc verification_status  ... revol_util  \\\n",
      "888247            OWN     45000.0        Not Verified  ...       34.6   \n",
      "888261       MORTGAGE     58000.0        Not Verified  ...       54.9   \n",
      "888286           RENT     65000.0        Not Verified  ...       34.9   \n",
      "888322           RENT     52000.0        Not Verified  ...       43.6   \n",
      "888340       MORTGAGE     62000.0        Not Verified  ...       25.1   \n",
      "888351           RENT     28600.0        Not Verified  ...       54.1   \n",
      "888446            OWN     60000.0        Not Verified  ...       54.7   \n",
      "888465           RENT     25000.0        Not Verified  ...       47.1   \n",
      "888510       MORTGAGE     90096.0        Not Verified  ...       73.7   \n",
      "888536       MORTGAGE     65000.0        Not Verified  ...       65.1   \n",
      "888567           RENT     40000.0        Not Verified  ...       11.0   \n",
      "888629           RENT     19500.0        Not Verified  ...       90.6   \n",
      "888640           RENT     78504.0        Not Verified  ...       27.6   \n",
      "888676       MORTGAGE    112000.0        Not Verified  ...       85.5   \n",
      "888677       MORTGAGE    112000.0        Not Verified  ...       85.5   \n",
      "888741           RENT     58800.0        Not Verified  ...       80.6   \n",
      "888747           RENT     60000.0        Not Verified  ...       91.7   \n",
      "888792           RENT     30000.0        Not Verified  ...       71.7   \n",
      "888833       MORTGAGE     39000.0        Not Verified  ...       33.4   \n",
      "888941            OWN     80000.0        Not Verified  ...       16.1   \n",
      "\n",
      "        total_acc  loan_status  pub_rec  pub_rec_bankruptcies  mort_acc  \\\n",
      "888247       26.0            0      1.0                   NaN       NaN   \n",
      "888261       16.0            0      1.0                   NaN       NaN   \n",
      "888286       12.0            1      1.0                   NaN       NaN   \n",
      "888322       14.0            0      1.0                   NaN       NaN   \n",
      "888340       12.0            0      1.0                   NaN       NaN   \n",
      "888351        6.0            0      1.0                   NaN       NaN   \n",
      "888446       23.0            1      1.0                   NaN       NaN   \n",
      "888465       10.0            0      1.0                   NaN       NaN   \n",
      "888510       17.0            0      1.0                   NaN       NaN   \n",
      "888536       26.0            0      1.0                   NaN       NaN   \n",
      "888567       10.0            0      1.0                   NaN       NaN   \n",
      "888629       15.0            0      1.0                   NaN       NaN   \n",
      "888640       29.0            0      1.0                   NaN       NaN   \n",
      "888676       16.0            1      1.0                   NaN       NaN   \n",
      "888677       16.0            1      1.0                   NaN       NaN   \n",
      "888741       15.0            0      2.0                   NaN       NaN   \n",
      "888747       24.0            1      1.0                   NaN       NaN   \n",
      "888792       10.0            0      1.0                   NaN       NaN   \n",
      "888833       14.0            1      1.0                   NaN       NaN   \n",
      "888941       29.0            0      1.0                   NaN       NaN   \n",
      "\n",
      "        inq_last_6mths  inq_last_12m  num_bc_tl  num_actv_bc_tl  \n",
      "888247             1.0           NaN        NaN             NaN  \n",
      "888261             3.0           NaN        NaN             NaN  \n",
      "888286             1.0           NaN        NaN             NaN  \n",
      "888322             0.0           NaN        NaN             NaN  \n",
      "888340             1.0           NaN        NaN             NaN  \n",
      "888351             2.0           NaN        NaN             NaN  \n",
      "888446             0.0           NaN        NaN             NaN  \n",
      "888465             2.0           NaN        NaN             NaN  \n",
      "888510             0.0           NaN        NaN             NaN  \n",
      "888536             1.0           NaN        NaN             NaN  \n",
      "888567             1.0           NaN        NaN             NaN  \n",
      "888629             0.0           NaN        NaN             NaN  \n",
      "888640             3.0           NaN        NaN             NaN  \n",
      "888676             2.0           NaN        NaN             NaN  \n",
      "888677             2.0           NaN        NaN             NaN  \n",
      "888741             3.0           NaN        NaN             NaN  \n",
      "888747             2.0           NaN        NaN             NaN  \n",
      "888792             0.0           NaN        NaN             NaN  \n",
      "888833             0.0           NaN        NaN             NaN  \n",
      "888941             3.0           NaN        NaN             NaN  \n",
      "\n",
      "[20 rows x 24 columns]\n"
     ]
    }
   ],
   "source": [
    "# 파산 기록 NA 값 확인\n",
    "print(acc_cleaned[acc_cleaned['pub_rec_bankruptcies'] >= 0].shape[0])\n",
    "print(acc_cleaned.loc[(acc_cleaned['pub_rec'].notnull()) & (acc_cleaned['pub_rec_bankruptcies'].isnull()), ['pub_rec', 'pub_rec_bankruptcies', 'verification_status']])\n",
    "print(acc_cleaned.loc[(acc_cleaned['pub_rec'] == 0) & (acc_cleaned['pub_rec_bankruptcies'].isnull())].shape[0])\n",
    "print(acc_cleaned.loc[(acc_cleaned['pub_rec'] == 0) & (acc_cleaned['pub_rec_bankruptcies'].isnull()), ['pub_rec', 'pub_rec_bankruptcies', 'verification_status']].value_counts('verification_status'))\n",
    "print(acc_cleaned.loc[(acc_cleaned['pub_rec'] != 0) & (acc_cleaned['pub_rec_bankruptcies'].isnull())])"
   ]
  },
  {
   "cell_type": "code",
   "execution_count": 305,
   "id": "fc0dde2b",
   "metadata": {},
   "outputs": [
    {
     "name": "stdout",
     "output_type": "stream",
     "text": [
      "1198178\n",
      "        loan_amnt        term  int_rate  installment grade emp_title  \\\n",
      "888550    10000.0   36 months      7.75       312.22     A       ups   \n",
      "888891     4000.0   36 months      9.64       128.41     B       NaN   \n",
      "888892     2800.0   36 months      8.70        88.65     B       NaN   \n",
      "\n",
      "       emp_length home_ownership  annual_inc verification_status  ...  \\\n",
      "888550    5 years           NONE     22200.0        Not Verified  ...   \n",
      "888891   < 1 year           NONE    100000.0        Not Verified  ...   \n",
      "888892   < 1 year           NONE    120000.0        Not Verified  ...   \n",
      "\n",
      "       revol_util  total_acc  loan_status  pub_rec  pub_rec_bankruptcies  \\\n",
      "888550        8.7       22.0            0      0.0                   NaN   \n",
      "888891       14.9        8.0            0      0.0                   NaN   \n",
      "888892       14.9        8.0            0      0.0                   NaN   \n",
      "\n",
      "        mort_acc  inq_last_6mths  inq_last_12m  num_bc_tl  num_actv_bc_tl  \n",
      "888550       NaN             0.0           NaN        NaN             NaN  \n",
      "888891       NaN             1.0           NaN        NaN             NaN  \n",
      "888892       NaN             1.0           NaN        NaN             NaN  \n",
      "\n",
      "[3 rows x 24 columns]\n",
      "20819\n",
      "verification_status\n",
      "Verified               7935\n",
      "Not Verified           7920\n",
      "Source Verified        4964\n",
      "Name: count, dtype: int64\n",
      "home_ownership  verification_status\n",
      "RENT            Not Verified           9571\n",
      "                Source Verified        6642\n",
      "                Verified               6483\n",
      "OWN             Not Verified           1680\n",
      "                Verified               1016\n",
      "                Source Verified         968\n",
      "OTHER           Not Verified             52\n",
      "                Verified                 37\n",
      "                Source Verified          10\n",
      "Name: count, dtype: int64\n"
     ]
    }
   ],
   "source": [
    "# mort_acc - 모기지 대출 계좌수\n",
    "print(acc_cleaned[acc_cleaned['mort_acc'] >= 0].shape[0]) # 0 존재\n",
    "print(acc_cleaned[(acc_cleaned['home_ownership'] == 'NONE') & (acc_cleaned['mort_acc'].isnull())])\n",
    "print(acc_cleaned[(acc_cleaned['home_ownership'] == 'MORTGAGE') & (acc_cleaned['mort_acc'].isnull())].shape[0])\n",
    "print(acc_cleaned[(acc_cleaned['home_ownership'] == 'MORTGAGE') & (acc_cleaned['mort_acc'].isnull())].value_counts(['verification_status']))\n",
    "print(acc_cleaned[(acc_cleaned['home_ownership'].isin(['RENT', 'OWN', 'ANY', 'OTHER'])) & (acc_cleaned['mort_acc'].isnull())].value_counts(['home_ownership', 'verification_status']))\n"
   ]
  },
  {
   "cell_type": "code",
   "execution_count": 306,
   "id": "482afa86",
   "metadata": {},
   "outputs": [
    {
     "data": {
      "text/html": [
       "<div>\n",
       "<style scoped>\n",
       "    .dataframe tbody tr th:only-of-type {\n",
       "        vertical-align: middle;\n",
       "    }\n",
       "\n",
       "    .dataframe tbody tr th {\n",
       "        vertical-align: top;\n",
       "    }\n",
       "\n",
       "    .dataframe thead th {\n",
       "        text-align: right;\n",
       "    }\n",
       "</style>\n",
       "<table border=\"1\" class=\"dataframe\">\n",
       "  <thead>\n",
       "    <tr style=\"text-align: right;\">\n",
       "      <th></th>\n",
       "      <th>mean</th>\n",
       "      <th>median</th>\n",
       "    </tr>\n",
       "    <tr>\n",
       "      <th>home_ownership</th>\n",
       "      <th></th>\n",
       "      <th></th>\n",
       "    </tr>\n",
       "  </thead>\n",
       "  <tbody>\n",
       "    <tr>\n",
       "      <th>ANY</th>\n",
       "      <td>1.459459</td>\n",
       "      <td>1.0</td>\n",
       "    </tr>\n",
       "    <tr>\n",
       "      <th>MORTGAGE</th>\n",
       "      <td>2.472820</td>\n",
       "      <td>2.0</td>\n",
       "    </tr>\n",
       "    <tr>\n",
       "      <th>NONE</th>\n",
       "      <td>1.720930</td>\n",
       "      <td>1.0</td>\n",
       "    </tr>\n",
       "    <tr>\n",
       "      <th>OTHER</th>\n",
       "      <td>1.534884</td>\n",
       "      <td>1.0</td>\n",
       "    </tr>\n",
       "    <tr>\n",
       "      <th>OWN</th>\n",
       "      <td>1.225130</td>\n",
       "      <td>1.0</td>\n",
       "    </tr>\n",
       "    <tr>\n",
       "      <th>RENT</th>\n",
       "      <td>0.512155</td>\n",
       "      <td>0.0</td>\n",
       "    </tr>\n",
       "  </tbody>\n",
       "</table>\n",
       "</div>"
      ],
      "text/plain": [
       "                    mean  median\n",
       "home_ownership                  \n",
       "ANY             1.459459     1.0\n",
       "MORTGAGE        2.472820     2.0\n",
       "NONE            1.720930     1.0\n",
       "OTHER           1.534884     1.0\n",
       "OWN             1.225130     1.0\n",
       "RENT            0.512155     0.0"
      ]
     },
     "execution_count": 306,
     "metadata": {},
     "output_type": "execute_result"
    }
   ],
   "source": [
    "acc_cleaned.groupby('home_ownership')['mort_acc'].agg(['mean', 'median'])"
   ]
  },
  {
   "cell_type": "code",
   "execution_count": 307,
   "id": "90b7ae6a",
   "metadata": {},
   "outputs": [
    {
     "name": "stdout",
     "output_type": "stream",
     "text": [
      "        loan_amnt        term  int_rate  installment grade  \\\n",
      "603969    35000.0   60 months       9.8       740.21     B   \n",
      "\n",
      "                   emp_title emp_length home_ownership  annual_inc  \\\n",
      "603969  Subcontracts Manager  10+ years       MORTGAGE    110000.0   \n",
      "\n",
      "       verification_status  ... revol_util  total_acc  loan_status  pub_rec  \\\n",
      "603969     Source Verified  ...        3.5       36.0            0      0.0   \n",
      "\n",
      "        pub_rec_bankruptcies  mort_acc  inq_last_6mths  inq_last_12m  \\\n",
      "603969                   0.0       4.0             NaN           NaN   \n",
      "\n",
      "        num_bc_tl  num_actv_bc_tl  \n",
      "603969       10.0             1.0  \n",
      "\n",
      "[1 rows x 24 columns]\n",
      "729705\n"
     ]
    }
   ],
   "source": [
    "# inq_last_6mths 지난 6개월간 신용조회 횟수\n",
    "# na 값있는 행 확인\n",
    "print(acc_cleaned[acc_cleaned['inq_last_6mths'].isna()])\n",
    "print(acc_cleaned[acc_cleaned['inq_last_6mths'] == 0].shape[0])"
   ]
  },
  {
   "cell_type": "code",
   "execution_count": 308,
   "id": "f6212582",
   "metadata": {},
   "outputs": [
    {
     "data": {
      "text/plain": [
       "mean      0.621508\n",
       "median    0.000000\n",
       "Name: inq_last_6mths, dtype: float64"
      ]
     },
     "execution_count": 308,
     "metadata": {},
     "output_type": "execute_result"
    }
   ],
   "source": [
    "acc_cleaned['inq_last_6mths'].agg(['mean', 'median'])"
   ]
  },
  {
   "cell_type": "code",
   "execution_count": 309,
   "id": "9b47fcc9",
   "metadata": {},
   "outputs": [
    {
     "data": {
      "text/html": [
       "<div>\n",
       "<style scoped>\n",
       "    .dataframe tbody tr th:only-of-type {\n",
       "        vertical-align: middle;\n",
       "    }\n",
       "\n",
       "    .dataframe tbody tr th {\n",
       "        vertical-align: top;\n",
       "    }\n",
       "\n",
       "    .dataframe thead th {\n",
       "        text-align: right;\n",
       "    }\n",
       "</style>\n",
       "<table border=\"1\" class=\"dataframe\">\n",
       "  <thead>\n",
       "    <tr style=\"text-align: right;\">\n",
       "      <th></th>\n",
       "      <th></th>\n",
       "      <th></th>\n",
       "      <th>mean</th>\n",
       "      <th>median</th>\n",
       "    </tr>\n",
       "    <tr>\n",
       "      <th>grade</th>\n",
       "      <th>home_ownership</th>\n",
       "      <th>verification_status</th>\n",
       "      <th></th>\n",
       "      <th></th>\n",
       "    </tr>\n",
       "  </thead>\n",
       "  <tbody>\n",
       "    <tr>\n",
       "      <th rowspan=\"17\" valign=\"top\">B</th>\n",
       "      <th rowspan=\"3\" valign=\"top\">ANY</th>\n",
       "      <th>Not Verified</th>\n",
       "      <td>0.323529</td>\n",
       "      <td>0.0</td>\n",
       "    </tr>\n",
       "    <tr>\n",
       "      <th>Source Verified</th>\n",
       "      <td>0.421053</td>\n",
       "      <td>0.0</td>\n",
       "    </tr>\n",
       "    <tr>\n",
       "      <th>Verified</th>\n",
       "      <td>0.533333</td>\n",
       "      <td>0.0</td>\n",
       "    </tr>\n",
       "    <tr>\n",
       "      <th rowspan=\"3\" valign=\"top\">MORTGAGE</th>\n",
       "      <th>Not Verified</th>\n",
       "      <td>0.527686</td>\n",
       "      <td>0.0</td>\n",
       "    </tr>\n",
       "    <tr>\n",
       "      <th>Source Verified</th>\n",
       "      <td>0.522616</td>\n",
       "      <td>0.0</td>\n",
       "    </tr>\n",
       "    <tr>\n",
       "      <th>Verified</th>\n",
       "      <td>0.607652</td>\n",
       "      <td>0.0</td>\n",
       "    </tr>\n",
       "    <tr>\n",
       "      <th rowspan=\"2\" valign=\"top\">NONE</th>\n",
       "      <th>Not Verified</th>\n",
       "      <td>0.666667</td>\n",
       "      <td>0.5</td>\n",
       "    </tr>\n",
       "    <tr>\n",
       "      <th>Verified</th>\n",
       "      <td>0.714286</td>\n",
       "      <td>0.0</td>\n",
       "    </tr>\n",
       "    <tr>\n",
       "      <th rowspan=\"3\" valign=\"top\">OTHER</th>\n",
       "      <th>Not Verified</th>\n",
       "      <td>0.863636</td>\n",
       "      <td>1.0</td>\n",
       "    </tr>\n",
       "    <tr>\n",
       "      <th>Source Verified</th>\n",
       "      <td>0.800000</td>\n",
       "      <td>1.0</td>\n",
       "    </tr>\n",
       "    <tr>\n",
       "      <th>Verified</th>\n",
       "      <td>1.200000</td>\n",
       "      <td>1.0</td>\n",
       "    </tr>\n",
       "    <tr>\n",
       "      <th rowspan=\"3\" valign=\"top\">OWN</th>\n",
       "      <th>Not Verified</th>\n",
       "      <td>0.496880</td>\n",
       "      <td>0.0</td>\n",
       "    </tr>\n",
       "    <tr>\n",
       "      <th>Source Verified</th>\n",
       "      <td>0.487075</td>\n",
       "      <td>0.0</td>\n",
       "    </tr>\n",
       "    <tr>\n",
       "      <th>Verified</th>\n",
       "      <td>0.519481</td>\n",
       "      <td>0.0</td>\n",
       "    </tr>\n",
       "    <tr>\n",
       "      <th rowspan=\"3\" valign=\"top\">RENT</th>\n",
       "      <th>Not Verified</th>\n",
       "      <td>0.466111</td>\n",
       "      <td>0.0</td>\n",
       "    </tr>\n",
       "    <tr>\n",
       "      <th>Source Verified</th>\n",
       "      <td>0.454960</td>\n",
       "      <td>0.0</td>\n",
       "    </tr>\n",
       "    <tr>\n",
       "      <th>Verified</th>\n",
       "      <td>0.471548</td>\n",
       "      <td>0.0</td>\n",
       "    </tr>\n",
       "  </tbody>\n",
       "</table>\n",
       "</div>"
      ],
      "text/plain": [
       "                                              mean  median\n",
       "grade home_ownership verification_status                  \n",
       "B     ANY            Not Verified         0.323529     0.0\n",
       "                     Source Verified      0.421053     0.0\n",
       "                     Verified             0.533333     0.0\n",
       "      MORTGAGE       Not Verified         0.527686     0.0\n",
       "                     Source Verified      0.522616     0.0\n",
       "                     Verified             0.607652     0.0\n",
       "      NONE           Not Verified         0.666667     0.5\n",
       "                     Verified             0.714286     0.0\n",
       "      OTHER          Not Verified         0.863636     1.0\n",
       "                     Source Verified      0.800000     1.0\n",
       "                     Verified             1.200000     1.0\n",
       "      OWN            Not Verified         0.496880     0.0\n",
       "                     Source Verified      0.487075     0.0\n",
       "                     Verified             0.519481     0.0\n",
       "      RENT           Not Verified         0.466111     0.0\n",
       "                     Source Verified      0.454960     0.0\n",
       "                     Verified             0.471548     0.0"
      ]
     },
     "execution_count": 309,
     "metadata": {},
     "output_type": "execute_result"
    }
   ],
   "source": [
    "acc_cleaned.loc[acc_cleaned['grade'] == 'B'].groupby(['grade', 'home_ownership', 'verification_status'])['inq_last_6mths'].agg(['mean', 'median'])"
   ]
  },
  {
   "cell_type": "code",
   "execution_count": 310,
   "id": "29518671",
   "metadata": {},
   "outputs": [
    {
     "name": "stdout",
     "output_type": "stream",
     "text": [
      "67114\n",
      "2798\n",
      "47281\n"
     ]
    }
   ],
   "source": [
    "# num_bc_tl & num_actv_bc_tl\n",
    "# 총 신용카드 계좌 수, 활성화 된 신용카드 계좌 수\n",
    "print(acc_cleaned[acc_cleaned['num_bc_tl'].isnull() & acc_cleaned['num_actv_bc_tl'].isnull()].shape[0])\n",
    "print(acc_cleaned[acc_cleaned['num_bc_tl'] == 0].shape[0])\n",
    "print(acc_cleaned[acc_cleaned['num_bc_tl'].isnull() & acc_cleaned['num_actv_bc_tl'].isnull() & acc_cleaned['mort_acc'].isnull()\n",
    "            & acc_cleaned['inq_last_12m'].isnull()].shape[0])"
   ]
  },
  {
   "cell_type": "code",
   "execution_count": 311,
   "id": "9e480b0d",
   "metadata": {},
   "outputs": [
    {
     "name": "stdout",
     "output_type": "stream",
     "text": [
      "mean      3.439613\n",
      "median    3.000000\n",
      "Name: num_actv_bc_tl, dtype: float64\n",
      "mean      7.59055\n",
      "median    7.00000\n",
      "Name: num_bc_tl, dtype: float64\n"
     ]
    }
   ],
   "source": [
    "print(acc_cleaned['num_actv_bc_tl'].agg(['mean', 'median']))\n",
    "print(acc_cleaned['num_bc_tl'].agg(['mean', 'median']))"
   ]
  },
  {
   "cell_type": "markdown",
   "id": "4147fdd3",
   "metadata": {},
   "source": [
    "# 데이터 전처리"
   ]
  },
  {
   "cell_type": "markdown",
   "id": "c0019065",
   "metadata": {},
   "source": [
    "## Null 값 삭제 및 대체"
   ]
  },
  {
   "cell_type": "markdown",
   "id": "c78b81b5",
   "metadata": {},
   "source": [
    "* dti null 값 비율:  0.02893\n",
    "* revol_util null 값 비율:  0.07387\n",
    "* pub_rec_bankruptcies null 값 비율:  0.0638\n",
    "* mort_acc null 값 비율:  4.15554\n",
    "* inq_last_12m null 값 비율:  62.41306\n",
    "* num_bc_tl null 값 비율:  5.92643\n",
    "* num_actv_bc_tl null 값 비율:  5.92643"
   ]
  },
  {
   "cell_type": "code",
   "execution_count": 312,
   "id": "a3935cdf",
   "metadata": {},
   "outputs": [
    {
     "data": {
      "text/html": [
       "<div>\n",
       "<style scoped>\n",
       "    .dataframe tbody tr th:only-of-type {\n",
       "        vertical-align: middle;\n",
       "    }\n",
       "\n",
       "    .dataframe tbody tr th {\n",
       "        vertical-align: top;\n",
       "    }\n",
       "\n",
       "    .dataframe thead th {\n",
       "        text-align: right;\n",
       "    }\n",
       "</style>\n",
       "<table border=\"1\" class=\"dataframe\">\n",
       "  <thead>\n",
       "    <tr style=\"text-align: right;\">\n",
       "      <th></th>\n",
       "      <th>null_count</th>\n",
       "      <th>null_ratio</th>\n",
       "    </tr>\n",
       "  </thead>\n",
       "  <tbody>\n",
       "    <tr>\n",
       "      <th>loan_amnt</th>\n",
       "      <td>0</td>\n",
       "      <td>0.000000e+00</td>\n",
       "    </tr>\n",
       "    <tr>\n",
       "      <th>term</th>\n",
       "      <td>0</td>\n",
       "      <td>0.000000e+00</td>\n",
       "    </tr>\n",
       "    <tr>\n",
       "      <th>int_rate</th>\n",
       "      <td>0</td>\n",
       "      <td>0.000000e+00</td>\n",
       "    </tr>\n",
       "    <tr>\n",
       "      <th>installment</th>\n",
       "      <td>0</td>\n",
       "      <td>0.000000e+00</td>\n",
       "    </tr>\n",
       "    <tr>\n",
       "      <th>grade</th>\n",
       "      <td>0</td>\n",
       "      <td>0.000000e+00</td>\n",
       "    </tr>\n",
       "    <tr>\n",
       "      <th>emp_title</th>\n",
       "      <td>78075</td>\n",
       "      <td>6.268773e-02</td>\n",
       "    </tr>\n",
       "    <tr>\n",
       "      <th>emp_length</th>\n",
       "      <td>71243</td>\n",
       "      <td>5.720220e-02</td>\n",
       "    </tr>\n",
       "    <tr>\n",
       "      <th>home_ownership</th>\n",
       "      <td>0</td>\n",
       "      <td>0.000000e+00</td>\n",
       "    </tr>\n",
       "    <tr>\n",
       "      <th>annual_inc</th>\n",
       "      <td>0</td>\n",
       "      <td>0.000000e+00</td>\n",
       "    </tr>\n",
       "    <tr>\n",
       "      <th>verification_status</th>\n",
       "      <td>0</td>\n",
       "      <td>0.000000e+00</td>\n",
       "    </tr>\n",
       "    <tr>\n",
       "      <th>purpose</th>\n",
       "      <td>0</td>\n",
       "      <td>0.000000e+00</td>\n",
       "    </tr>\n",
       "    <tr>\n",
       "      <th>dti</th>\n",
       "      <td>353</td>\n",
       "      <td>2.834296e-04</td>\n",
       "    </tr>\n",
       "    <tr>\n",
       "      <th>open_acc</th>\n",
       "      <td>0</td>\n",
       "      <td>0.000000e+00</td>\n",
       "    </tr>\n",
       "    <tr>\n",
       "      <th>revol_bal</th>\n",
       "      <td>0</td>\n",
       "      <td>0.000000e+00</td>\n",
       "    </tr>\n",
       "    <tr>\n",
       "      <th>revol_util</th>\n",
       "      <td>820</td>\n",
       "      <td>6.583918e-04</td>\n",
       "    </tr>\n",
       "    <tr>\n",
       "      <th>total_acc</th>\n",
       "      <td>0</td>\n",
       "      <td>0.000000e+00</td>\n",
       "    </tr>\n",
       "    <tr>\n",
       "      <th>loan_status</th>\n",
       "      <td>0</td>\n",
       "      <td>0.000000e+00</td>\n",
       "    </tr>\n",
       "    <tr>\n",
       "      <th>pub_rec</th>\n",
       "      <td>0</td>\n",
       "      <td>0.000000e+00</td>\n",
       "    </tr>\n",
       "    <tr>\n",
       "      <th>pub_rec_bankruptcies</th>\n",
       "      <td>697</td>\n",
       "      <td>5.596330e-04</td>\n",
       "    </tr>\n",
       "    <tr>\n",
       "      <th>mort_acc</th>\n",
       "      <td>47281</td>\n",
       "      <td>3.796271e-02</td>\n",
       "    </tr>\n",
       "    <tr>\n",
       "      <th>inq_last_6mths</th>\n",
       "      <td>1</td>\n",
       "      <td>8.029168e-07</td>\n",
       "    </tr>\n",
       "    <tr>\n",
       "      <th>inq_last_12m</th>\n",
       "      <td>767953</td>\n",
       "      <td>6.166024e-01</td>\n",
       "    </tr>\n",
       "    <tr>\n",
       "      <th>num_bc_tl</th>\n",
       "      <td>67114</td>\n",
       "      <td>5.388696e-02</td>\n",
       "    </tr>\n",
       "    <tr>\n",
       "      <th>num_actv_bc_tl</th>\n",
       "      <td>67114</td>\n",
       "      <td>5.388696e-02</td>\n",
       "    </tr>\n",
       "  </tbody>\n",
       "</table>\n",
       "</div>"
      ],
      "text/plain": [
       "                      null_count    null_ratio\n",
       "loan_amnt                      0  0.000000e+00\n",
       "term                           0  0.000000e+00\n",
       "int_rate                       0  0.000000e+00\n",
       "installment                    0  0.000000e+00\n",
       "grade                          0  0.000000e+00\n",
       "emp_title                  78075  6.268773e-02\n",
       "emp_length                 71243  5.720220e-02\n",
       "home_ownership                 0  0.000000e+00\n",
       "annual_inc                     0  0.000000e+00\n",
       "verification_status            0  0.000000e+00\n",
       "purpose                        0  0.000000e+00\n",
       "dti                          353  2.834296e-04\n",
       "open_acc                       0  0.000000e+00\n",
       "revol_bal                      0  0.000000e+00\n",
       "revol_util                   820  6.583918e-04\n",
       "total_acc                      0  0.000000e+00\n",
       "loan_status                    0  0.000000e+00\n",
       "pub_rec                        0  0.000000e+00\n",
       "pub_rec_bankruptcies         697  5.596330e-04\n",
       "mort_acc                   47281  3.796271e-02\n",
       "inq_last_6mths                 1  8.029168e-07\n",
       "inq_last_12m              767953  6.166024e-01\n",
       "num_bc_tl                  67114  5.388696e-02\n",
       "num_actv_bc_tl             67114  5.388696e-02"
      ]
     },
     "execution_count": 312,
     "metadata": {},
     "output_type": "execute_result"
    }
   ],
   "source": [
    "# 각 컬럼의 결측치 개수와 비율을 함께 보기\n",
    "null_count = acc_cleaned.isnull().sum()\n",
    "null_ratio = acc_cleaned.isnull().sum() / acc_cleaned.shape[0]\n",
    "\n",
    "pd.DataFrame({\n",
    "    'null_count': null_count,\n",
    "    'null_ratio': null_ratio\n",
    "})\n"
   ]
  },
  {
   "cell_type": "markdown",
   "id": "e3c9c35f",
   "metadata": {},
   "source": [
    "### pub_rec_bankruptcies null값 처리"
   ]
  },
  {
   "cell_type": "code",
   "execution_count": 313,
   "id": "dd2a6648",
   "metadata": {},
   "outputs": [
    {
     "data": {
      "text/plain": [
       "677"
      ]
     },
     "execution_count": 313,
     "metadata": {},
     "output_type": "execute_result"
    }
   ],
   "source": [
    "# pub_rec  == 0 이고 pub_rec_bankruptcies == Null 인 항목 개수\n",
    "\n",
    "aa = acc_cleaned.loc[(acc_cleaned.pub_rec == 0) & (acc_cleaned.pub_rec_bankruptcies.isnull())]\n",
    "aa.shape[0]"
   ]
  },
  {
   "cell_type": "code",
   "execution_count": 314,
   "id": "747063ca",
   "metadata": {},
   "outputs": [],
   "source": [
    "# pub_rec  == 0 이고 pub_rec_bankruptcies == Null 인 항목들 pub_rec_bankruptcies 칼럼에서 0으로 만들기\n",
    "\n",
    "acc_cleaned.loc[\n",
    "    (acc_cleaned['pub_rec'] == 0) & (acc_cleaned['pub_rec_bankruptcies'].isnull()),\n",
    "    'pub_rec_bankruptcies'\n",
    "] = 0\n"
   ]
  },
  {
   "cell_type": "code",
   "execution_count": 315,
   "id": "a3bfada0",
   "metadata": {},
   "outputs": [],
   "source": [
    "# 결측치 미미한 항목들 해당 칼럼에서 dropna 실행\n",
    "acc_cleaned = acc_cleaned.dropna(subset = ['dti', 'revol_util', 'pub_rec_bankruptcies', 'inq_last_6mths'], axis=0)"
   ]
  },
  {
   "cell_type": "code",
   "execution_count": 316,
   "id": "8df1e52c",
   "metadata": {},
   "outputs": [
    {
     "data": {
      "text/plain": [
       "{'ANY': 1.0,\n",
       " 'MORTGAGE': 2.0,\n",
       " 'NONE': 1.0,\n",
       " 'OTHER': 1.0,\n",
       " 'OWN': 1.0,\n",
       " 'RENT': 0.0}"
      ]
     },
     "execution_count": 316,
     "metadata": {},
     "output_type": "execute_result"
    }
   ],
   "source": [
    "# 위에서 확인해봤을 때, 주택 소유 상태에 따라 주택 계좌 수 평균, 중앙값이 달랐음\n",
    "# mort_acc null 값 처리를 위해 \n",
    "home_mort_median = acc_cleaned.groupby('home_ownership')['mort_acc'].median().to_dict()\n",
    "home_mort_median"
   ]
  },
  {
   "cell_type": "code",
   "execution_count": 317,
   "id": "ad0d5578",
   "metadata": {},
   "outputs": [],
   "source": [
    "# mort_acc null 값 처리  - home_ownership에 따른 mort_acc 중앙값으로 대체\n",
    "acc_cleaned['mort_acc'] = acc_cleaned['mort_acc'].fillna(\n",
    "    acc_cleaned['home_ownership'].map(home_mort_median)\n",
    ")"
   ]
  },
  {
   "cell_type": "code",
   "execution_count": 318,
   "id": "eb58ee40",
   "metadata": {},
   "outputs": [
    {
     "data": {
      "text/plain": [
       "loan_amnt                   0\n",
       "term                        0\n",
       "int_rate                    0\n",
       "installment                 0\n",
       "grade                       0\n",
       "emp_title               77682\n",
       "emp_length              70857\n",
       "home_ownership              0\n",
       "annual_inc                  0\n",
       "verification_status         0\n",
       "purpose                     0\n",
       "dti                         0\n",
       "open_acc                    0\n",
       "revol_bal                   0\n",
       "revol_util                  0\n",
       "total_acc                   0\n",
       "loan_status                 0\n",
       "pub_rec                     0\n",
       "pub_rec_bankruptcies        0\n",
       "mort_acc                    0\n",
       "inq_last_6mths              0\n",
       "inq_last_12m                0\n",
       "num_bc_tl                   0\n",
       "num_actv_bc_tl              0\n",
       "dtype: int64"
      ]
     },
     "execution_count": 318,
     "metadata": {},
     "output_type": "execute_result"
    }
   ],
   "source": [
    "# 중앙값으로 null 값들 대체 - inq_last_12m(지난 12개월 신용조회 횟수), num_bc_tl(총 신용카드 계좌 수), num_actv_bc_tl(활성화 된 신용카드 계좌 수)\n",
    "# 횟수여서 중앙값으로 통일!\n",
    "acc_cleaned['inq_last_12m'] = acc_cleaned['inq_last_12m'].fillna(acc_cleaned['inq_last_12m'].median())\n",
    "acc_cleaned['num_bc_tl'] = acc_cleaned['num_bc_tl'].fillna(acc_cleaned['num_bc_tl'].median())\n",
    "acc_cleaned['num_actv_bc_tl'] = acc_cleaned['num_actv_bc_tl'].fillna(acc_cleaned['num_actv_bc_tl'].median())\n",
    "acc_cleaned.isna().sum()"
   ]
  },
  {
   "cell_type": "code",
   "execution_count": null,
   "id": "622e1327",
   "metadata": {},
   "outputs": [],
   "source": [
    "# 좀 더 편하게 사용하려고 csv 파일로 저장\n",
    "# acc_cleaned.to_csv('acc_cleaned.csv', index=False)"
   ]
  },
  {
   "cell_type": "code",
   "execution_count": 3,
   "id": "4012d6e7",
   "metadata": {},
   "outputs": [],
   "source": [
    "# csv file 이용 - 필요없으면 주석처리하기!\n",
    "acc_cleaned = pd.read_csv('acc_cleaned.csv')"
   ]
  },
  {
   "cell_type": "markdown",
   "id": "4d49450b",
   "metadata": {},
   "source": [
    "## 범주형 칼럼 인코딩하기"
   ]
  },
  {
   "cell_type": "code",
   "execution_count": 4,
   "id": "f7f26ff9",
   "metadata": {},
   "outputs": [
    {
     "data": {
      "text/plain": [
       "Index(['term', 'grade', 'emp_title', 'emp_length', 'home_ownership',\n",
       "       'verification_status', 'purpose'],\n",
       "      dtype='object')"
      ]
     },
     "execution_count": 4,
     "metadata": {},
     "output_type": "execute_result"
    }
   ],
   "source": [
    "# 범주형 칼럼 확인\n",
    "\n",
    "acc_cleaned.select_dtypes(include='object').columns"
   ]
  },
  {
   "cell_type": "code",
   "execution_count": 5,
   "id": "675581fd",
   "metadata": {},
   "outputs": [
    {
     "data": {
      "text/plain": [
       "array([' 36 months', ' 60 months'], dtype=object)"
      ]
     },
     "execution_count": 5,
     "metadata": {},
     "output_type": "execute_result"
    }
   ],
   "source": [
    "# term 칼럼 인코딩 ( 0,1 로 인코딩함)\n",
    "# 새로운 칼럼 만들지 않고 기존 칼럼에 인코딩 된 내용 덮어씀\n",
    "\n",
    "acc_cleaned.term.unique()"
   ]
  },
  {
   "cell_type": "code",
   "execution_count": 6,
   "id": "3ca31d45",
   "metadata": {},
   "outputs": [],
   "source": [
    "term_map = {' 36 months': 0, ' 60 months': 1}\n",
    "acc_cleaned['term'] = acc_cleaned['term'].map(term_map)\n"
   ]
  },
  {
   "cell_type": "code",
   "execution_count": 7,
   "id": "ff0c298f",
   "metadata": {},
   "outputs": [
    {
     "data": {
      "text/plain": [
       "term\n",
       "0    947700\n",
       "1    296566\n",
       "Name: count, dtype: int64"
      ]
     },
     "execution_count": 7,
     "metadata": {},
     "output_type": "execute_result"
    }
   ],
   "source": [
    "acc_cleaned.term.value_counts()"
   ]
  },
  {
   "cell_type": "code",
   "execution_count": 8,
   "id": "61665f26",
   "metadata": {},
   "outputs": [
    {
     "data": {
      "text/plain": [
       "grade\n",
       "B    367129\n",
       "C    352529\n",
       "A    219111\n",
       "D    183866\n",
       "E     85174\n",
       "F     28633\n",
       "G      7824\n",
       "Name: count, dtype: int64"
      ]
     },
     "execution_count": 8,
     "metadata": {},
     "output_type": "execute_result"
    }
   ],
   "source": [
    "# grade 인코딩 (1~7 등급으로 인코딩)\n",
    "\n",
    "acc_cleaned.grade.value_counts()"
   ]
  },
  {
   "cell_type": "code",
   "execution_count": 9,
   "id": "231b4250",
   "metadata": {},
   "outputs": [
    {
     "data": {
      "text/plain": [
       "grade\n",
       "1    219111\n",
       "2    367129\n",
       "3    352529\n",
       "4    183866\n",
       "5     85174\n",
       "6     28633\n",
       "7      7824\n",
       "Name: count, dtype: int64"
      ]
     },
     "execution_count": 9,
     "metadata": {},
     "output_type": "execute_result"
    }
   ],
   "source": [
    "grade_map = {'A': 1, 'B' : 2, 'C' : 3, 'D' : 4, 'E' : 5, 'F' : 6, 'G' : 7}\n",
    "acc_cleaned.grade = acc_cleaned.grade.map(grade_map)\n",
    "\n",
    "acc_cleaned.grade.value_counts().sort_index()"
   ]
  },
  {
   "cell_type": "code",
   "execution_count": 10,
   "id": "788401d0",
   "metadata": {},
   "outputs": [
    {
     "data": {
      "text/plain": [
       "home_ownership\n",
       "MORTGAGE    603904\n",
       "RENT        507269\n",
       "OWN         132649\n",
       "ANY            258\n",
       "OTHER          140\n",
       "NONE            46\n",
       "Name: count, dtype: int64"
      ]
     },
     "execution_count": 10,
     "metadata": {},
     "output_type": "execute_result"
    }
   ],
   "source": [
    "# home_ownership 인코딩\n",
    "# 원핫인코딩 사용\n",
    "\n",
    "acc_cleaned.home_ownership.value_counts()"
   ]
  },
  {
   "cell_type": "code",
   "execution_count": 11,
   "id": "7ef7e125",
   "metadata": {},
   "outputs": [],
   "source": [
    "home_dummies = pd.get_dummies(acc_cleaned['home_ownership'], prefix='home', dtype=int)\n",
    "acc_cleaned = pd.concat([acc_cleaned, home_dummies], axis=1)\n"
   ]
  },
  {
   "cell_type": "code",
   "execution_count": 12,
   "id": "eac58a2f",
   "metadata": {},
   "outputs": [
    {
     "data": {
      "text/html": [
       "<div>\n",
       "<style scoped>\n",
       "    .dataframe tbody tr th:only-of-type {\n",
       "        vertical-align: middle;\n",
       "    }\n",
       "\n",
       "    .dataframe tbody tr th {\n",
       "        vertical-align: top;\n",
       "    }\n",
       "\n",
       "    .dataframe thead th {\n",
       "        text-align: right;\n",
       "    }\n",
       "</style>\n",
       "<table border=\"1\" class=\"dataframe\">\n",
       "  <thead>\n",
       "    <tr style=\"text-align: right;\">\n",
       "      <th></th>\n",
       "      <th>home_ownership</th>\n",
       "      <th>home_ANY</th>\n",
       "      <th>home_MORTGAGE</th>\n",
       "      <th>home_NONE</th>\n",
       "      <th>home_OTHER</th>\n",
       "      <th>home_OWN</th>\n",
       "      <th>home_RENT</th>\n",
       "    </tr>\n",
       "  </thead>\n",
       "  <tbody>\n",
       "    <tr>\n",
       "      <th>0</th>\n",
       "      <td>MORTGAGE</td>\n",
       "      <td>0</td>\n",
       "      <td>1</td>\n",
       "      <td>0</td>\n",
       "      <td>0</td>\n",
       "      <td>0</td>\n",
       "      <td>0</td>\n",
       "    </tr>\n",
       "    <tr>\n",
       "      <th>1</th>\n",
       "      <td>MORTGAGE</td>\n",
       "      <td>0</td>\n",
       "      <td>1</td>\n",
       "      <td>0</td>\n",
       "      <td>0</td>\n",
       "      <td>0</td>\n",
       "      <td>0</td>\n",
       "    </tr>\n",
       "    <tr>\n",
       "      <th>2</th>\n",
       "      <td>MORTGAGE</td>\n",
       "      <td>0</td>\n",
       "      <td>1</td>\n",
       "      <td>0</td>\n",
       "      <td>0</td>\n",
       "      <td>0</td>\n",
       "      <td>0</td>\n",
       "    </tr>\n",
       "    <tr>\n",
       "      <th>3</th>\n",
       "      <td>MORTGAGE</td>\n",
       "      <td>0</td>\n",
       "      <td>1</td>\n",
       "      <td>0</td>\n",
       "      <td>0</td>\n",
       "      <td>0</td>\n",
       "      <td>0</td>\n",
       "    </tr>\n",
       "    <tr>\n",
       "      <th>4</th>\n",
       "      <td>RENT</td>\n",
       "      <td>0</td>\n",
       "      <td>0</td>\n",
       "      <td>0</td>\n",
       "      <td>0</td>\n",
       "      <td>0</td>\n",
       "      <td>1</td>\n",
       "    </tr>\n",
       "  </tbody>\n",
       "</table>\n",
       "</div>"
      ],
      "text/plain": [
       "  home_ownership  home_ANY  home_MORTGAGE  home_NONE  home_OTHER  home_OWN  \\\n",
       "0       MORTGAGE         0              1          0           0         0   \n",
       "1       MORTGAGE         0              1          0           0         0   \n",
       "2       MORTGAGE         0              1          0           0         0   \n",
       "3       MORTGAGE         0              1          0           0         0   \n",
       "4           RENT         0              0          0           0         0   \n",
       "\n",
       "   home_RENT  \n",
       "0          0  \n",
       "1          0  \n",
       "2          0  \n",
       "3          0  \n",
       "4          1  "
      ]
     },
     "execution_count": 12,
     "metadata": {},
     "output_type": "execute_result"
    }
   ],
   "source": [
    "# home_ownership 원핫 인코딩 확인\n",
    "\n",
    "acc_cleaned.filter(like='home_').head()\n"
   ]
  },
  {
   "cell_type": "code",
   "execution_count": 13,
   "id": "2f4dcb77",
   "metadata": {},
   "outputs": [
    {
     "data": {
      "text/plain": [
       "verification_status\n",
       "Source Verified    482997\n",
       "Not Verified       381491\n",
       "Verified           379778\n",
       "Name: count, dtype: int64"
      ]
     },
     "execution_count": 13,
     "metadata": {},
     "output_type": "execute_result"
    }
   ],
   "source": [
    "# verification_status 인코딩\n",
    "\n",
    "acc_cleaned.verification_status.value_counts()"
   ]
  },
  {
   "cell_type": "code",
   "execution_count": 14,
   "id": "e621e61c",
   "metadata": {},
   "outputs": [],
   "source": [
    "ver_dummies = pd.get_dummies(acc_cleaned['verification_status'], prefix='vrfc', dtype=int)\n",
    "acc_cleaned = pd.concat([acc_cleaned, ver_dummies], axis=1)"
   ]
  },
  {
   "cell_type": "code",
   "execution_count": 15,
   "id": "c62f86d6",
   "metadata": {},
   "outputs": [
    {
     "data": {
      "text/html": [
       "<div>\n",
       "<style scoped>\n",
       "    .dataframe tbody tr th:only-of-type {\n",
       "        vertical-align: middle;\n",
       "    }\n",
       "\n",
       "    .dataframe tbody tr th {\n",
       "        vertical-align: top;\n",
       "    }\n",
       "\n",
       "    .dataframe thead th {\n",
       "        text-align: right;\n",
       "    }\n",
       "</style>\n",
       "<table border=\"1\" class=\"dataframe\">\n",
       "  <thead>\n",
       "    <tr style=\"text-align: right;\">\n",
       "      <th></th>\n",
       "      <th>vrfc_Not Verified</th>\n",
       "      <th>vrfc_Source Verified</th>\n",
       "      <th>vrfc_Verified</th>\n",
       "    </tr>\n",
       "  </thead>\n",
       "  <tbody>\n",
       "    <tr>\n",
       "      <th>0</th>\n",
       "      <td>1</td>\n",
       "      <td>0</td>\n",
       "      <td>0</td>\n",
       "    </tr>\n",
       "    <tr>\n",
       "      <th>1</th>\n",
       "      <td>1</td>\n",
       "      <td>0</td>\n",
       "      <td>0</td>\n",
       "    </tr>\n",
       "    <tr>\n",
       "      <th>2</th>\n",
       "      <td>1</td>\n",
       "      <td>0</td>\n",
       "      <td>0</td>\n",
       "    </tr>\n",
       "    <tr>\n",
       "      <th>3</th>\n",
       "      <td>0</td>\n",
       "      <td>1</td>\n",
       "      <td>0</td>\n",
       "    </tr>\n",
       "    <tr>\n",
       "      <th>4</th>\n",
       "      <td>0</td>\n",
       "      <td>1</td>\n",
       "      <td>0</td>\n",
       "    </tr>\n",
       "  </tbody>\n",
       "</table>\n",
       "</div>"
      ],
      "text/plain": [
       "   vrfc_Not Verified  vrfc_Source Verified  vrfc_Verified\n",
       "0                  1                     0              0\n",
       "1                  1                     0              0\n",
       "2                  1                     0              0\n",
       "3                  0                     1              0\n",
       "4                  0                     1              0"
      ]
     },
     "execution_count": 15,
     "metadata": {},
     "output_type": "execute_result"
    }
   ],
   "source": [
    "# verification_status 원핫인코딩 확인\n",
    "\n",
    "acc_cleaned.filter(like='vrfc_').head()\n"
   ]
  },
  {
   "cell_type": "code",
   "execution_count": 22,
   "id": "004b552d",
   "metadata": {},
   "outputs": [
    {
     "data": {
      "text/plain": [
       "purpose\n",
       "debt_consolidation    722810\n",
       "credit_card           272504\n",
       "home_improvement       78841\n",
       "other                  72735\n",
       "major_purchase         27402\n",
       "medical                14555\n",
       "small_business         14384\n",
       "car                    13678\n",
       "moving                  8984\n",
       "vacation                8403\n",
       "house                   6510\n",
       "wedding                 2269\n",
       "renewable_energy         868\n",
       "educational              323\n",
       "Name: count, dtype: int64"
      ]
     },
     "execution_count": 22,
     "metadata": {},
     "output_type": "execute_result"
    }
   ],
   "source": [
    "# purpose 인코딩\n",
    "# 1. 그룹화 시키기\n",
    "# 2. 원핫인코딩\n",
    "\n",
    "acc_cleaned.purpose.value_counts()\n",
    "\n"
   ]
  },
  {
   "cell_type": "code",
   "execution_count": 23,
   "id": "6923e37a",
   "metadata": {},
   "outputs": [
    {
     "data": {
      "text/plain": [
       "purpose\n",
       "debt_related    995314\n",
       "housing          85351\n",
       "other            72735\n",
       "consumption      60736\n",
       "edu_medical      14878\n",
       "business         14384\n",
       "energy             868\n",
       "Name: count, dtype: int64"
      ]
     },
     "execution_count": 23,
     "metadata": {},
     "output_type": "execute_result"
    }
   ],
   "source": [
    "# purpose 그룹화 시키기\n",
    "# 항목 14개-> 7개\n",
    "\n",
    "def group_purpose(x):\n",
    "    if x in ['debt_consolidation', 'credit_card']:\n",
    "        return 'debt_related'\n",
    "    elif x in ['home_improvement', 'house']:\n",
    "        return 'housing'\n",
    "    elif x in ['major_purchase', 'car', 'moving', 'vacation', 'wedding']:\n",
    "        return 'consumption'\n",
    "    elif x == 'small_business':\n",
    "        return 'business'\n",
    "    elif x in ['educational', 'medical']:\n",
    "        return 'edu_medical'\n",
    "    elif x == 'renewable_energy':\n",
    "        return 'energy'\n",
    "    else:\n",
    "        return 'other'\n",
    "\n",
    "acc_cleaned['purpose'] = acc_cleaned['purpose'].apply(group_purpose)\n",
    "\n",
    "acc_cleaned['purpose'].value_counts()\n"
   ]
  },
  {
   "cell_type": "code",
   "execution_count": 24,
   "id": "18a2408a",
   "metadata": {},
   "outputs": [],
   "source": [
    "purpose_dummies = pd.get_dummies((acc_cleaned.purpose), prefix='purp', dtype=int)\n",
    "acc_cleaned = pd.concat([acc_cleaned, purpose_dummies] , axis = 1)"
   ]
  },
  {
   "cell_type": "code",
   "execution_count": 25,
   "id": "32572733",
   "metadata": {},
   "outputs": [
    {
     "data": {
      "text/html": [
       "<div>\n",
       "<style scoped>\n",
       "    .dataframe tbody tr th:only-of-type {\n",
       "        vertical-align: middle;\n",
       "    }\n",
       "\n",
       "    .dataframe tbody tr th {\n",
       "        vertical-align: top;\n",
       "    }\n",
       "\n",
       "    .dataframe thead th {\n",
       "        text-align: right;\n",
       "    }\n",
       "</style>\n",
       "<table border=\"1\" class=\"dataframe\">\n",
       "  <thead>\n",
       "    <tr style=\"text-align: right;\">\n",
       "      <th></th>\n",
       "      <th>purpose</th>\n",
       "      <th>purp_business</th>\n",
       "      <th>purp_consumption</th>\n",
       "      <th>purp_debt_related</th>\n",
       "      <th>purp_edu_medical</th>\n",
       "      <th>purp_energy</th>\n",
       "      <th>purp_housing</th>\n",
       "      <th>purp_other</th>\n",
       "    </tr>\n",
       "  </thead>\n",
       "  <tbody>\n",
       "    <tr>\n",
       "      <th>0</th>\n",
       "      <td>debt_related</td>\n",
       "      <td>0</td>\n",
       "      <td>0</td>\n",
       "      <td>1</td>\n",
       "      <td>0</td>\n",
       "      <td>0</td>\n",
       "      <td>0</td>\n",
       "      <td>0</td>\n",
       "    </tr>\n",
       "    <tr>\n",
       "      <th>1</th>\n",
       "      <td>business</td>\n",
       "      <td>1</td>\n",
       "      <td>0</td>\n",
       "      <td>0</td>\n",
       "      <td>0</td>\n",
       "      <td>0</td>\n",
       "      <td>0</td>\n",
       "      <td>0</td>\n",
       "    </tr>\n",
       "    <tr>\n",
       "      <th>2</th>\n",
       "      <td>housing</td>\n",
       "      <td>0</td>\n",
       "      <td>0</td>\n",
       "      <td>0</td>\n",
       "      <td>0</td>\n",
       "      <td>0</td>\n",
       "      <td>1</td>\n",
       "      <td>0</td>\n",
       "    </tr>\n",
       "    <tr>\n",
       "      <th>3</th>\n",
       "      <td>consumption</td>\n",
       "      <td>0</td>\n",
       "      <td>1</td>\n",
       "      <td>0</td>\n",
       "      <td>0</td>\n",
       "      <td>0</td>\n",
       "      <td>0</td>\n",
       "      <td>0</td>\n",
       "    </tr>\n",
       "    <tr>\n",
       "      <th>4</th>\n",
       "      <td>debt_related</td>\n",
       "      <td>0</td>\n",
       "      <td>0</td>\n",
       "      <td>1</td>\n",
       "      <td>0</td>\n",
       "      <td>0</td>\n",
       "      <td>0</td>\n",
       "      <td>0</td>\n",
       "    </tr>\n",
       "  </tbody>\n",
       "</table>\n",
       "</div>"
      ],
      "text/plain": [
       "        purpose  purp_business  purp_consumption  purp_debt_related  \\\n",
       "0  debt_related              0                 0                  1   \n",
       "1      business              1                 0                  0   \n",
       "2       housing              0                 0                  0   \n",
       "3   consumption              0                 1                  0   \n",
       "4  debt_related              0                 0                  1   \n",
       "\n",
       "   purp_edu_medical  purp_energy  purp_housing  purp_other  \n",
       "0                 0            0             0           0  \n",
       "1                 0            0             0           0  \n",
       "2                 0            0             1           0  \n",
       "3                 0            0             0           0  \n",
       "4                 0            0             0           0  "
      ]
     },
     "execution_count": 25,
     "metadata": {},
     "output_type": "execute_result"
    }
   ],
   "source": [
    "# 인코딩 확인\n",
    "acc_cleaned.filter(like='purp').head()"
   ]
  },
  {
   "cell_type": "code",
   "execution_count": 29,
   "id": "bf1a9cd8",
   "metadata": {},
   "outputs": [],
   "source": [
    "# 인코딩 되지 않은 원래 열 삭제\n",
    "acc_cleaned = acc_cleaned.drop(['grade', 'home_ownership', 'verification_status', 'purpose'], axis = 1)"
   ]
  },
  {
   "cell_type": "code",
   "execution_count": 30,
   "id": "aadbd8d4",
   "metadata": {},
   "outputs": [
    {
     "data": {
      "text/plain": [
       "Index(['loan_amnt', 'term', 'int_rate', 'installment', 'emp_title',\n",
       "       'emp_length', 'annual_inc', 'dti', 'open_acc', 'revol_bal',\n",
       "       'revol_util', 'total_acc', 'loan_status', 'pub_rec',\n",
       "       'pub_rec_bankruptcies', 'mort_acc', 'inq_last_6mths', 'inq_last_12m',\n",
       "       'num_bc_tl', 'num_actv_bc_tl', 'home_ANY', 'home_MORTGAGE', 'home_NONE',\n",
       "       'home_OTHER', 'home_OWN', 'home_RENT', 'vrfc_Not Verified',\n",
       "       'vrfc_Source Verified', 'vrfc_Verified', 'purp_business',\n",
       "       'purp_consumption', 'purp_debt_related', 'purp_edu_medical',\n",
       "       'purp_energy', 'purp_housing', 'purp_other'],\n",
       "      dtype='object')"
      ]
     },
     "execution_count": 30,
     "metadata": {},
     "output_type": "execute_result"
    }
   ],
   "source": [
    "acc_cleaned.columns"
   ]
  },
  {
   "cell_type": "markdown",
   "id": "21443b69",
   "metadata": {},
   "source": [
    "# 모델"
   ]
  },
  {
   "cell_type": "markdown",
   "id": "f8904f2a",
   "metadata": {},
   "source": [
    "## 불균형 데이터 처리"
   ]
  },
  {
   "cell_type": "code",
   "execution_count": 34,
   "id": "1571c25c",
   "metadata": {},
   "outputs": [
    {
     "name": "stdout",
     "output_type": "stream",
     "text": [
      "\n",
      "▶ SMOTE 적용 후 클래스 분포:\n",
      "loan_status\n",
      "0    799219\n",
      "1    799219\n",
      "Name: count, dtype: int64\n",
      "\n",
      "▶ RandomUnderSampler 적용 후 클래스 분포:\n",
      "loan_status\n",
      "0    196193\n",
      "1    196193\n",
      "Name: count, dtype: int64\n",
      "\n",
      "[SMOTE] 성능 평가 결과:\n",
      "              precision    recall  f1-score   support\n",
      "\n",
      "           0       0.81      0.98      0.89    199806\n",
      "           1       0.51      0.08      0.14     49048\n",
      "\n",
      "    accuracy                           0.80    248854\n",
      "   macro avg       0.66      0.53      0.51    248854\n",
      "weighted avg       0.75      0.80      0.74    248854\n",
      "\n"
     ]
    },
    {
     "data": {
      "image/png": "[encoded data removed]",
      "text/plain": [
       "<Figure size 1000x500 with 1 Axes>"
      ]
     },
     "metadata": {},
     "output_type": "display_data"
    },
    {
     "name": "stdout",
     "output_type": "stream",
     "text": [
      "가장 중요한 변수: int_rate\n",
      "\n",
      "[RandomUnderSampler] 성능 평가 결과:\n",
      "              precision    recall  f1-score   support\n",
      "\n",
      "           0       0.88      0.64      0.75    199806\n",
      "           1       0.31      0.65      0.42     49048\n",
      "\n",
      "    accuracy                           0.65    248854\n",
      "   macro avg       0.60      0.65      0.58    248854\n",
      "weighted avg       0.77      0.65      0.68    248854\n",
      "\n"
     ]
    },
    {
     "data": {
      "image/png": "[encoded data removed]",
      "text/plain": [
       "<Figure size 1000x500 with 1 Axes>"
      ]
     },
     "metadata": {},
     "output_type": "display_data"
    },
    {
     "name": "stdout",
     "output_type": "stream",
     "text": [
      "가장 중요한 변수: int_rate\n"
     ]
    }
   ],
   "source": [
    "# 1. 사용할 피처 선택 (수치형 피처 예시)\n",
    "\n",
    "selected_features = ['loan_amnt',\n",
    " 'int_rate',\n",
    " 'installment',\n",
    " 'annual_inc',\n",
    " 'dti',\n",
    " 'open_acc',\n",
    " 'revol_bal',\n",
    " 'revol_util',\n",
    " 'total_acc',\n",
    " 'pub_rec',\n",
    " 'pub_rec_bankruptcies',\n",
    " 'mort_acc',\n",
    " 'inq_last_6mths',\n",
    " 'inq_last_12m',\n",
    " 'num_bc_tl',\n",
    " 'num_actv_bc_tl']\n",
    "\n",
    "selected_features = acc_cleaned.drop(['emp_title', 'emp_length', 'loan_status'], axis = 1).columns\n",
    "\n",
    "X = acc_cleaned[selected_features]\n",
    "y = acc_cleaned['loan_status']  # 반드시 이 컬럼이 0(Good), 1(Default) 형태여야 함\n",
    "\n",
    "# 2. train_test 데이터 나누기\n",
    "X_train, X_test, y_train, y_test = train_test_split(\n",
    "        X, y, test_size = 0.2, random_state = 42, stratify = y\n",
    "    )\n",
    "\n",
    "# 3. SMOTE 오버샘플링 적용\n",
    "smote = SMOTE(random_state=42)\n",
    "X_smote, y_smote = smote.fit_resample(X_train, y_train)\n",
    "print(\"\\n▶ SMOTE 적용 후 클래스 분포:\")\n",
    "print(y_smote.value_counts())\n",
    "\n",
    "# 3. RandomUnderSampler 언더샘플링 적용\n",
    "rus = RandomUnderSampler(random_state=42)\n",
    "X_rus, y_rus = rus.fit_resample(X_train, y_train)\n",
    "print(\"\\n▶ RandomUnderSampler 적용 후 클래스 분포:\")\n",
    "print(y_rus.value_counts())\n",
    "\n",
    "# 4. 모델 학습 및 평가 + 중요도 시각화 포함 함수\n",
    "def train_and_evaluate(X_train, y_train, X_test, y_test, method):\n",
    "    rf_model = RandomForestClassifier(random_state=42)\n",
    "    rf_model.fit(X_train, y_train)\n",
    "    y_pred = rf_model.predict(X_test)\n",
    "\n",
    "    print(f\"\\n[{method}] 성능 평가 결과:\")\n",
    "    print(classification_report(y_test, y_pred))\n",
    "\n",
    "    # Feature Importance 시각화\n",
    "    importances = rf_model.feature_importances_\n",
    "    feature_names = X_train.columns\n",
    "\n",
    "    plt.figure(figsize=(10, 5))\n",
    "    plt.bar(range(len(importances)), importances, color='skyblue')\n",
    "    plt.xticks(range(len(importances)), feature_names, rotation=45, ha='right')\n",
    "    plt.xlabel(\"Feature\")\n",
    "    plt.ylabel(\"Importance\")\n",
    "    plt.title(f\"[{method}] Feature Importances (RandomForest)\")\n",
    "    plt.tight_layout()\n",
    "    plt.show()\n",
    "\n",
    "    # 가장 중요한 변수 출력\n",
    "    most_important_idx = importances.argmax()\n",
    "    most_important_feature = feature_names[most_important_idx]\n",
    "    print(\"가장 중요한 변수:\", most_important_feature)\n",
    "\n",
    "# 7. 각각 샘플링된 데이터로 평가\n",
    "train_and_evaluate(X_smote, y_smote, X_test, y_test, \"SMOTE\")\n",
    "train_and_evaluate(X_rus, y_rus, X_test, y_test, \"RandomUnderSampler\")\n"
   ]
  }
 ],
 "metadata": {
  "kernelspec": {
   "display_name": "Python 3",
   "language": "python",
   "name": "python3"
  },
  "language_info": {
   "codemirror_mode": {
    "name": "ipython",
    "version": 3
   },
   "file_extension": ".py",
   "mimetype": "text/x-python",
   "name": "python",
   "nbconvert_exporter": "python",
   "pygments_lexer": "ipython3",
   "version": "3.13.3"
  }
 },
 "nbformat": 4,
 "nbformat_minor": 5
}
