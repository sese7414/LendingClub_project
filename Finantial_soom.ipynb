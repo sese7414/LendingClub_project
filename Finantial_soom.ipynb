{
 "cells": [
  {
   "cell_type": "code",
   "execution_count": 2,
   "id": "b620614e",
   "metadata": {},
   "outputs": [
    {
     "name": "stderr",
     "output_type": "stream",
     "text": [
      "/var/folders/3m/40zzfh3x6ns8ym348ltj6b640000gn/T/ipykernel_1073/1224202329.py:3: DtypeWarning: Columns (0,19,49,59,118,129,130,131,134,135,136,139,145,146,147) have mixed types. Specify dtype option on import or set low_memory=False.\n",
      "  acc = pd.read_csv('accepted_2007_to_2018Q4 2.csv')\n"
     ]
    },
    {
     "name": "stdout",
     "output_type": "stream",
     "text": [
      "(2260701, 151)\n"
     ]
    },
    {
     "data": {
      "text/html": [
       "<div>\n",
       "<style scoped>\n",
       "    .dataframe tbody tr th:only-of-type {\n",
       "        vertical-align: middle;\n",
       "    }\n",
       "\n",
       "    .dataframe tbody tr th {\n",
       "        vertical-align: top;\n",
       "    }\n",
       "\n",
       "    .dataframe thead th {\n",
       "        text-align: right;\n",
       "    }\n",
       "</style>\n",
       "<table border=\"1\" class=\"dataframe\">\n",
       "  <thead>\n",
       "    <tr style=\"text-align: right;\">\n",
       "      <th></th>\n",
       "      <th>id</th>\n",
       "      <th>member_id</th>\n",
       "      <th>loan_amnt</th>\n",
       "      <th>funded_amnt</th>\n",
       "      <th>funded_amnt_inv</th>\n",
       "      <th>term</th>\n",
       "      <th>int_rate</th>\n",
       "      <th>installment</th>\n",
       "      <th>grade</th>\n",
       "      <th>sub_grade</th>\n",
       "      <th>...</th>\n",
       "      <th>hardship_payoff_balance_amount</th>\n",
       "      <th>hardship_last_payment_amount</th>\n",
       "      <th>disbursement_method</th>\n",
       "      <th>debt_settlement_flag</th>\n",
       "      <th>debt_settlement_flag_date</th>\n",
       "      <th>settlement_status</th>\n",
       "      <th>settlement_date</th>\n",
       "      <th>settlement_amount</th>\n",
       "      <th>settlement_percentage</th>\n",
       "      <th>settlement_term</th>\n",
       "    </tr>\n",
       "  </thead>\n",
       "  <tbody>\n",
       "    <tr>\n",
       "      <th>0</th>\n",
       "      <td>68407277</td>\n",
       "      <td>NaN</td>\n",
       "      <td>3600.0</td>\n",
       "      <td>3600.0</td>\n",
       "      <td>3600.0</td>\n",
       "      <td>36 months</td>\n",
       "      <td>13.99</td>\n",
       "      <td>123.03</td>\n",
       "      <td>C</td>\n",
       "      <td>C4</td>\n",
       "      <td>...</td>\n",
       "      <td>NaN</td>\n",
       "      <td>NaN</td>\n",
       "      <td>Cash</td>\n",
       "      <td>N</td>\n",
       "      <td>NaN</td>\n",
       "      <td>NaN</td>\n",
       "      <td>NaN</td>\n",
       "      <td>NaN</td>\n",
       "      <td>NaN</td>\n",
       "      <td>NaN</td>\n",
       "    </tr>\n",
       "    <tr>\n",
       "      <th>1</th>\n",
       "      <td>68355089</td>\n",
       "      <td>NaN</td>\n",
       "      <td>24700.0</td>\n",
       "      <td>24700.0</td>\n",
       "      <td>24700.0</td>\n",
       "      <td>36 months</td>\n",
       "      <td>11.99</td>\n",
       "      <td>820.28</td>\n",
       "      <td>C</td>\n",
       "      <td>C1</td>\n",
       "      <td>...</td>\n",
       "      <td>NaN</td>\n",
       "      <td>NaN</td>\n",
       "      <td>Cash</td>\n",
       "      <td>N</td>\n",
       "      <td>NaN</td>\n",
       "      <td>NaN</td>\n",
       "      <td>NaN</td>\n",
       "      <td>NaN</td>\n",
       "      <td>NaN</td>\n",
       "      <td>NaN</td>\n",
       "    </tr>\n",
       "    <tr>\n",
       "      <th>2</th>\n",
       "      <td>68341763</td>\n",
       "      <td>NaN</td>\n",
       "      <td>20000.0</td>\n",
       "      <td>20000.0</td>\n",
       "      <td>20000.0</td>\n",
       "      <td>60 months</td>\n",
       "      <td>10.78</td>\n",
       "      <td>432.66</td>\n",
       "      <td>B</td>\n",
       "      <td>B4</td>\n",
       "      <td>...</td>\n",
       "      <td>NaN</td>\n",
       "      <td>NaN</td>\n",
       "      <td>Cash</td>\n",
       "      <td>N</td>\n",
       "      <td>NaN</td>\n",
       "      <td>NaN</td>\n",
       "      <td>NaN</td>\n",
       "      <td>NaN</td>\n",
       "      <td>NaN</td>\n",
       "      <td>NaN</td>\n",
       "    </tr>\n",
       "    <tr>\n",
       "      <th>3</th>\n",
       "      <td>66310712</td>\n",
       "      <td>NaN</td>\n",
       "      <td>35000.0</td>\n",
       "      <td>35000.0</td>\n",
       "      <td>35000.0</td>\n",
       "      <td>60 months</td>\n",
       "      <td>14.85</td>\n",
       "      <td>829.90</td>\n",
       "      <td>C</td>\n",
       "      <td>C5</td>\n",
       "      <td>...</td>\n",
       "      <td>NaN</td>\n",
       "      <td>NaN</td>\n",
       "      <td>Cash</td>\n",
       "      <td>N</td>\n",
       "      <td>NaN</td>\n",
       "      <td>NaN</td>\n",
       "      <td>NaN</td>\n",
       "      <td>NaN</td>\n",
       "      <td>NaN</td>\n",
       "      <td>NaN</td>\n",
       "    </tr>\n",
       "    <tr>\n",
       "      <th>4</th>\n",
       "      <td>68476807</td>\n",
       "      <td>NaN</td>\n",
       "      <td>10400.0</td>\n",
       "      <td>10400.0</td>\n",
       "      <td>10400.0</td>\n",
       "      <td>60 months</td>\n",
       "      <td>22.45</td>\n",
       "      <td>289.91</td>\n",
       "      <td>F</td>\n",
       "      <td>F1</td>\n",
       "      <td>...</td>\n",
       "      <td>NaN</td>\n",
       "      <td>NaN</td>\n",
       "      <td>Cash</td>\n",
       "      <td>N</td>\n",
       "      <td>NaN</td>\n",
       "      <td>NaN</td>\n",
       "      <td>NaN</td>\n",
       "      <td>NaN</td>\n",
       "      <td>NaN</td>\n",
       "      <td>NaN</td>\n",
       "    </tr>\n",
       "  </tbody>\n",
       "</table>\n",
       "<p>5 rows × 151 columns</p>\n",
       "</div>"
      ],
      "text/plain": [
       "         id  member_id  loan_amnt  funded_amnt  funded_amnt_inv        term  \\\n",
       "0  68407277        NaN     3600.0       3600.0           3600.0   36 months   \n",
       "1  68355089        NaN    24700.0      24700.0          24700.0   36 months   \n",
       "2  68341763        NaN    20000.0      20000.0          20000.0   60 months   \n",
       "3  66310712        NaN    35000.0      35000.0          35000.0   60 months   \n",
       "4  68476807        NaN    10400.0      10400.0          10400.0   60 months   \n",
       "\n",
       "   int_rate  installment grade sub_grade  ... hardship_payoff_balance_amount  \\\n",
       "0     13.99       123.03     C        C4  ...                            NaN   \n",
       "1     11.99       820.28     C        C1  ...                            NaN   \n",
       "2     10.78       432.66     B        B4  ...                            NaN   \n",
       "3     14.85       829.90     C        C5  ...                            NaN   \n",
       "4     22.45       289.91     F        F1  ...                            NaN   \n",
       "\n",
       "  hardship_last_payment_amount disbursement_method  debt_settlement_flag  \\\n",
       "0                          NaN                Cash                     N   \n",
       "1                          NaN                Cash                     N   \n",
       "2                          NaN                Cash                     N   \n",
       "3                          NaN                Cash                     N   \n",
       "4                          NaN                Cash                     N   \n",
       "\n",
       "  debt_settlement_flag_date settlement_status settlement_date  \\\n",
       "0                       NaN               NaN             NaN   \n",
       "1                       NaN               NaN             NaN   \n",
       "2                       NaN               NaN             NaN   \n",
       "3                       NaN               NaN             NaN   \n",
       "4                       NaN               NaN             NaN   \n",
       "\n",
       "  settlement_amount settlement_percentage settlement_term  \n",
       "0               NaN                   NaN             NaN  \n",
       "1               NaN                   NaN             NaN  \n",
       "2               NaN                   NaN             NaN  \n",
       "3               NaN                   NaN             NaN  \n",
       "4               NaN                   NaN             NaN  \n",
       "\n",
       "[5 rows x 151 columns]"
      ]
     },
     "execution_count": 2,
     "metadata": {},
     "output_type": "execute_result"
    }
   ],
   "source": [
    "import pandas as pd\n",
    "\n",
    "acc = pd.read_csv('accepted_2007_to_2018Q4 2.csv')\n",
    "\n",
    "print(acc.shape)\n",
    "acc.head()\n"
   ]
  },
  {
   "cell_type": "code",
   "execution_count": null,
   "id": "9e4e1412",
   "metadata": {},
   "outputs": [],
   "source": [
    "# 대출상환 항목 3개만 남기기\n",
    "acc= acc[acc['loan_status'].isin(['Fully Paid', 'Charged Off', 'Default'])].copy()\n"
   ]
  },
  {
   "cell_type": "code",
   "execution_count": null,
   "id": "06787c97",
   "metadata": {},
   "outputs": [],
   "source": [
    "# 대출상환 항목 0,1로 인코딩\n",
    "status_map = {\n",
    "    'Fully Paid': 0,\n",
    "    'Charged Off': 1,\n",
    "    'Default': 1\n",
    "}\n",
    "acc['loan_status'] = acc['loan_status'].map(status_map)"
   ]
  },
  {
   "cell_type": "code",
   "execution_count": 5,
   "id": "50f118a3",
   "metadata": {},
   "outputs": [
    {
     "data": {
      "text/plain": [
       "loan_status\n",
       "0    1076751\n",
       "1     268599\n",
       "Name: count, dtype: int64"
      ]
     },
     "execution_count": 5,
     "metadata": {},
     "output_type": "execute_result"
    }
   ],
   "source": [
    "acc.loan_status.value_counts()"
   ]
  },
  {
   "cell_type": "code",
   "execution_count": null,
   "id": "4b26f0c9",
   "metadata": {},
   "outputs": [],
   "source": [
    "# null 값이 80% 이상인 컬럼 삭제\n",
    "\n",
    "threshold = acc.shape[0] * 0.8               # 기준 만들고\n",
    "cols_to_drop = acc.columns[acc.isnull().sum() > threshold]  # 조건에 맞는 컬럼 추출\n",
    "acc = acc.drop(columns=cols_to_drop)          # 해당 컬럼 삭제\n"
   ]
  },
  {
   "cell_type": "code",
   "execution_count": 7,
   "id": "5373e34b",
   "metadata": {},
   "outputs": [
    {
     "data": {
      "text/plain": [
       "111"
      ]
     },
     "execution_count": 7,
     "metadata": {},
     "output_type": "execute_result"
    }
   ],
   "source": [
    "# 대출상환 상태 0,1로 변경\n",
    "# null값이 80% 이상인 행 삭제\n",
    "\n",
    "len(acc.columns)"
   ]
  },
  {
   "cell_type": "code",
   "execution_count": 8,
   "id": "96275df3",
   "metadata": {},
   "outputs": [
    {
     "data": {
      "text/html": [
       "<div>\n",
       "<style scoped>\n",
       "    .dataframe tbody tr th:only-of-type {\n",
       "        vertical-align: middle;\n",
       "    }\n",
       "\n",
       "    .dataframe tbody tr th {\n",
       "        vertical-align: top;\n",
       "    }\n",
       "\n",
       "    .dataframe thead th {\n",
       "        text-align: right;\n",
       "    }\n",
       "</style>\n",
       "<table border=\"1\" class=\"dataframe\">\n",
       "  <thead>\n",
       "    <tr style=\"text-align: right;\">\n",
       "      <th></th>\n",
       "      <th>loan_amnt</th>\n",
       "      <th>funded_amnt</th>\n",
       "      <th>funded_amnt_inv</th>\n",
       "      <th>int_rate</th>\n",
       "      <th>installment</th>\n",
       "      <th>annual_inc</th>\n",
       "      <th>loan_status</th>\n",
       "      <th>dti</th>\n",
       "      <th>delinq_2yrs</th>\n",
       "      <th>fico_range_low</th>\n",
       "      <th>...</th>\n",
       "      <th>num_tl_90g_dpd_24m</th>\n",
       "      <th>num_tl_op_past_12m</th>\n",
       "      <th>pct_tl_nvr_dlq</th>\n",
       "      <th>percent_bc_gt_75</th>\n",
       "      <th>pub_rec_bankruptcies</th>\n",
       "      <th>tax_liens</th>\n",
       "      <th>tot_hi_cred_lim</th>\n",
       "      <th>total_bal_ex_mort</th>\n",
       "      <th>total_bc_limit</th>\n",
       "      <th>total_il_high_credit_limit</th>\n",
       "    </tr>\n",
       "  </thead>\n",
       "  <tbody>\n",
       "    <tr>\n",
       "      <th>0</th>\n",
       "      <td>3600.0</td>\n",
       "      <td>3600.0</td>\n",
       "      <td>3600.0</td>\n",
       "      <td>13.99</td>\n",
       "      <td>123.03</td>\n",
       "      <td>55000.0</td>\n",
       "      <td>0</td>\n",
       "      <td>5.91</td>\n",
       "      <td>0.0</td>\n",
       "      <td>675.0</td>\n",
       "      <td>...</td>\n",
       "      <td>0.0</td>\n",
       "      <td>3.0</td>\n",
       "      <td>76.9</td>\n",
       "      <td>0.0</td>\n",
       "      <td>0.0</td>\n",
       "      <td>0.0</td>\n",
       "      <td>178050.0</td>\n",
       "      <td>7746.0</td>\n",
       "      <td>2400.0</td>\n",
       "      <td>13734.0</td>\n",
       "    </tr>\n",
       "    <tr>\n",
       "      <th>1</th>\n",
       "      <td>24700.0</td>\n",
       "      <td>24700.0</td>\n",
       "      <td>24700.0</td>\n",
       "      <td>11.99</td>\n",
       "      <td>820.28</td>\n",
       "      <td>65000.0</td>\n",
       "      <td>0</td>\n",
       "      <td>16.06</td>\n",
       "      <td>1.0</td>\n",
       "      <td>715.0</td>\n",
       "      <td>...</td>\n",
       "      <td>0.0</td>\n",
       "      <td>2.0</td>\n",
       "      <td>97.4</td>\n",
       "      <td>7.7</td>\n",
       "      <td>0.0</td>\n",
       "      <td>0.0</td>\n",
       "      <td>314017.0</td>\n",
       "      <td>39475.0</td>\n",
       "      <td>79300.0</td>\n",
       "      <td>24667.0</td>\n",
       "    </tr>\n",
       "    <tr>\n",
       "      <th>2</th>\n",
       "      <td>20000.0</td>\n",
       "      <td>20000.0</td>\n",
       "      <td>20000.0</td>\n",
       "      <td>10.78</td>\n",
       "      <td>432.66</td>\n",
       "      <td>63000.0</td>\n",
       "      <td>0</td>\n",
       "      <td>10.78</td>\n",
       "      <td>0.0</td>\n",
       "      <td>695.0</td>\n",
       "      <td>...</td>\n",
       "      <td>0.0</td>\n",
       "      <td>0.0</td>\n",
       "      <td>100.0</td>\n",
       "      <td>50.0</td>\n",
       "      <td>0.0</td>\n",
       "      <td>0.0</td>\n",
       "      <td>218418.0</td>\n",
       "      <td>18696.0</td>\n",
       "      <td>6200.0</td>\n",
       "      <td>14877.0</td>\n",
       "    </tr>\n",
       "    <tr>\n",
       "      <th>4</th>\n",
       "      <td>10400.0</td>\n",
       "      <td>10400.0</td>\n",
       "      <td>10400.0</td>\n",
       "      <td>22.45</td>\n",
       "      <td>289.91</td>\n",
       "      <td>104433.0</td>\n",
       "      <td>0</td>\n",
       "      <td>25.37</td>\n",
       "      <td>1.0</td>\n",
       "      <td>695.0</td>\n",
       "      <td>...</td>\n",
       "      <td>0.0</td>\n",
       "      <td>4.0</td>\n",
       "      <td>96.6</td>\n",
       "      <td>60.0</td>\n",
       "      <td>0.0</td>\n",
       "      <td>0.0</td>\n",
       "      <td>439570.0</td>\n",
       "      <td>95768.0</td>\n",
       "      <td>20300.0</td>\n",
       "      <td>88097.0</td>\n",
       "    </tr>\n",
       "    <tr>\n",
       "      <th>5</th>\n",
       "      <td>11950.0</td>\n",
       "      <td>11950.0</td>\n",
       "      <td>11950.0</td>\n",
       "      <td>13.44</td>\n",
       "      <td>405.18</td>\n",
       "      <td>34000.0</td>\n",
       "      <td>0</td>\n",
       "      <td>10.20</td>\n",
       "      <td>0.0</td>\n",
       "      <td>690.0</td>\n",
       "      <td>...</td>\n",
       "      <td>0.0</td>\n",
       "      <td>0.0</td>\n",
       "      <td>100.0</td>\n",
       "      <td>100.0</td>\n",
       "      <td>0.0</td>\n",
       "      <td>0.0</td>\n",
       "      <td>16900.0</td>\n",
       "      <td>12798.0</td>\n",
       "      <td>9400.0</td>\n",
       "      <td>4000.0</td>\n",
       "    </tr>\n",
       "    <tr>\n",
       "      <th>...</th>\n",
       "      <td>...</td>\n",
       "      <td>...</td>\n",
       "      <td>...</td>\n",
       "      <td>...</td>\n",
       "      <td>...</td>\n",
       "      <td>...</td>\n",
       "      <td>...</td>\n",
       "      <td>...</td>\n",
       "      <td>...</td>\n",
       "      <td>...</td>\n",
       "      <td>...</td>\n",
       "      <td>...</td>\n",
       "      <td>...</td>\n",
       "      <td>...</td>\n",
       "      <td>...</td>\n",
       "      <td>...</td>\n",
       "      <td>...</td>\n",
       "      <td>...</td>\n",
       "      <td>...</td>\n",
       "      <td>...</td>\n",
       "      <td>...</td>\n",
       "    </tr>\n",
       "    <tr>\n",
       "      <th>2260688</th>\n",
       "      <td>18000.0</td>\n",
       "      <td>18000.0</td>\n",
       "      <td>18000.0</td>\n",
       "      <td>9.49</td>\n",
       "      <td>377.95</td>\n",
       "      <td>130000.0</td>\n",
       "      <td>0</td>\n",
       "      <td>20.59</td>\n",
       "      <td>0.0</td>\n",
       "      <td>735.0</td>\n",
       "      <td>...</td>\n",
       "      <td>0.0</td>\n",
       "      <td>0.0</td>\n",
       "      <td>100.0</td>\n",
       "      <td>33.3</td>\n",
       "      <td>0.0</td>\n",
       "      <td>0.0</td>\n",
       "      <td>275356.0</td>\n",
       "      <td>54349.0</td>\n",
       "      <td>13100.0</td>\n",
       "      <td>77756.0</td>\n",
       "    </tr>\n",
       "    <tr>\n",
       "      <th>2260690</th>\n",
       "      <td>29400.0</td>\n",
       "      <td>29400.0</td>\n",
       "      <td>29400.0</td>\n",
       "      <td>13.99</td>\n",
       "      <td>683.94</td>\n",
       "      <td>180792.0</td>\n",
       "      <td>0</td>\n",
       "      <td>22.03</td>\n",
       "      <td>0.0</td>\n",
       "      <td>705.0</td>\n",
       "      <td>...</td>\n",
       "      <td>0.0</td>\n",
       "      <td>2.0</td>\n",
       "      <td>100.0</td>\n",
       "      <td>42.9</td>\n",
       "      <td>0.0</td>\n",
       "      <td>0.0</td>\n",
       "      <td>719056.0</td>\n",
       "      <td>148305.0</td>\n",
       "      <td>56500.0</td>\n",
       "      <td>95702.0</td>\n",
       "    </tr>\n",
       "    <tr>\n",
       "      <th>2260691</th>\n",
       "      <td>32000.0</td>\n",
       "      <td>32000.0</td>\n",
       "      <td>32000.0</td>\n",
       "      <td>14.49</td>\n",
       "      <td>752.74</td>\n",
       "      <td>157000.0</td>\n",
       "      <td>1</td>\n",
       "      <td>10.34</td>\n",
       "      <td>0.0</td>\n",
       "      <td>735.0</td>\n",
       "      <td>...</td>\n",
       "      <td>0.0</td>\n",
       "      <td>2.0</td>\n",
       "      <td>100.0</td>\n",
       "      <td>0.0</td>\n",
       "      <td>0.0</td>\n",
       "      <td>0.0</td>\n",
       "      <td>524379.0</td>\n",
       "      <td>122872.0</td>\n",
       "      <td>15800.0</td>\n",
       "      <td>23879.0</td>\n",
       "    </tr>\n",
       "    <tr>\n",
       "      <th>2260692</th>\n",
       "      <td>16000.0</td>\n",
       "      <td>16000.0</td>\n",
       "      <td>16000.0</td>\n",
       "      <td>12.79</td>\n",
       "      <td>362.34</td>\n",
       "      <td>150000.0</td>\n",
       "      <td>0</td>\n",
       "      <td>12.25</td>\n",
       "      <td>0.0</td>\n",
       "      <td>665.0</td>\n",
       "      <td>...</td>\n",
       "      <td>0.0</td>\n",
       "      <td>2.0</td>\n",
       "      <td>92.0</td>\n",
       "      <td>50.0</td>\n",
       "      <td>3.0</td>\n",
       "      <td>0.0</td>\n",
       "      <td>87473.0</td>\n",
       "      <td>65797.0</td>\n",
       "      <td>10100.0</td>\n",
       "      <td>73473.0</td>\n",
       "    </tr>\n",
       "    <tr>\n",
       "      <th>2260697</th>\n",
       "      <td>24000.0</td>\n",
       "      <td>24000.0</td>\n",
       "      <td>24000.0</td>\n",
       "      <td>14.49</td>\n",
       "      <td>564.56</td>\n",
       "      <td>110000.0</td>\n",
       "      <td>1</td>\n",
       "      <td>18.30</td>\n",
       "      <td>0.0</td>\n",
       "      <td>660.0</td>\n",
       "      <td>...</td>\n",
       "      <td>0.0</td>\n",
       "      <td>1.0</td>\n",
       "      <td>96.2</td>\n",
       "      <td>40.0</td>\n",
       "      <td>1.0</td>\n",
       "      <td>0.0</td>\n",
       "      <td>84664.0</td>\n",
       "      <td>62426.0</td>\n",
       "      <td>20700.0</td>\n",
       "      <td>58764.0</td>\n",
       "    </tr>\n",
       "  </tbody>\n",
       "</table>\n",
       "<p>1345350 rows × 88 columns</p>\n",
       "</div>"
      ],
      "text/plain": [
       "         loan_amnt  funded_amnt  funded_amnt_inv  int_rate  installment  \\\n",
       "0           3600.0       3600.0           3600.0     13.99       123.03   \n",
       "1          24700.0      24700.0          24700.0     11.99       820.28   \n",
       "2          20000.0      20000.0          20000.0     10.78       432.66   \n",
       "4          10400.0      10400.0          10400.0     22.45       289.91   \n",
       "5          11950.0      11950.0          11950.0     13.44       405.18   \n",
       "...            ...          ...              ...       ...          ...   \n",
       "2260688    18000.0      18000.0          18000.0      9.49       377.95   \n",
       "2260690    29400.0      29400.0          29400.0     13.99       683.94   \n",
       "2260691    32000.0      32000.0          32000.0     14.49       752.74   \n",
       "2260692    16000.0      16000.0          16000.0     12.79       362.34   \n",
       "2260697    24000.0      24000.0          24000.0     14.49       564.56   \n",
       "\n",
       "         annual_inc  loan_status    dti  delinq_2yrs  fico_range_low  ...  \\\n",
       "0           55000.0            0   5.91          0.0           675.0  ...   \n",
       "1           65000.0            0  16.06          1.0           715.0  ...   \n",
       "2           63000.0            0  10.78          0.0           695.0  ...   \n",
       "4          104433.0            0  25.37          1.0           695.0  ...   \n",
       "5           34000.0            0  10.20          0.0           690.0  ...   \n",
       "...             ...          ...    ...          ...             ...  ...   \n",
       "2260688    130000.0            0  20.59          0.0           735.0  ...   \n",
       "2260690    180792.0            0  22.03          0.0           705.0  ...   \n",
       "2260691    157000.0            1  10.34          0.0           735.0  ...   \n",
       "2260692    150000.0            0  12.25          0.0           665.0  ...   \n",
       "2260697    110000.0            1  18.30          0.0           660.0  ...   \n",
       "\n",
       "         num_tl_90g_dpd_24m  num_tl_op_past_12m  pct_tl_nvr_dlq  \\\n",
       "0                       0.0                 3.0            76.9   \n",
       "1                       0.0                 2.0            97.4   \n",
       "2                       0.0                 0.0           100.0   \n",
       "4                       0.0                 4.0            96.6   \n",
       "5                       0.0                 0.0           100.0   \n",
       "...                     ...                 ...             ...   \n",
       "2260688                 0.0                 0.0           100.0   \n",
       "2260690                 0.0                 2.0           100.0   \n",
       "2260691                 0.0                 2.0           100.0   \n",
       "2260692                 0.0                 2.0            92.0   \n",
       "2260697                 0.0                 1.0            96.2   \n",
       "\n",
       "         percent_bc_gt_75  pub_rec_bankruptcies  tax_liens  tot_hi_cred_lim  \\\n",
       "0                     0.0                   0.0        0.0         178050.0   \n",
       "1                     7.7                   0.0        0.0         314017.0   \n",
       "2                    50.0                   0.0        0.0         218418.0   \n",
       "4                    60.0                   0.0        0.0         439570.0   \n",
       "5                   100.0                   0.0        0.0          16900.0   \n",
       "...                   ...                   ...        ...              ...   \n",
       "2260688              33.3                   0.0        0.0         275356.0   \n",
       "2260690              42.9                   0.0        0.0         719056.0   \n",
       "2260691               0.0                   0.0        0.0         524379.0   \n",
       "2260692              50.0                   3.0        0.0          87473.0   \n",
       "2260697              40.0                   1.0        0.0          84664.0   \n",
       "\n",
       "         total_bal_ex_mort  total_bc_limit  total_il_high_credit_limit  \n",
       "0                   7746.0          2400.0                     13734.0  \n",
       "1                  39475.0         79300.0                     24667.0  \n",
       "2                  18696.0          6200.0                     14877.0  \n",
       "4                  95768.0         20300.0                     88097.0  \n",
       "5                  12798.0          9400.0                      4000.0  \n",
       "...                    ...             ...                         ...  \n",
       "2260688            54349.0         13100.0                     77756.0  \n",
       "2260690           148305.0         56500.0                     95702.0  \n",
       "2260691           122872.0         15800.0                     23879.0  \n",
       "2260692            65797.0         10100.0                     73473.0  \n",
       "2260697            62426.0         20700.0                     58764.0  \n",
       "\n",
       "[1345350 rows x 88 columns]"
      ]
     },
     "execution_count": 8,
     "metadata": {},
     "output_type": "execute_result"
    }
   ],
   "source": [
    "acc.select_dtypes(include='number')"
   ]
  },
  {
   "cell_type": "code",
   "execution_count": null,
   "id": "25a4a710",
   "metadata": {},
   "outputs": [],
   "source": [
    "# 논문 참고하여 칼럼 셀렉\n",
    "\n",
    "columns_to_keep = [\n",
    "    'loan_amnt', 'term', 'int_rate', 'installment', 'grade',\n",
    "    'emp_title', 'emp_length', 'home_ownership', 'annual_inc',\n",
    "    'verification_status', 'purpose', 'dti', 'open_acc', 'revol_bal',\n",
    "    'revol_util', 'total_acc', 'loan_status', 'pub_rec',\n",
    "    'pub_rec_bankruptcies', 'mort_acc', 'inq_last_6mths',\n",
    "    'inq_last_12m', 'num_bc_tl', 'num_actv_bc_tl'\n",
    "]\n",
    "\n",
    "acc = acc[columns_to_keep]\n"
   ]
  },
  {
   "cell_type": "code",
   "execution_count": null,
   "id": "14450bec",
   "metadata": {},
   "outputs": [
    {
     "data": {
      "text/plain": [
       "Index(['loan_amnt', 'int_rate', 'installment', 'annual_inc', 'dti', 'open_acc',\n",
       "       'revol_bal', 'revol_util', 'total_acc', 'loan_status', 'pub_rec',\n",
       "       'pub_rec_bankruptcies', 'mort_acc', 'inq_last_6mths', 'inq_last_12m',\n",
       "       'num_bc_tl', 'num_actv_bc_tl'],\n",
       "      dtype='object')"
      ]
     },
     "execution_count": 17,
     "metadata": {},
     "output_type": "execute_result"
    }
   ],
   "source": [
    "# 숫자형\n",
    "\n",
    "acc.select_dtypes(include='number').columns"
   ]
  },
  {
   "cell_type": "code",
   "execution_count": null,
   "id": "2d5fa529",
   "metadata": {},
   "outputs": [
    {
     "data": {
      "text/plain": [
       "Index(['term', 'grade', 'emp_title', 'emp_length', 'home_ownership',\n",
       "       'verification_status', 'purpose'],\n",
       "      dtype='object')"
      ]
     },
     "execution_count": 18,
     "metadata": {},
     "output_type": "execute_result"
    }
   ],
   "source": [
    "# 범주형\n",
    "\n",
    "acc.select_dtypes(exclude='number').columns"
   ]
  },
  {
   "cell_type": "code",
   "execution_count": null,
   "id": "fe9765ff",
   "metadata": {},
   "outputs": [
    {
     "data": {
      "text/plain": [
       "loan_amnt                    0\n",
       "int_rate                     0\n",
       "installment                  0\n",
       "annual_inc                   0\n",
       "dti                        374\n",
       "open_acc                     0\n",
       "revol_bal                    0\n",
       "revol_util                 857\n",
       "total_acc                    0\n",
       "loan_status                  0\n",
       "pub_rec                      0\n",
       "pub_rec_bankruptcies       697\n",
       "mort_acc                 47281\n",
       "inq_last_6mths               1\n",
       "inq_last_12m            807715\n",
       "num_bc_tl                67527\n",
       "num_actv_bc_tl           67527\n",
       "dtype: int64"
      ]
     },
     "execution_count": 19,
     "metadata": {},
     "output_type": "execute_result"
    }
   ],
   "source": [
    "# 숫자형 null 값 개수 확인\n",
    "\n",
    "acc.select_dtypes(include='number').isnull().sum()"
   ]
  },
  {
   "cell_type": "code",
   "execution_count": 72,
   "id": "83363234",
   "metadata": {},
   "outputs": [
    {
     "name": "stdout",
     "output_type": "stream",
     "text": [
      "이상치 개수:  5473\n",
      "해당 칼럼 전체 개수:  1345350\n",
      "이상치 비율:  0.41 %\n"
     ]
    }
   ],
   "source": [
    "# dti 의 이상치 개수 5473 _ IQR 사용 \n",
    "\n",
    "Q1 = acc['dti'].quantile(0.25)\n",
    "Q3 = acc['dti'].quantile(0.75)\n",
    "IQR = Q3 - Q1\n",
    "\n",
    "lower_bound = Q1 - 1.5 * IQR\n",
    "upper_bound = Q3 + 1.5 * IQR\n",
    "\n",
    "# 이상치만 추출\n",
    "outliers_dti = acc[(acc['dti'] < lower_bound) | (acc['dti'] > upper_bound)]\n",
    "\n",
    "print('이상치 개수: ' , len(outliers_dti))\n",
    "print('해당 칼럼 전체 개수: ', len(acc.dti))\n",
    "print('이상치 비율: ', round(len(outliers_dti) / len(acc.dti) * 100 , 2), '%' )\n"
   ]
  },
  {
   "cell_type": "code",
   "execution_count": 73,
   "id": "37b7188c",
   "metadata": {},
   "outputs": [
    {
     "name": "stdout",
     "output_type": "stream",
     "text": [
      "이상치 개수:  72\n",
      "해당 칼럼 전체 개수:  1345350\n",
      "이상치 비율:  0.01 %\n"
     ]
    }
   ],
   "source": [
    "# revol_util 이상치\n",
    "\n",
    "Q1 = acc['revol_util'].quantile(0.25)\n",
    "Q3 = acc['revol_util'].quantile(0.75)\n",
    "IQR = Q3 - Q1\n",
    "\n",
    "lower_bound = Q1 - 1.5 * IQR\n",
    "upper_bound = Q3 + 1.5 * IQR\n",
    "\n",
    "# 이상치만 추출\n",
    "outliers_revol_util = acc[(acc['revol_util'] < lower_bound) | (acc['revol_util'] > upper_bound)]\n",
    "\n",
    "print('이상치 개수: ' , len(outliers_revol_util))\n",
    "print('해당 칼럼 전체 개수: ', len(acc.revol_util))\n",
    "print('이상치 비율: ', round(len(outliers_revol_util) / len(acc.revol_util) * 100 , 2), '%' )\n",
    "\n"
   ]
  },
  {
   "cell_type": "code",
   "execution_count": 74,
   "id": "a7cf8aaa",
   "metadata": {},
   "outputs": [
    {
     "name": "stdout",
     "output_type": "stream",
     "text": [
      "이상치 개수:  167666\n",
      "해당 칼럼 전체 개수:  1345350\n",
      "이상치 비율:  12.46 %\n"
     ]
    }
   ],
   "source": [
    "# pub_rec_bankruptcies(파산 기록수) 이상치\n",
    "\n",
    "Q1 = acc['pub_rec_bankruptcies'].quantile(0.25)\n",
    "Q3 = acc['pub_rec_bankruptcies'].quantile(0.75)\n",
    "IQR = Q3 - Q1\n",
    "\n",
    "lower_bound = Q1 - 1.5 * IQR\n",
    "upper_bound = Q3 + 1.5 * IQR\n",
    "\n",
    "# 이상치만 추출\n",
    "outliers_rec_bnkrcys = acc[(acc['pub_rec_bankruptcies'] < lower_bound) | (acc['pub_rec_bankruptcies'] > upper_bound)]\n",
    "\n",
    "print('이상치 개수: ' , len(outliers_rec_bnkrcys))\n",
    "print('해당 칼럼 전체 개수: ', len(acc.pub_rec_bankruptcies))\n",
    "print('이상치 비율: ', round(len(outliers_rec_bnkrcys) / len(acc.pub_rec_bankruptcies) * 100 , 2), '%' )"
   ]
  },
  {
   "cell_type": "code",
   "execution_count": 75,
   "id": "92a6e50e",
   "metadata": {},
   "outputs": [
    {
     "name": "stdout",
     "output_type": "stream",
     "text": [
      "이상치 개수:  17794\n",
      "해당 칼럼 전체 개수:  1345350\n",
      "이상치 비율:  1.32 %\n"
     ]
    }
   ],
   "source": [
    "# mort_acc 이상치\n",
    "\n",
    "Q1 = acc['mort_acc'].quantile(0.25)\n",
    "Q3 = acc['mort_acc'].quantile(0.75)\n",
    "IQR = Q3 - Q1\n",
    "\n",
    "lower_bound = Q1 - 1.5 * IQR\n",
    "upper_bound = Q3 + 1.5 * IQR\n",
    "\n",
    "# 이상치만 추출\n",
    "outliers_mort_acc = acc[(acc['mort_acc'] < lower_bound) | (acc['mort_acc'] > upper_bound)]\n",
    "\n",
    "print('이상치 개수: ' , len(outliers_mort_acc))\n",
    "print('해당 칼럼 전체 개수: ', len(acc.mort_acc))\n",
    "print('이상치 비율: ', round(len(outliers_mort_acc) / len(acc.mort_acc) * 100 , 2), '%' )"
   ]
  },
  {
   "cell_type": "code",
   "execution_count": 76,
   "id": "1e3fabd5",
   "metadata": {},
   "outputs": [
    {
     "name": "stdout",
     "output_type": "stream",
     "text": [
      "이상치 개수:  34344\n",
      "해당 칼럼 전체 개수:  1345350\n",
      "이상치 비율:  2.55 %\n"
     ]
    }
   ],
   "source": [
    "# inq_last_12m 이상치\n",
    "\n",
    "Q1 = acc['inq_last_12m'].quantile(0.25)\n",
    "Q3 = acc['inq_last_12m'].quantile(0.75)\n",
    "IQR = Q3 - Q1\n",
    "\n",
    "lower_bound = Q1 - 1.5 * IQR\n",
    "upper_bound = Q3 + 1.5 * IQR\n",
    "\n",
    "# 이상치만 추출\n",
    "outliers_inq_last_12m = acc[(acc['inq_last_12m'] < lower_bound) | (acc['inq_last_12m'] > upper_bound)]\n",
    "\n",
    "print('이상치 개수: ' , len(outliers_inq_last_12m))\n",
    "print('해당 칼럼 전체 개수: ', len(acc.inq_last_12m))\n",
    "print('이상치 비율: ', round(len(outliers_inq_last_12m) / len(acc.inq_last_12m) * 100 , 2), '%' )"
   ]
  },
  {
   "cell_type": "code",
   "execution_count": 77,
   "id": "3c5931ba",
   "metadata": {},
   "outputs": [
    {
     "name": "stdout",
     "output_type": "stream",
     "text": [
      "이상치 개수:  27144\n",
      "해당 칼럼 전체 개수:  1345350\n",
      "이상치 비율:  2.02 %\n"
     ]
    }
   ],
   "source": [
    "# num_bc_tl 이상치\n",
    "\n",
    "Q1 = acc['num_bc_tl'].quantile(0.25)\n",
    "Q3 = acc['num_bc_tl'].quantile(0.75)\n",
    "IQR = Q3 - Q1\n",
    "\n",
    "lower_bound = Q1 - 1.5 * IQR\n",
    "upper_bound = Q3 + 1.5 * IQR\n",
    "\n",
    "# 이상치만 추출\n",
    "outliers_num_bc_tl = acc[(acc['num_bc_tl'] < lower_bound) | (acc['num_bc_tl'] > upper_bound)]\n",
    "\n",
    "print('이상치 개수: ' , len(outliers_num_bc_tl))\n",
    "print('해당 칼럼 전체 개수: ', len(acc.num_bc_tl))\n",
    "print('이상치 비율: ', round(len(outliers_num_bc_tl) / len(acc.num_bc_tl) * 100 , 2), '%' )"
   ]
  },
  {
   "cell_type": "code",
   "execution_count": 78,
   "id": "cf5421ef",
   "metadata": {},
   "outputs": [
    {
     "name": "stdout",
     "output_type": "stream",
     "text": [
      "이상치 개수:  26648\n",
      "해당 칼럼 전체 개수:  1345350\n",
      "이상치 비율:  1.98 %\n"
     ]
    }
   ],
   "source": [
    "# num_actv_bc_tl 이상치\n",
    "\n",
    "Q1 = acc['num_actv_bc_tl'].quantile(0.25)\n",
    "Q3 = acc['num_actv_bc_tl'].quantile(0.75)\n",
    "IQR = Q3 - Q1\n",
    "\n",
    "lower_bound = Q1 - 1.5 * IQR\n",
    "upper_bound = Q3 + 1.5 * IQR\n",
    "\n",
    "# 이상치만 추출\n",
    "outliers_num_actv_bc_tl = acc[(acc['num_actv_bc_tl'] < lower_bound) | (acc['num_actv_bc_tl'] > upper_bound)]\n",
    "\n",
    "print('이상치 개수: ' , len(outliers_num_actv_bc_tl))\n",
    "print('해당 칼럼 전체 개수: ', len(acc.num_actv_bc_tl))\n",
    "print('이상치 비율: ', round(len(outliers_num_actv_bc_tl) / len(acc.num_actv_bc_tl) * 100 , 2), '%' )"
   ]
  },
  {
   "cell_type": "code",
   "execution_count": 79,
   "id": "b24a070d",
   "metadata": {},
   "outputs": [],
   "source": [
    "# 이상치 지울 데이터 따로 만들기\n",
    "\n",
    "acc_ver2 = acc.copy()"
   ]
  },
  {
   "cell_type": "markdown",
   "id": "2751a435",
   "metadata": {},
   "source": []
  },
  {
   "cell_type": "code",
   "execution_count": null,
   "id": "e216c820",
   "metadata": {},
   "outputs": [
    {
     "data": {
      "text/plain": [
       "loan_amnt                    0\n",
       "int_rate                     0\n",
       "installment                  0\n",
       "annual_inc                   0\n",
       "dti                        374\n",
       "open_acc                     0\n",
       "revol_bal                    0\n",
       "revol_util                 857\n",
       "total_acc                    0\n",
       "loan_status                  0\n",
       "pub_rec                      0\n",
       "pub_rec_bankruptcies       697\n",
       "mort_acc                 47281\n",
       "inq_last_6mths               1\n",
       "inq_last_12m            807715\n",
       "num_bc_tl                67527\n",
       "num_actv_bc_tl           67527\n",
       "dtype: int64"
      ]
     },
     "execution_count": 104,
     "metadata": {},
     "output_type": "execute_result"
    }
   ],
   "source": [
    "### ver2 데이터에서 이상치 모두 제거하기\n",
    "\n",
    "# 이상치 하나로 모으기\n",
    "                                                                                                                                                                                                                                                                                                                                                                                                                                                                                                                   \n",
    "outliers_all = [outliers_dti,\n",
    "    outliers_revol_util,\n",
    "    outliers_rec_bnkrcys,\n",
    "    outliers_mort_acc,\n",
    "    outliers_inq_last_12m,\n",
    "    outliers_num_bc_tl,\n",
    "    outliers_num_actv_bc_tl\n",
    "]\n",
    "\n",
    "# 이상치 데이터 하나로 합치기\n",
    "outliers_all = pd.concat(outliers_all)\n",
    "\n",
    "# 중복된 인덱스 제거 (선택사항이지만 코드 정돈을 위해)\n",
    "outliers_all = outliers_all[~outliers_all.index.duplicated(keep='first')]\n",
    "\n",
    "# 기존 데이터(acc_ver2)에서 이상치 제거한 새 데이터 만들기\n",
    "acc_cleaned = acc_ver2.drop(index=outliers_all.index).reset_index(drop=True)\n",
    "\n",
    "# 이상치 제거 후 null 값 개수 확인\n",
    "acc.select_dtypes(include='number').isnull().sum()\n",
    "\n"
   ]
  },
  {
   "cell_type": "code",
   "execution_count": 117,
   "id": "5cd2688f",
   "metadata": {},
   "outputs": [
    {
     "name": "stdout",
     "output_type": "stream",
     "text": [
      "dti null 값 비율:  0.02893\n"
     ]
    }
   ],
   "source": [
    "dti_rate = round(acc_cleaned.dti.isnull().sum() / acc_cleaned.dti.shape[0] * 100 ,5)\n",
    "print('dti null 값 비율: ' , dti_rate)"
   ]
  },
  {
   "cell_type": "code",
   "execution_count": 118,
   "id": "31a9c3f4",
   "metadata": {},
   "outputs": [
    {
     "name": "stdout",
     "output_type": "stream",
     "text": [
      "revol_util null 값 비율:  0.07387\n"
     ]
    }
   ],
   "source": [
    "revol_util_rate = round(acc_cleaned.revol_util.isnull().sum() / acc_cleaned.revol_util.shape[0] * 100 ,5)\n",
    "print('revol_util null 값 비율: ' , revol_util_rate)"
   ]
  },
  {
   "cell_type": "code",
   "execution_count": 119,
   "id": "c9f9c47c",
   "metadata": {},
   "outputs": [
    {
     "name": "stdout",
     "output_type": "stream",
     "text": [
      "pub_rec_bankruptcies null 값 비율:  0.0638\n"
     ]
    }
   ],
   "source": [
    "pub_rec_bankruptcies_rate = round(acc_cleaned.pub_rec_bankruptcies.isnull().sum() / acc_cleaned.pub_rec_bankruptcies.shape[0] * 100 ,5)\n",
    "print('pub_rec_bankruptcies null 값 비율: ' , pub_rec_bankruptcies_rate)"
   ]
  },
  {
   "cell_type": "code",
   "execution_count": 120,
   "id": "e1563e01",
   "metadata": {},
   "outputs": [
    {
     "name": "stdout",
     "output_type": "stream",
     "text": [
      "mort_acc null 값 비율:  4.15554\n"
     ]
    }
   ],
   "source": [
    "mort_acc_rate = round(acc_cleaned.mort_acc.isnull().sum() / acc_cleaned.mort_acc.shape[0] * 100 ,5)\n",
    "print('mort_acc null 값 비율: ' , mort_acc_rate)"
   ]
  },
  {
   "cell_type": "code",
   "execution_count": 121,
   "id": "dfe18884",
   "metadata": {},
   "outputs": [
    {
     "name": "stdout",
     "output_type": "stream",
     "text": [
      "inq_last_12m null 값 비율:  62.41306\n"
     ]
    }
   ],
   "source": [
    "inq_last_12m_rate = round(acc_cleaned.inq_last_12m.isnull().sum() / acc_cleaned.inq_last_12m.shape[0] * 100 ,5)\n",
    "print('inq_last_12m null 값 비율: ' , inq_last_12m_rate)"
   ]
  },
  {
   "cell_type": "code",
   "execution_count": 122,
   "id": "8fcafac9",
   "metadata": {},
   "outputs": [
    {
     "name": "stdout",
     "output_type": "stream",
     "text": [
      "num_bc_tl null 값 비율:  5.92643\n"
     ]
    }
   ],
   "source": [
    "num_bc_tl_rate = round(acc_cleaned.num_bc_tl.isnull().sum() / acc_cleaned.num_bc_tl.shape[0] * 100 ,5)\n",
    "print('num_bc_tl null 값 비율: ' , num_bc_tl_rate)"
   ]
  },
  {
   "cell_type": "code",
   "execution_count": 123,
   "id": "adcd1c5e",
   "metadata": {},
   "outputs": [
    {
     "name": "stdout",
     "output_type": "stream",
     "text": [
      "num_actv_bc_tl null 값 비율:  5.92643\n"
     ]
    }
   ],
   "source": [
    "num_actv_bc_tl_rate = round(acc_cleaned.num_actv_bc_tl.isnull().sum() / acc_cleaned.num_actv_bc_tl.shape[0] * 100 ,5)\n",
    "print('num_actv_bc_tl null 값 비율: ' , num_actv_bc_tl_rate)"
   ]
  },
  {
   "cell_type": "code",
   "execution_count": null,
   "id": "d6a327ff",
   "metadata": {},
   "outputs": [],
   "source": []
  }
 ],
 "metadata": {
  "kernelspec": {
   "display_name": "venv",
   "language": "python",
   "name": "python3"
  },
  "language_info": {
   "codemirror_mode": {
    "name": "ipython",
    "version": 3
   },
   "file_extension": ".py",
   "mimetype": "text/x-python",
   "name": "python",
   "nbconvert_exporter": "python",
   "pygments_lexer": "ipython3",
   "version": "3.13.3"
  }
 },
 "nbformat": 4,
 "nbformat_minor": 5
}
