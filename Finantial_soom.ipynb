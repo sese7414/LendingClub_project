{
 "cells": [
  {
   "cell_type": "code",
   "execution_count": 6,
   "id": "b620614e",
   "metadata": {},
   "outputs": [
    {
     "ename": "FileNotFoundError",
     "evalue": "[Errno 2] No such file or directory: 'accepted_2007_to_2018Q4 2.csv'",
     "output_type": "error",
     "traceback": [
      "\u001b[31m---------------------------------------------------------------------------\u001b[39m",
      "\u001b[31mFileNotFoundError\u001b[39m                         Traceback (most recent call last)",
      "\u001b[36mCell\u001b[39m\u001b[36m \u001b[39m\u001b[32mIn[6]\u001b[39m\u001b[32m, line 3\u001b[39m\n\u001b[32m      1\u001b[39m \u001b[38;5;28;01mimport\u001b[39;00m\u001b[38;5;250m \u001b[39m\u001b[34;01mpandas\u001b[39;00m\u001b[38;5;250m \u001b[39m\u001b[38;5;28;01mas\u001b[39;00m\u001b[38;5;250m \u001b[39m\u001b[34;01mpd\u001b[39;00m\n\u001b[32m----> \u001b[39m\u001b[32m3\u001b[39m acc = \u001b[43mpd\u001b[49m\u001b[43m.\u001b[49m\u001b[43mread_csv\u001b[49m\u001b[43m(\u001b[49m\u001b[33;43m'\u001b[39;49m\u001b[33;43maccepted_2007_to_2018Q4 2.csv\u001b[39;49m\u001b[33;43m'\u001b[39;49m\u001b[43m)\u001b[49m\n\u001b[32m      5\u001b[39m \u001b[38;5;28mprint\u001b[39m(acc.shape)\n\u001b[32m      6\u001b[39m acc.head()\n",
      "\u001b[36mFile \u001b[39m\u001b[32m/Library/Frameworks/Python.framework/Versions/3.13/lib/python3.13/site-packages/pandas/io/parsers/readers.py:1026\u001b[39m, in \u001b[36mread_csv\u001b[39m\u001b[34m(filepath_or_buffer, sep, delimiter, header, names, index_col, usecols, dtype, engine, converters, true_values, false_values, skipinitialspace, skiprows, skipfooter, nrows, na_values, keep_default_na, na_filter, verbose, skip_blank_lines, parse_dates, infer_datetime_format, keep_date_col, date_parser, date_format, dayfirst, cache_dates, iterator, chunksize, compression, thousands, decimal, lineterminator, quotechar, quoting, doublequote, escapechar, comment, encoding, encoding_errors, dialect, on_bad_lines, delim_whitespace, low_memory, memory_map, float_precision, storage_options, dtype_backend)\u001b[39m\n\u001b[32m   1013\u001b[39m kwds_defaults = _refine_defaults_read(\n\u001b[32m   1014\u001b[39m     dialect,\n\u001b[32m   1015\u001b[39m     delimiter,\n\u001b[32m   (...)\u001b[39m\u001b[32m   1022\u001b[39m     dtype_backend=dtype_backend,\n\u001b[32m   1023\u001b[39m )\n\u001b[32m   1024\u001b[39m kwds.update(kwds_defaults)\n\u001b[32m-> \u001b[39m\u001b[32m1026\u001b[39m \u001b[38;5;28;01mreturn\u001b[39;00m \u001b[43m_read\u001b[49m\u001b[43m(\u001b[49m\u001b[43mfilepath_or_buffer\u001b[49m\u001b[43m,\u001b[49m\u001b[43m \u001b[49m\u001b[43mkwds\u001b[49m\u001b[43m)\u001b[49m\n",
      "\u001b[36mFile \u001b[39m\u001b[32m/Library/Frameworks/Python.framework/Versions/3.13/lib/python3.13/site-packages/pandas/io/parsers/readers.py:620\u001b[39m, in \u001b[36m_read\u001b[39m\u001b[34m(filepath_or_buffer, kwds)\u001b[39m\n\u001b[32m    617\u001b[39m _validate_names(kwds.get(\u001b[33m\"\u001b[39m\u001b[33mnames\u001b[39m\u001b[33m\"\u001b[39m, \u001b[38;5;28;01mNone\u001b[39;00m))\n\u001b[32m    619\u001b[39m \u001b[38;5;66;03m# Create the parser.\u001b[39;00m\n\u001b[32m--> \u001b[39m\u001b[32m620\u001b[39m parser = \u001b[43mTextFileReader\u001b[49m\u001b[43m(\u001b[49m\u001b[43mfilepath_or_buffer\u001b[49m\u001b[43m,\u001b[49m\u001b[43m \u001b[49m\u001b[43m*\u001b[49m\u001b[43m*\u001b[49m\u001b[43mkwds\u001b[49m\u001b[43m)\u001b[49m\n\u001b[32m    622\u001b[39m \u001b[38;5;28;01mif\u001b[39;00m chunksize \u001b[38;5;129;01mor\u001b[39;00m iterator:\n\u001b[32m    623\u001b[39m     \u001b[38;5;28;01mreturn\u001b[39;00m parser\n",
      "\u001b[36mFile \u001b[39m\u001b[32m/Library/Frameworks/Python.framework/Versions/3.13/lib/python3.13/site-packages/pandas/io/parsers/readers.py:1620\u001b[39m, in \u001b[36mTextFileReader.__init__\u001b[39m\u001b[34m(self, f, engine, **kwds)\u001b[39m\n\u001b[32m   1617\u001b[39m     \u001b[38;5;28mself\u001b[39m.options[\u001b[33m\"\u001b[39m\u001b[33mhas_index_names\u001b[39m\u001b[33m\"\u001b[39m] = kwds[\u001b[33m\"\u001b[39m\u001b[33mhas_index_names\u001b[39m\u001b[33m\"\u001b[39m]\n\u001b[32m   1619\u001b[39m \u001b[38;5;28mself\u001b[39m.handles: IOHandles | \u001b[38;5;28;01mNone\u001b[39;00m = \u001b[38;5;28;01mNone\u001b[39;00m\n\u001b[32m-> \u001b[39m\u001b[32m1620\u001b[39m \u001b[38;5;28mself\u001b[39m._engine = \u001b[38;5;28;43mself\u001b[39;49m\u001b[43m.\u001b[49m\u001b[43m_make_engine\u001b[49m\u001b[43m(\u001b[49m\u001b[43mf\u001b[49m\u001b[43m,\u001b[49m\u001b[43m \u001b[49m\u001b[38;5;28;43mself\u001b[39;49m\u001b[43m.\u001b[49m\u001b[43mengine\u001b[49m\u001b[43m)\u001b[49m\n",
      "\u001b[36mFile \u001b[39m\u001b[32m/Library/Frameworks/Python.framework/Versions/3.13/lib/python3.13/site-packages/pandas/io/parsers/readers.py:1880\u001b[39m, in \u001b[36mTextFileReader._make_engine\u001b[39m\u001b[34m(self, f, engine)\u001b[39m\n\u001b[32m   1878\u001b[39m     \u001b[38;5;28;01mif\u001b[39;00m \u001b[33m\"\u001b[39m\u001b[33mb\u001b[39m\u001b[33m\"\u001b[39m \u001b[38;5;129;01mnot\u001b[39;00m \u001b[38;5;129;01min\u001b[39;00m mode:\n\u001b[32m   1879\u001b[39m         mode += \u001b[33m\"\u001b[39m\u001b[33mb\u001b[39m\u001b[33m\"\u001b[39m\n\u001b[32m-> \u001b[39m\u001b[32m1880\u001b[39m \u001b[38;5;28mself\u001b[39m.handles = \u001b[43mget_handle\u001b[49m\u001b[43m(\u001b[49m\n\u001b[32m   1881\u001b[39m \u001b[43m    \u001b[49m\u001b[43mf\u001b[49m\u001b[43m,\u001b[49m\n\u001b[32m   1882\u001b[39m \u001b[43m    \u001b[49m\u001b[43mmode\u001b[49m\u001b[43m,\u001b[49m\n\u001b[32m   1883\u001b[39m \u001b[43m    \u001b[49m\u001b[43mencoding\u001b[49m\u001b[43m=\u001b[49m\u001b[38;5;28;43mself\u001b[39;49m\u001b[43m.\u001b[49m\u001b[43moptions\u001b[49m\u001b[43m.\u001b[49m\u001b[43mget\u001b[49m\u001b[43m(\u001b[49m\u001b[33;43m\"\u001b[39;49m\u001b[33;43mencoding\u001b[39;49m\u001b[33;43m\"\u001b[39;49m\u001b[43m,\u001b[49m\u001b[43m \u001b[49m\u001b[38;5;28;43;01mNone\u001b[39;49;00m\u001b[43m)\u001b[49m\u001b[43m,\u001b[49m\n\u001b[32m   1884\u001b[39m \u001b[43m    \u001b[49m\u001b[43mcompression\u001b[49m\u001b[43m=\u001b[49m\u001b[38;5;28;43mself\u001b[39;49m\u001b[43m.\u001b[49m\u001b[43moptions\u001b[49m\u001b[43m.\u001b[49m\u001b[43mget\u001b[49m\u001b[43m(\u001b[49m\u001b[33;43m\"\u001b[39;49m\u001b[33;43mcompression\u001b[39;49m\u001b[33;43m\"\u001b[39;49m\u001b[43m,\u001b[49m\u001b[43m \u001b[49m\u001b[38;5;28;43;01mNone\u001b[39;49;00m\u001b[43m)\u001b[49m\u001b[43m,\u001b[49m\n\u001b[32m   1885\u001b[39m \u001b[43m    \u001b[49m\u001b[43mmemory_map\u001b[49m\u001b[43m=\u001b[49m\u001b[38;5;28;43mself\u001b[39;49m\u001b[43m.\u001b[49m\u001b[43moptions\u001b[49m\u001b[43m.\u001b[49m\u001b[43mget\u001b[49m\u001b[43m(\u001b[49m\u001b[33;43m\"\u001b[39;49m\u001b[33;43mmemory_map\u001b[39;49m\u001b[33;43m\"\u001b[39;49m\u001b[43m,\u001b[49m\u001b[43m \u001b[49m\u001b[38;5;28;43;01mFalse\u001b[39;49;00m\u001b[43m)\u001b[49m\u001b[43m,\u001b[49m\n\u001b[32m   1886\u001b[39m \u001b[43m    \u001b[49m\u001b[43mis_text\u001b[49m\u001b[43m=\u001b[49m\u001b[43mis_text\u001b[49m\u001b[43m,\u001b[49m\n\u001b[32m   1887\u001b[39m \u001b[43m    \u001b[49m\u001b[43merrors\u001b[49m\u001b[43m=\u001b[49m\u001b[38;5;28;43mself\u001b[39;49m\u001b[43m.\u001b[49m\u001b[43moptions\u001b[49m\u001b[43m.\u001b[49m\u001b[43mget\u001b[49m\u001b[43m(\u001b[49m\u001b[33;43m\"\u001b[39;49m\u001b[33;43mencoding_errors\u001b[39;49m\u001b[33;43m\"\u001b[39;49m\u001b[43m,\u001b[49m\u001b[43m \u001b[49m\u001b[33;43m\"\u001b[39;49m\u001b[33;43mstrict\u001b[39;49m\u001b[33;43m\"\u001b[39;49m\u001b[43m)\u001b[49m\u001b[43m,\u001b[49m\n\u001b[32m   1888\u001b[39m \u001b[43m    \u001b[49m\u001b[43mstorage_options\u001b[49m\u001b[43m=\u001b[49m\u001b[38;5;28;43mself\u001b[39;49m\u001b[43m.\u001b[49m\u001b[43moptions\u001b[49m\u001b[43m.\u001b[49m\u001b[43mget\u001b[49m\u001b[43m(\u001b[49m\u001b[33;43m\"\u001b[39;49m\u001b[33;43mstorage_options\u001b[39;49m\u001b[33;43m\"\u001b[39;49m\u001b[43m,\u001b[49m\u001b[43m \u001b[49m\u001b[38;5;28;43;01mNone\u001b[39;49;00m\u001b[43m)\u001b[49m\u001b[43m,\u001b[49m\n\u001b[32m   1889\u001b[39m \u001b[43m\u001b[49m\u001b[43m)\u001b[49m\n\u001b[32m   1890\u001b[39m \u001b[38;5;28;01massert\u001b[39;00m \u001b[38;5;28mself\u001b[39m.handles \u001b[38;5;129;01mis\u001b[39;00m \u001b[38;5;129;01mnot\u001b[39;00m \u001b[38;5;28;01mNone\u001b[39;00m\n\u001b[32m   1891\u001b[39m f = \u001b[38;5;28mself\u001b[39m.handles.handle\n",
      "\u001b[36mFile \u001b[39m\u001b[32m/Library/Frameworks/Python.framework/Versions/3.13/lib/python3.13/site-packages/pandas/io/common.py:873\u001b[39m, in \u001b[36mget_handle\u001b[39m\u001b[34m(path_or_buf, mode, encoding, compression, memory_map, is_text, errors, storage_options)\u001b[39m\n\u001b[32m    868\u001b[39m \u001b[38;5;28;01melif\u001b[39;00m \u001b[38;5;28misinstance\u001b[39m(handle, \u001b[38;5;28mstr\u001b[39m):\n\u001b[32m    869\u001b[39m     \u001b[38;5;66;03m# Check whether the filename is to be opened in binary mode.\u001b[39;00m\n\u001b[32m    870\u001b[39m     \u001b[38;5;66;03m# Binary mode does not support 'encoding' and 'newline'.\u001b[39;00m\n\u001b[32m    871\u001b[39m     \u001b[38;5;28;01mif\u001b[39;00m ioargs.encoding \u001b[38;5;129;01mand\u001b[39;00m \u001b[33m\"\u001b[39m\u001b[33mb\u001b[39m\u001b[33m\"\u001b[39m \u001b[38;5;129;01mnot\u001b[39;00m \u001b[38;5;129;01min\u001b[39;00m ioargs.mode:\n\u001b[32m    872\u001b[39m         \u001b[38;5;66;03m# Encoding\u001b[39;00m\n\u001b[32m--> \u001b[39m\u001b[32m873\u001b[39m         handle = \u001b[38;5;28;43mopen\u001b[39;49m\u001b[43m(\u001b[49m\n\u001b[32m    874\u001b[39m \u001b[43m            \u001b[49m\u001b[43mhandle\u001b[49m\u001b[43m,\u001b[49m\n\u001b[32m    875\u001b[39m \u001b[43m            \u001b[49m\u001b[43mioargs\u001b[49m\u001b[43m.\u001b[49m\u001b[43mmode\u001b[49m\u001b[43m,\u001b[49m\n\u001b[32m    876\u001b[39m \u001b[43m            \u001b[49m\u001b[43mencoding\u001b[49m\u001b[43m=\u001b[49m\u001b[43mioargs\u001b[49m\u001b[43m.\u001b[49m\u001b[43mencoding\u001b[49m\u001b[43m,\u001b[49m\n\u001b[32m    877\u001b[39m \u001b[43m            \u001b[49m\u001b[43merrors\u001b[49m\u001b[43m=\u001b[49m\u001b[43merrors\u001b[49m\u001b[43m,\u001b[49m\n\u001b[32m    878\u001b[39m \u001b[43m            \u001b[49m\u001b[43mnewline\u001b[49m\u001b[43m=\u001b[49m\u001b[33;43m\"\u001b[39;49m\u001b[33;43m\"\u001b[39;49m\u001b[43m,\u001b[49m\n\u001b[32m    879\u001b[39m \u001b[43m        \u001b[49m\u001b[43m)\u001b[49m\n\u001b[32m    880\u001b[39m     \u001b[38;5;28;01melse\u001b[39;00m:\n\u001b[32m    881\u001b[39m         \u001b[38;5;66;03m# Binary mode\u001b[39;00m\n\u001b[32m    882\u001b[39m         handle = \u001b[38;5;28mopen\u001b[39m(handle, ioargs.mode)\n",
      "\u001b[31mFileNotFoundError\u001b[39m: [Errno 2] No such file or directory: 'accepted_2007_to_2018Q4 2.csv'"
     ]
    }
   ],
   "source": [
    "import pandas as pd\n",
    "\n",
    "acc = pd.read_csv('accepted_2007_to_2018Q4 2.csv')\n",
    "\n",
    "print(acc.shape)\n",
    "acc.head()\n"
   ]
  },
  {
   "cell_type": "code",
   "execution_count": null,
   "id": "9e4e1412",
   "metadata": {},
   "outputs": [],
   "source": [
    "# 대출상환 항목 3개만 남기기\n",
    "acc= acc[acc['loan_status'].isin(['Fully Paid', 'Charged Off', 'Default'])].copy()\n"
   ]
  },
  {
   "cell_type": "code",
   "execution_count": null,
   "id": "06787c97",
   "metadata": {},
   "outputs": [],
   "source": [
    "# 대출상환 항목 0,1로 인코딩\n",
    "status_map = {\n",
    "    'Fully Paid': 0,\n",
    "    'Charged Off': 1,\n",
    "    'Default': 1\n",
    "}\n",
    "acc['loan_status'] = acc['loan_status'].map(status_map)"
   ]
  },
  {
   "cell_type": "code",
   "execution_count": 5,
   "id": "50f118a3",
   "metadata": {},
   "outputs": [
    {
     "data": {
      "text/plain": [
       "loan_status\n",
       "0    1076751\n",
       "1     268599\n",
       "Name: count, dtype: int64"
      ]
     },
     "execution_count": 5,
     "metadata": {},
     "output_type": "execute_result"
    }
   ],
   "source": [
    "acc.loan_status.value_counts()"
   ]
  },
  {
   "cell_type": "code",
   "execution_count": null,
   "id": "4b26f0c9",
   "metadata": {},
   "outputs": [],
   "source": [
    "# null 값이 80% 이상인 컬럼 삭제\n",
    "\n",
    "threshold = acc.shape[0] * 0.8               # 기준 만들고\n",
    "cols_to_drop = acc.columns[acc.isnull().sum() > threshold]  # 조건에 맞는 컬럼 추출\n",
    "acc = acc.drop(columns=cols_to_drop)          # 해당 컬럼 삭제\n"
   ]
  },
  {
   "cell_type": "code",
   "execution_count": 7,
   "id": "5373e34b",
   "metadata": {},
   "outputs": [
    {
     "data": {
      "text/plain": [
       "111"
      ]
     },
     "execution_count": 7,
     "metadata": {},
     "output_type": "execute_result"
    }
   ],
   "source": [
    "# 대출상환 상태 0,1로 변경\n",
    "# null값이 80% 이상인 행 삭제\n",
    "\n",
    "len(acc.columns)"
   ]
  },
  {
   "cell_type": "code",
   "execution_count": 8,
   "id": "96275df3",
   "metadata": {},
   "outputs": [
    {
     "data": {
      "text/html": [
       "<div>\n",
       "<style scoped>\n",
       "    .dataframe tbody tr th:only-of-type {\n",
       "        vertical-align: middle;\n",
       "    }\n",
       "\n",
       "    .dataframe tbody tr th {\n",
       "        vertical-align: top;\n",
       "    }\n",
       "\n",
       "    .dataframe thead th {\n",
       "        text-align: right;\n",
       "    }\n",
       "</style>\n",
       "<table border=\"1\" class=\"dataframe\">\n",
       "  <thead>\n",
       "    <tr style=\"text-align: right;\">\n",
       "      <th></th>\n",
       "      <th>loan_amnt</th>\n",
       "      <th>funded_amnt</th>\n",
       "      <th>funded_amnt_inv</th>\n",
       "      <th>int_rate</th>\n",
       "      <th>installment</th>\n",
       "      <th>annual_inc</th>\n",
       "      <th>loan_status</th>\n",
       "      <th>dti</th>\n",
       "      <th>delinq_2yrs</th>\n",
       "      <th>fico_range_low</th>\n",
       "      <th>...</th>\n",
       "      <th>num_tl_90g_dpd_24m</th>\n",
       "      <th>num_tl_op_past_12m</th>\n",
       "      <th>pct_tl_nvr_dlq</th>\n",
       "      <th>percent_bc_gt_75</th>\n",
       "      <th>pub_rec_bankruptcies</th>\n",
       "      <th>tax_liens</th>\n",
       "      <th>tot_hi_cred_lim</th>\n",
       "      <th>total_bal_ex_mort</th>\n",
       "      <th>total_bc_limit</th>\n",
       "      <th>total_il_high_credit_limit</th>\n",
       "    </tr>\n",
       "  </thead>\n",
       "  <tbody>\n",
       "    <tr>\n",
       "      <th>0</th>\n",
       "      <td>3600.0</td>\n",
       "      <td>3600.0</td>\n",
       "      <td>3600.0</td>\n",
       "      <td>13.99</td>\n",
       "      <td>123.03</td>\n",
       "      <td>55000.0</td>\n",
       "      <td>0</td>\n",
       "      <td>5.91</td>\n",
       "      <td>0.0</td>\n",
       "      <td>675.0</td>\n",
       "      <td>...</td>\n",
       "      <td>0.0</td>\n",
       "      <td>3.0</td>\n",
       "      <td>76.9</td>\n",
       "      <td>0.0</td>\n",
       "      <td>0.0</td>\n",
       "      <td>0.0</td>\n",
       "      <td>178050.0</td>\n",
       "      <td>7746.0</td>\n",
       "      <td>2400.0</td>\n",
       "      <td>13734.0</td>\n",
       "    </tr>\n",
       "    <tr>\n",
       "      <th>1</th>\n",
       "      <td>24700.0</td>\n",
       "      <td>24700.0</td>\n",
       "      <td>24700.0</td>\n",
       "      <td>11.99</td>\n",
       "      <td>820.28</td>\n",
       "      <td>65000.0</td>\n",
       "      <td>0</td>\n",
       "      <td>16.06</td>\n",
       "      <td>1.0</td>\n",
       "      <td>715.0</td>\n",
       "      <td>...</td>\n",
       "      <td>0.0</td>\n",
       "      <td>2.0</td>\n",
       "      <td>97.4</td>\n",
       "      <td>7.7</td>\n",
       "      <td>0.0</td>\n",
       "      <td>0.0</td>\n",
       "      <td>314017.0</td>\n",
       "      <td>39475.0</td>\n",
       "      <td>79300.0</td>\n",
       "      <td>24667.0</td>\n",
       "    </tr>\n",
       "    <tr>\n",
       "      <th>2</th>\n",
       "      <td>20000.0</td>\n",
       "      <td>20000.0</td>\n",
       "      <td>20000.0</td>\n",
       "      <td>10.78</td>\n",
       "      <td>432.66</td>\n",
       "      <td>63000.0</td>\n",
       "      <td>0</td>\n",
       "      <td>10.78</td>\n",
       "      <td>0.0</td>\n",
       "      <td>695.0</td>\n",
       "      <td>...</td>\n",
       "      <td>0.0</td>\n",
       "      <td>0.0</td>\n",
       "      <td>100.0</td>\n",
       "      <td>50.0</td>\n",
       "      <td>0.0</td>\n",
       "      <td>0.0</td>\n",
       "      <td>218418.0</td>\n",
       "      <td>18696.0</td>\n",
       "      <td>6200.0</td>\n",
       "      <td>14877.0</td>\n",
       "    </tr>\n",
       "    <tr>\n",
       "      <th>4</th>\n",
       "      <td>10400.0</td>\n",
       "      <td>10400.0</td>\n",
       "      <td>10400.0</td>\n",
       "      <td>22.45</td>\n",
       "      <td>289.91</td>\n",
       "      <td>104433.0</td>\n",
       "      <td>0</td>\n",
       "      <td>25.37</td>\n",
       "      <td>1.0</td>\n",
       "      <td>695.0</td>\n",
       "      <td>...</td>\n",
       "      <td>0.0</td>\n",
       "      <td>4.0</td>\n",
       "      <td>96.6</td>\n",
       "      <td>60.0</td>\n",
       "      <td>0.0</td>\n",
       "      <td>0.0</td>\n",
       "      <td>439570.0</td>\n",
       "      <td>95768.0</td>\n",
       "      <td>20300.0</td>\n",
       "      <td>88097.0</td>\n",
       "    </tr>\n",
       "    <tr>\n",
       "      <th>5</th>\n",
       "      <td>11950.0</td>\n",
       "      <td>11950.0</td>\n",
       "      <td>11950.0</td>\n",
       "      <td>13.44</td>\n",
       "      <td>405.18</td>\n",
       "      <td>34000.0</td>\n",
       "      <td>0</td>\n",
       "      <td>10.20</td>\n",
       "      <td>0.0</td>\n",
       "      <td>690.0</td>\n",
       "      <td>...</td>\n",
       "      <td>0.0</td>\n",
       "      <td>0.0</td>\n",
       "      <td>100.0</td>\n",
       "      <td>100.0</td>\n",
       "      <td>0.0</td>\n",
       "      <td>0.0</td>\n",
       "      <td>16900.0</td>\n",
       "      <td>12798.0</td>\n",
       "      <td>9400.0</td>\n",
       "      <td>4000.0</td>\n",
       "    </tr>\n",
       "    <tr>\n",
       "      <th>...</th>\n",
       "      <td>...</td>\n",
       "      <td>...</td>\n",
       "      <td>...</td>\n",
       "      <td>...</td>\n",
       "      <td>...</td>\n",
       "      <td>...</td>\n",
       "      <td>...</td>\n",
       "      <td>...</td>\n",
       "      <td>...</td>\n",
       "      <td>...</td>\n",
       "      <td>...</td>\n",
       "      <td>...</td>\n",
       "      <td>...</td>\n",
       "      <td>...</td>\n",
       "      <td>...</td>\n",
       "      <td>...</td>\n",
       "      <td>...</td>\n",
       "      <td>...</td>\n",
       "      <td>...</td>\n",
       "      <td>...</td>\n",
       "      <td>...</td>\n",
       "    </tr>\n",
       "    <tr>\n",
       "      <th>2260688</th>\n",
       "      <td>18000.0</td>\n",
       "      <td>18000.0</td>\n",
       "      <td>18000.0</td>\n",
       "      <td>9.49</td>\n",
       "      <td>377.95</td>\n",
       "      <td>130000.0</td>\n",
       "      <td>0</td>\n",
       "      <td>20.59</td>\n",
       "      <td>0.0</td>\n",
       "      <td>735.0</td>\n",
       "      <td>...</td>\n",
       "      <td>0.0</td>\n",
       "      <td>0.0</td>\n",
       "      <td>100.0</td>\n",
       "      <td>33.3</td>\n",
       "      <td>0.0</td>\n",
       "      <td>0.0</td>\n",
       "      <td>275356.0</td>\n",
       "      <td>54349.0</td>\n",
       "      <td>13100.0</td>\n",
       "      <td>77756.0</td>\n",
       "    </tr>\n",
       "    <tr>\n",
       "      <th>2260690</th>\n",
       "      <td>29400.0</td>\n",
       "      <td>29400.0</td>\n",
       "      <td>29400.0</td>\n",
       "      <td>13.99</td>\n",
       "      <td>683.94</td>\n",
       "      <td>180792.0</td>\n",
       "      <td>0</td>\n",
       "      <td>22.03</td>\n",
       "      <td>0.0</td>\n",
       "      <td>705.0</td>\n",
       "      <td>...</td>\n",
       "      <td>0.0</td>\n",
       "      <td>2.0</td>\n",
       "      <td>100.0</td>\n",
       "      <td>42.9</td>\n",
       "      <td>0.0</td>\n",
       "      <td>0.0</td>\n",
       "      <td>719056.0</td>\n",
       "      <td>148305.0</td>\n",
       "      <td>56500.0</td>\n",
       "      <td>95702.0</td>\n",
       "    </tr>\n",
       "    <tr>\n",
       "      <th>2260691</th>\n",
       "      <td>32000.0</td>\n",
       "      <td>32000.0</td>\n",
       "      <td>32000.0</td>\n",
       "      <td>14.49</td>\n",
       "      <td>752.74</td>\n",
       "      <td>157000.0</td>\n",
       "      <td>1</td>\n",
       "      <td>10.34</td>\n",
       "      <td>0.0</td>\n",
       "      <td>735.0</td>\n",
       "      <td>...</td>\n",
       "      <td>0.0</td>\n",
       "      <td>2.0</td>\n",
       "      <td>100.0</td>\n",
       "      <td>0.0</td>\n",
       "      <td>0.0</td>\n",
       "      <td>0.0</td>\n",
       "      <td>524379.0</td>\n",
       "      <td>122872.0</td>\n",
       "      <td>15800.0</td>\n",
       "      <td>23879.0</td>\n",
       "    </tr>\n",
       "    <tr>\n",
       "      <th>2260692</th>\n",
       "      <td>16000.0</td>\n",
       "      <td>16000.0</td>\n",
       "      <td>16000.0</td>\n",
       "      <td>12.79</td>\n",
       "      <td>362.34</td>\n",
       "      <td>150000.0</td>\n",
       "      <td>0</td>\n",
       "      <td>12.25</td>\n",
       "      <td>0.0</td>\n",
       "      <td>665.0</td>\n",
       "      <td>...</td>\n",
       "      <td>0.0</td>\n",
       "      <td>2.0</td>\n",
       "      <td>92.0</td>\n",
       "      <td>50.0</td>\n",
       "      <td>3.0</td>\n",
       "      <td>0.0</td>\n",
       "      <td>87473.0</td>\n",
       "      <td>65797.0</td>\n",
       "      <td>10100.0</td>\n",
       "      <td>73473.0</td>\n",
       "    </tr>\n",
       "    <tr>\n",
       "      <th>2260697</th>\n",
       "      <td>24000.0</td>\n",
       "      <td>24000.0</td>\n",
       "      <td>24000.0</td>\n",
       "      <td>14.49</td>\n",
       "      <td>564.56</td>\n",
       "      <td>110000.0</td>\n",
       "      <td>1</td>\n",
       "      <td>18.30</td>\n",
       "      <td>0.0</td>\n",
       "      <td>660.0</td>\n",
       "      <td>...</td>\n",
       "      <td>0.0</td>\n",
       "      <td>1.0</td>\n",
       "      <td>96.2</td>\n",
       "      <td>40.0</td>\n",
       "      <td>1.0</td>\n",
       "      <td>0.0</td>\n",
       "      <td>84664.0</td>\n",
       "      <td>62426.0</td>\n",
       "      <td>20700.0</td>\n",
       "      <td>58764.0</td>\n",
       "    </tr>\n",
       "  </tbody>\n",
       "</table>\n",
       "<p>1345350 rows × 88 columns</p>\n",
       "</div>"
      ],
      "text/plain": [
       "         loan_amnt  funded_amnt  funded_amnt_inv  int_rate  installment  \\\n",
       "0           3600.0       3600.0           3600.0     13.99       123.03   \n",
       "1          24700.0      24700.0          24700.0     11.99       820.28   \n",
       "2          20000.0      20000.0          20000.0     10.78       432.66   \n",
       "4          10400.0      10400.0          10400.0     22.45       289.91   \n",
       "5          11950.0      11950.0          11950.0     13.44       405.18   \n",
       "...            ...          ...              ...       ...          ...   \n",
       "2260688    18000.0      18000.0          18000.0      9.49       377.95   \n",
       "2260690    29400.0      29400.0          29400.0     13.99       683.94   \n",
       "2260691    32000.0      32000.0          32000.0     14.49       752.74   \n",
       "2260692    16000.0      16000.0          16000.0     12.79       362.34   \n",
       "2260697    24000.0      24000.0          24000.0     14.49       564.56   \n",
       "\n",
       "         annual_inc  loan_status    dti  delinq_2yrs  fico_range_low  ...  \\\n",
       "0           55000.0            0   5.91          0.0           675.0  ...   \n",
       "1           65000.0            0  16.06          1.0           715.0  ...   \n",
       "2           63000.0            0  10.78          0.0           695.0  ...   \n",
       "4          104433.0            0  25.37          1.0           695.0  ...   \n",
       "5           34000.0            0  10.20          0.0           690.0  ...   \n",
       "...             ...          ...    ...          ...             ...  ...   \n",
       "2260688    130000.0            0  20.59          0.0           735.0  ...   \n",
       "2260690    180792.0            0  22.03          0.0           705.0  ...   \n",
       "2260691    157000.0            1  10.34          0.0           735.0  ...   \n",
       "2260692    150000.0            0  12.25          0.0           665.0  ...   \n",
       "2260697    110000.0            1  18.30          0.0           660.0  ...   \n",
       "\n",
       "         num_tl_90g_dpd_24m  num_tl_op_past_12m  pct_tl_nvr_dlq  \\\n",
       "0                       0.0                 3.0            76.9   \n",
       "1                       0.0                 2.0            97.4   \n",
       "2                       0.0                 0.0           100.0   \n",
       "4                       0.0                 4.0            96.6   \n",
       "5                       0.0                 0.0           100.0   \n",
       "...                     ...                 ...             ...   \n",
       "2260688                 0.0                 0.0           100.0   \n",
       "2260690                 0.0                 2.0           100.0   \n",
       "2260691                 0.0                 2.0           100.0   \n",
       "2260692                 0.0                 2.0            92.0   \n",
       "2260697                 0.0                 1.0            96.2   \n",
       "\n",
       "         percent_bc_gt_75  pub_rec_bankruptcies  tax_liens  tot_hi_cred_lim  \\\n",
       "0                     0.0                   0.0        0.0         178050.0   \n",
       "1                     7.7                   0.0        0.0         314017.0   \n",
       "2                    50.0                   0.0        0.0         218418.0   \n",
       "4                    60.0                   0.0        0.0         439570.0   \n",
       "5                   100.0                   0.0        0.0          16900.0   \n",
       "...                   ...                   ...        ...              ...   \n",
       "2260688              33.3                   0.0        0.0         275356.0   \n",
       "2260690              42.9                   0.0        0.0         719056.0   \n",
       "2260691               0.0                   0.0        0.0         524379.0   \n",
       "2260692              50.0                   3.0        0.0          87473.0   \n",
       "2260697              40.0                   1.0        0.0          84664.0   \n",
       "\n",
       "         total_bal_ex_mort  total_bc_limit  total_il_high_credit_limit  \n",
       "0                   7746.0          2400.0                     13734.0  \n",
       "1                  39475.0         79300.0                     24667.0  \n",
       "2                  18696.0          6200.0                     14877.0  \n",
       "4                  95768.0         20300.0                     88097.0  \n",
       "5                  12798.0          9400.0                      4000.0  \n",
       "...                    ...             ...                         ...  \n",
       "2260688            54349.0         13100.0                     77756.0  \n",
       "2260690           148305.0         56500.0                     95702.0  \n",
       "2260691           122872.0         15800.0                     23879.0  \n",
       "2260692            65797.0         10100.0                     73473.0  \n",
       "2260697            62426.0         20700.0                     58764.0  \n",
       "\n",
       "[1345350 rows x 88 columns]"
      ]
     },
     "execution_count": 8,
     "metadata": {},
     "output_type": "execute_result"
    }
   ],
   "source": [
    "acc.select_dtypes(include='number')"
   ]
  },
  {
   "cell_type": "code",
   "execution_count": null,
   "id": "25a4a710",
   "metadata": {},
   "outputs": [],
   "source": [
    "# 논문 참고하여 칼럼 셀렉\n",
    "\n",
    "columns_to_keep = [\n",
    "    'loan_amnt', 'term', 'int_rate', 'installment', 'grade',\n",
    "    'emp_title', 'emp_length', 'home_ownership', 'annual_inc',\n",
    "    'verification_status', 'purpose', 'dti', 'open_acc', 'revol_bal',\n",
    "    'revol_util', 'total_acc', 'loan_status', 'pub_rec',\n",
    "    'pub_rec_bankruptcies', 'mort_acc', 'inq_last_6mths',\n",
    "    'inq_last_12m', 'num_bc_tl', 'num_actv_bc_tl'\n",
    "]\n",
    "\n",
    "acc = acc[columns_to_keep]\n"
   ]
  },
  {
   "cell_type": "code",
   "execution_count": null,
   "id": "14450bec",
   "metadata": {},
   "outputs": [
    {
     "data": {
      "text/plain": [
       "Index(['loan_amnt', 'int_rate', 'installment', 'annual_inc', 'dti', 'open_acc',\n",
       "       'revol_bal', 'revol_util', 'total_acc', 'loan_status', 'pub_rec',\n",
       "       'pub_rec_bankruptcies', 'mort_acc', 'inq_last_6mths', 'inq_last_12m',\n",
       "       'num_bc_tl', 'num_actv_bc_tl'],\n",
       "      dtype='object')"
      ]
     },
     "execution_count": 17,
     "metadata": {},
     "output_type": "execute_result"
    }
   ],
   "source": [
    "# 숫자형\n",
    "\n",
    "acc.select_dtypes(include='number').columns"
   ]
  },
  {
   "cell_type": "code",
   "execution_count": null,
   "id": "2d5fa529",
   "metadata": {},
   "outputs": [
    {
     "data": {
      "text/plain": [
       "Index(['term', 'grade', 'emp_title', 'emp_length', 'home_ownership',\n",
       "       'verification_status', 'purpose'],\n",
       "      dtype='object')"
      ]
     },
     "execution_count": 18,
     "metadata": {},
     "output_type": "execute_result"
    }
   ],
   "source": [
    "# 범주형\n",
    "\n",
    "acc.select_dtypes(exclude='number').columns"
   ]
  },
  {
   "cell_type": "code",
   "execution_count": null,
   "id": "fe9765ff",
   "metadata": {},
   "outputs": [
    {
     "data": {
      "text/plain": [
       "loan_amnt                    0\n",
       "int_rate                     0\n",
       "installment                  0\n",
       "annual_inc                   0\n",
       "dti                        374\n",
       "open_acc                     0\n",
       "revol_bal                    0\n",
       "revol_util                 857\n",
       "total_acc                    0\n",
       "loan_status                  0\n",
       "pub_rec                      0\n",
       "pub_rec_bankruptcies       697\n",
       "mort_acc                 47281\n",
       "inq_last_6mths               1\n",
       "inq_last_12m            807715\n",
       "num_bc_tl                67527\n",
       "num_actv_bc_tl           67527\n",
       "dtype: int64"
      ]
     },
     "execution_count": 19,
     "metadata": {},
     "output_type": "execute_result"
    }
   ],
   "source": [
    "# 숫자형 null 값 개수 확인\n",
    "\n",
    "acc.select_dtypes(include='number').isnull().sum()"
   ]
  },
  {
   "cell_type": "code",
   "execution_count": 72,
   "id": "83363234",
   "metadata": {},
   "outputs": [
    {
     "name": "stdout",
     "output_type": "stream",
     "text": [
      "이상치 개수:  5473\n",
      "해당 칼럼 전체 개수:  1345350\n",
      "이상치 비율:  0.41 %\n"
     ]
    }
   ],
   "source": [
    "# dti 의 이상치 개수 5473 _ IQR 사용 \n",
    "\n",
    "Q1 = acc['dti'].quantile(0.25)\n",
    "Q3 = acc['dti'].quantile(0.75)\n",
    "IQR = Q3 - Q1\n",
    "\n",
    "lower_bound = Q1 - 1.5 * IQR\n",
    "upper_bound = Q3 + 1.5 * IQR\n",
    "\n",
    "# 이상치만 추출\n",
    "outliers_dti = acc[(acc['dti'] < lower_bound) | (acc['dti'] > upper_bound)]\n",
    "\n",
    "print('이상치 개수: ' , len(outliers_dti))\n",
    "print('해당 칼럼 전체 개수: ', len(acc.dti))\n",
    "print('이상치 비율: ', round(len(outliers_dti) / len(acc.dti) * 100 , 2), '%' )\n"
   ]
  },
  {
   "cell_type": "code",
   "execution_count": 73,
   "id": "37b7188c",
   "metadata": {},
   "outputs": [
    {
     "name": "stdout",
     "output_type": "stream",
     "text": [
      "이상치 개수:  72\n",
      "해당 칼럼 전체 개수:  1345350\n",
      "이상치 비율:  0.01 %\n"
     ]
    }
   ],
   "source": [
    "# revol_util 이상치\n",
    "\n",
    "Q1 = acc['revol_util'].quantile(0.25)\n",
    "Q3 = acc['revol_util'].quantile(0.75)\n",
    "IQR = Q3 - Q1\n",
    "\n",
    "lower_bound = Q1 - 1.5 * IQR\n",
    "upper_bound = Q3 + 1.5 * IQR\n",
    "\n",
    "# 이상치만 추출\n",
    "outliers_revol_util = acc[(acc['revol_util'] < lower_bound) | (acc['revol_util'] > upper_bound)]\n",
    "\n",
    "print('이상치 개수: ' , len(outliers_revol_util))\n",
    "print('해당 칼럼 전체 개수: ', len(acc.revol_util))\n",
    "print('이상치 비율: ', round(len(outliers_revol_util) / len(acc.revol_util) * 100 , 2), '%' )\n",
    "\n"
   ]
  },
  {
   "cell_type": "code",
   "execution_count": 74,
   "id": "a7cf8aaa",
   "metadata": {},
   "outputs": [
    {
     "name": "stdout",
     "output_type": "stream",
     "text": [
      "이상치 개수:  167666\n",
      "해당 칼럼 전체 개수:  1345350\n",
      "이상치 비율:  12.46 %\n"
     ]
    }
   ],
   "source": [
    "# pub_rec_bankruptcies(파산 기록수) 이상치\n",
    "\n",
    "Q1 = acc['pub_rec_bankruptcies'].quantile(0.25)\n",
    "Q3 = acc['pub_rec_bankruptcies'].quantile(0.75)\n",
    "IQR = Q3 - Q1\n",
    "\n",
    "lower_bound = Q1 - 1.5 * IQR\n",
    "upper_bound = Q3 + 1.5 * IQR\n",
    "\n",
    "# 이상치만 추출\n",
    "outliers_rec_bnkrcys = acc[(acc['pub_rec_bankruptcies'] < lower_bound) | (acc['pub_rec_bankruptcies'] > upper_bound)]\n",
    "\n",
    "print('이상치 개수: ' , len(outliers_rec_bnkrcys))\n",
    "print('해당 칼럼 전체 개수: ', len(acc.pub_rec_bankruptcies))\n",
    "print('이상치 비율: ', round(len(outliers_rec_bnkrcys) / len(acc.pub_rec_bankruptcies) * 100 , 2), '%' )"
   ]
  },
  {
   "cell_type": "code",
   "execution_count": 75,
   "id": "92a6e50e",
   "metadata": {},
   "outputs": [
    {
     "name": "stdout",
     "output_type": "stream",
     "text": [
      "이상치 개수:  17794\n",
      "해당 칼럼 전체 개수:  1345350\n",
      "이상치 비율:  1.32 %\n"
     ]
    }
   ],
   "source": [
    "# mort_acc 이상치\n",
    "\n",
    "Q1 = acc['mort_acc'].quantile(0.25)\n",
    "Q3 = acc['mort_acc'].quantile(0.75)\n",
    "IQR = Q3 - Q1\n",
    "\n",
    "lower_bound = Q1 - 1.5 * IQR\n",
    "upper_bound = Q3 + 1.5 * IQR\n",
    "\n",
    "# 이상치만 추출\n",
    "outliers_mort_acc = acc[(acc['mort_acc'] < lower_bound) | (acc['mort_acc'] > upper_bound)]\n",
    "\n",
    "print('이상치 개수: ' , len(outliers_mort_acc))\n",
    "print('해당 칼럼 전체 개수: ', len(acc.mort_acc))\n",
    "print('이상치 비율: ', round(len(outliers_mort_acc) / len(acc.mort_acc) * 100 , 2), '%' )"
   ]
  },
  {
   "cell_type": "code",
   "execution_count": 76,
   "id": "1e3fabd5",
   "metadata": {},
   "outputs": [
    {
     "name": "stdout",
     "output_type": "stream",
     "text": [
      "이상치 개수:  34344\n",
      "해당 칼럼 전체 개수:  1345350\n",
      "이상치 비율:  2.55 %\n"
     ]
    }
   ],
   "source": [
    "# inq_last_12m 이상치\n",
    "\n",
    "Q1 = acc['inq_last_12m'].quantile(0.25)\n",
    "Q3 = acc['inq_last_12m'].quantile(0.75)\n",
    "IQR = Q3 - Q1\n",
    "\n",
    "lower_bound = Q1 - 1.5 * IQR\n",
    "upper_bound = Q3 + 1.5 * IQR\n",
    "\n",
    "# 이상치만 추출\n",
    "outliers_inq_last_12m = acc[(acc['inq_last_12m'] < lower_bound) | (acc['inq_last_12m'] > upper_bound)]\n",
    "\n",
    "print('이상치 개수: ' , len(outliers_inq_last_12m))\n",
    "print('해당 칼럼 전체 개수: ', len(acc.inq_last_12m))\n",
    "print('이상치 비율: ', round(len(outliers_inq_last_12m) / len(acc.inq_last_12m) * 100 , 2), '%' )"
   ]
  },
  {
   "cell_type": "code",
   "execution_count": 77,
   "id": "3c5931ba",
   "metadata": {},
   "outputs": [
    {
     "name": "stdout",
     "output_type": "stream",
     "text": [
      "이상치 개수:  27144\n",
      "해당 칼럼 전체 개수:  1345350\n",
      "이상치 비율:  2.02 %\n"
     ]
    }
   ],
   "source": [
    "# num_bc_tl 이상치\n",
    "\n",
    "Q1 = acc['num_bc_tl'].quantile(0.25)\n",
    "Q3 = acc['num_bc_tl'].quantile(0.75)\n",
    "IQR = Q3 - Q1\n",
    "\n",
    "lower_bound = Q1 - 1.5 * IQR\n",
    "upper_bound = Q3 + 1.5 * IQR\n",
    "\n",
    "# 이상치만 추출\n",
    "outliers_num_bc_tl = acc[(acc['num_bc_tl'] < lower_bound) | (acc['num_bc_tl'] > upper_bound)]\n",
    "\n",
    "print('이상치 개수: ' , len(outliers_num_bc_tl))\n",
    "print('해당 칼럼 전체 개수: ', len(acc.num_bc_tl))\n",
    "print('이상치 비율: ', round(len(outliers_num_bc_tl) / len(acc.num_bc_tl) * 100 , 2), '%' )"
   ]
  },
  {
   "cell_type": "code",
   "execution_count": 78,
   "id": "cf5421ef",
   "metadata": {},
   "outputs": [
    {
     "name": "stdout",
     "output_type": "stream",
     "text": [
      "이상치 개수:  26648\n",
      "해당 칼럼 전체 개수:  1345350\n",
      "이상치 비율:  1.98 %\n"
     ]
    }
   ],
   "source": [
    "# num_actv_bc_tl 이상치\n",
    "\n",
    "Q1 = acc['num_actv_bc_tl'].quantile(0.25)\n",
    "Q3 = acc['num_actv_bc_tl'].quantile(0.75)\n",
    "IQR = Q3 - Q1\n",
    "\n",
    "lower_bound = Q1 - 1.5 * IQR\n",
    "upper_bound = Q3 + 1.5 * IQR\n",
    "\n",
    "# 이상치만 추출\n",
    "outliers_num_actv_bc_tl = acc[(acc['num_actv_bc_tl'] < lower_bound) | (acc['num_actv_bc_tl'] > upper_bound)]\n",
    "\n",
    "print('이상치 개수: ' , len(outliers_num_actv_bc_tl))\n",
    "print('해당 칼럼 전체 개수: ', len(acc.num_actv_bc_tl))\n",
    "print('이상치 비율: ', round(len(outliers_num_actv_bc_tl) / len(acc.num_actv_bc_tl) * 100 , 2), '%' )"
   ]
  },
  {
   "cell_type": "code",
   "execution_count": 79,
   "id": "b24a070d",
   "metadata": {},
   "outputs": [],
   "source": [
    "# 이상치 지울 데이터 따로 만들기\n",
    "\n",
    "acc_ver2 = acc.copy()"
   ]
  },
  {
   "cell_type": "markdown",
   "id": "2751a435",
   "metadata": {},
   "source": []
  },
  {
   "cell_type": "code",
   "execution_count": null,
   "id": "e216c820",
   "metadata": {},
   "outputs": [
    {
     "data": {
      "text/plain": [
       "loan_amnt                    0\n",
       "int_rate                     0\n",
       "installment                  0\n",
       "annual_inc                   0\n",
       "dti                        374\n",
       "open_acc                     0\n",
       "revol_bal                    0\n",
       "revol_util                 857\n",
       "total_acc                    0\n",
       "loan_status                  0\n",
       "pub_rec                      0\n",
       "pub_rec_bankruptcies       697\n",
       "mort_acc                 47281\n",
       "inq_last_6mths               1\n",
       "inq_last_12m            807715\n",
       "num_bc_tl                67527\n",
       "num_actv_bc_tl           67527\n",
       "dtype: int64"
      ]
     },
     "execution_count": 104,
     "metadata": {},
     "output_type": "execute_result"
    }
   ],
   "source": [
    "### ver2 데이터에서 이상치 모두 제거하기\n",
    "\n",
    "# 이상치 하나로 모으기\n",
    "                                                                                                                                                                                                                                                                                                                                                                                                                                                                                                                   \n",
    "outliers_all = [outliers_dti,\n",
    "    outliers_revol_util,\n",
    "    outliers_rec_bnkrcys,\n",
    "    outliers_mort_acc,\n",
    "    outliers_inq_last_12m,\n",
    "    outliers_num_bc_tl,\n",
    "    outliers_num_actv_bc_tl\n",
    "]\n",
    "\n",
    "# 이상치 데이터 하나로 합치기\n",
    "outliers_all = pd.concat(outliers_all)\n",
    "\n",
    "# 중복된 인덱스 제거 (선택사항이지만 코드 정돈을 위해)\n",
    "outliers_all = outliers_all[~outliers_all.index.duplicated(keep='first')]\n",
    "\n",
    "# 기존 데이터(acc_ver2)에서 이상치 제거한 새 데이터 만들기\n",
    "acc_cleaned = acc_ver2.drop(index=outliers_all.index).reset_index(drop=True)\n",
    "\n",
    "# 이상치 제거 후 null 값 개수 확인\n",
    "acc.select_dtypes(include='number').isnull().sum()\n",
    "\n"
   ]
  },
  {
   "cell_type": "code",
   "execution_count": 117,
   "id": "5cd2688f",
   "metadata": {},
   "outputs": [
    {
     "name": "stdout",
     "output_type": "stream",
     "text": [
      "dti null 값 비율:  0.02893\n"
     ]
    }
   ],
   "source": [
    "dti_rate = round(acc_cleaned.dti.isnull().sum() / acc_cleaned.dti.shape[0] * 100 ,5)\n",
    "print('dti null 값 비율: ' , dti_rate)"
   ]
  },
  {
   "cell_type": "code",
   "execution_count": 118,
   "id": "31a9c3f4",
   "metadata": {},
   "outputs": [
    {
     "name": "stdout",
     "output_type": "stream",
     "text": [
      "revol_util null 값 비율:  0.07387\n"
     ]
    }
   ],
   "source": [
    "revol_util_rate = round(acc_cleaned.revol_util.isnull().sum() / acc_cleaned.revol_util.shape[0] * 100 ,5)\n",
    "print('revol_util null 값 비율: ' , revol_util_rate)"
   ]
  },
  {
   "cell_type": "code",
   "execution_count": 119,
   "id": "c9f9c47c",
   "metadata": {},
   "outputs": [
    {
     "name": "stdout",
     "output_type": "stream",
     "text": [
      "pub_rec_bankruptcies null 값 비율:  0.0638\n"
     ]
    }
   ],
   "source": [
    "pub_rec_bankruptcies_rate = round(acc_cleaned.pub_rec_bankruptcies.isnull().sum() / acc_cleaned.pub_rec_bankruptcies.shape[0] * 100 ,5)\n",
    "print('pub_rec_bankruptcies null 값 비율: ' , pub_rec_bankruptcies_rate)"
   ]
  },
  {
   "cell_type": "code",
   "execution_count": 120,
   "id": "e1563e01",
   "metadata": {},
   "outputs": [
    {
     "name": "stdout",
     "output_type": "stream",
     "text": [
      "mort_acc null 값 비율:  4.15554\n"
     ]
    }
   ],
   "source": [
    "mort_acc_rate = round(acc_cleaned.mort_acc.isnull().sum() / acc_cleaned.mort_acc.shape[0] * 100 ,5)\n",
    "print('mort_acc null 값 비율: ' , mort_acc_rate)"
   ]
  },
  {
   "cell_type": "code",
   "execution_count": 121,
   "id": "dfe18884",
   "metadata": {},
   "outputs": [
    {
     "name": "stdout",
     "output_type": "stream",
     "text": [
      "inq_last_12m null 값 비율:  62.41306\n"
     ]
    }
   ],
   "source": [
    "inq_last_12m_rate = round(acc_cleaned.inq_last_12m.isnull().sum() / acc_cleaned.inq_last_12m.shape[0] * 100 ,5)\n",
    "print('inq_last_12m null 값 비율: ' , inq_last_12m_rate)"
   ]
  },
  {
   "cell_type": "code",
   "execution_count": 122,
   "id": "8fcafac9",
   "metadata": {},
   "outputs": [
    {
     "name": "stdout",
     "output_type": "stream",
     "text": [
      "num_bc_tl null 값 비율:  5.92643\n"
     ]
    }
   ],
   "source": [
    "num_bc_tl_rate = round(acc_cleaned.num_bc_tl.isnull().sum() / acc_cleaned.num_bc_tl.shape[0] * 100 ,5)\n",
    "print('num_bc_tl null 값 비율: ' , num_bc_tl_rate)"
   ]
  },
  {
   "cell_type": "code",
   "execution_count": 123,
   "id": "adcd1c5e",
   "metadata": {},
   "outputs": [
    {
     "name": "stdout",
     "output_type": "stream",
     "text": [
      "num_actv_bc_tl null 값 비율:  5.92643\n"
     ]
    }
   ],
   "source": [
    "num_actv_bc_tl_rate = round(acc_cleaned.num_actv_bc_tl.isnull().sum() / acc_cleaned.num_actv_bc_tl.shape[0] * 100 ,5)\n",
    "print('num_actv_bc_tl null 값 비율: ' , num_actv_bc_tl_rate)"
   ]
  },
  {
   "cell_type": "code",
   "execution_count": null,
   "id": "d6a327ff",
   "metadata": {},
   "outputs": [],
   "source": []
  }
 ],
 "metadata": {
  "kernelspec": {
   "display_name": "Python 3",
   "language": "python",
   "name": "python3"
  },
  "language_info": {
   "codemirror_mode": {
    "name": "ipython",
    "version": 3
   },
   "file_extension": ".py",
   "mimetype": "text/x-python",
   "name": "python",
   "nbconvert_exporter": "python",
   "pygments_lexer": "ipython3",
   "version": "3.13.3"
  }
 },
 "nbformat": 4,
 "nbformat_minor": 5
}
